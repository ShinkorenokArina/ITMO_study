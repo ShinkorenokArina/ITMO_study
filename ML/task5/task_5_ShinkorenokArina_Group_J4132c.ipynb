{
  "nbformat": 4,
  "nbformat_minor": 0,
  "metadata": {
    "colab": {
      "provenance": []
    },
    "kernelspec": {
      "name": "python3",
      "display_name": "Python 3"
    },
    "language_info": {
      "name": "python"
    }
  },
  "cells": [
    {
      "cell_type": "markdown",
      "source": [
        "# Task 5\n",
        "\n",
        "## Done by Arina Shinkorenok, group j4132c\n",
        "\n",
        "**Description:**\n",
        "\n",
        "Data:\n",
        "https://drive.google.com/drive/folders/1nzVk4GOvKR6P87uPszUkKMPtaXV_wrZf?usp=sharing\n",
        "\n",
        "Fill all the necessary gaps in CNN_and_Transfer_Learning.ipynb and fit neural networks for solving the binary classification task.\n",
        "\n",
        "Part 1:\n",
        "\n",
        "1. Build and fit CNN with 3 convolutional layers for binary classification\n",
        "2. Evaluate accuracy on test data\n",
        "3. Plot the graphs for Loss(number_of_epochs) and Accuracy(number_of_epochs)\n",
        "\n",
        "Part 2:\n",
        "\n",
        "1. Build and fit Transfer Learning model using pre-trained VGG16-model weights from keras application.\n",
        "2. Do the same with one more avaliable pre-trained deep learning model from keras application, for example Xception - https://keras.io/api/applications/.\n",
        "2. Evaluate accuracy on test data for p.1 and p.2\n",
        "3. Plot the graphs for Loss(number_of_epochs) and Accuracy(number_of_epochs)\n",
        "4. Check the performance of your model with the custom image of cat or dog (so the model will tell which class this image belongs to). Develop the function for the inference of the best algorithm.\n",
        "\n",
        "Part 3:\n",
        "\n",
        "Train the DL model with the highest possible accuracy on test data. You may experiment with any architecture and / or ensemble of models on your own choice (not limited to keras.io/api/applications).\n",
        "The student, whose model will have the highest score, will get “5A” mark for the MLT Exam automatically.\n"
      ],
      "metadata": {
        "id": "cRTIfXHCC93j"
      }
    },
    {
      "cell_type": "markdown",
      "source": [
        "## Convolutional Neural Network"
      ],
      "metadata": {
        "id": "XBhb_xU3Ilem"
      }
    },
    {
      "cell_type": "markdown",
      "source": [
        "# Part 1\n",
        "\n",
        "1. Build and fit CNN with 3 convolutional layers for binary classification\n",
        "2. Evaluate accuracy on test data\n",
        "3. Plot the graphs for Loss(number_of_epochs) and Accuracy(number_of_epochs)"
      ],
      "metadata": {
        "id": "7UFd0YDwIqmM"
      }
    },
    {
      "cell_type": "code",
      "source": [
        "from keras.models import Sequential\n",
        "from keras.layers import Activation, Dropout, Flatten, Dense, Conv2D, MaxPooling2D\n",
        "from keras.applications import VGG16\n",
        "from keras.optimizers import Adam\n",
        "from keras.preprocessing.image import ImageDataGenerator\n",
        "import matplotlib.image as mpimg\n",
        "import matplotlib.pyplot as plt\n",
        "# from tensorflow.keras.layers.experimental import preprocessing\n",
        "\n",
        "import warnings\n",
        "warnings.simplefilter('ignore')"
      ],
      "metadata": {
        "id": "GGBEyZ5bIzsZ"
      },
      "execution_count": null,
      "outputs": []
    },
    {
      "cell_type": "code",
      "execution_count": null,
      "metadata": {
        "id": "7c7LgUzvC5wN"
      },
      "outputs": [],
      "source": [
        "# from google.colab import drive\n",
        "# drive.mount('/content/drive')"
      ]
    },
    {
      "cell_type": "code",
      "source": [
        "# Initialize the folders with train, test and validation datasets (in \"/My Drive/...\" or from your local repository where you have downloaded data):\n",
        "\n",
        "train = '/content/drive/train'\n",
        "val =   '/content/drive/val'\n",
        "test =  '/content/drive/test'\n",
        "\n",
        "# The shape of the RGB image\n",
        "img_width, img_height, channels = 150, 150, 3 # i used this shape for part 1 and 2\n",
        "# img_width, img_height, channels = 224, 224, 3 # i used this shape for part 3\n",
        "\n",
        "# input shape\n",
        "input_shape = (img_width, img_height, 3)\n",
        "# position matters!\n",
        "# Number_of_channels can be at the first or the last position\n",
        "# in our case - \"channels last\"\n",
        "\n",
        "# minibatch size\n",
        "batch_size = 64\n",
        "# train set size\n",
        "nb_train_samples = 20002\n",
        "# validation set size\n",
        "nb_validation_samples = 2492\n",
        "# test set size\n",
        "nb_test_samples = 2502"
      ],
      "metadata": {
        "id": "VuEakpPQC8e9"
      },
      "execution_count": null,
      "outputs": []
    },
    {
      "cell_type": "markdown",
      "source": [
        "### Prepare the data.\n"
      ],
      "metadata": {
        "id": "jIY7iquGK7mK"
      }
    },
    {
      "cell_type": "code",
      "source": [
        "datagen = ImageDataGenerator(rescale=1. / 255)\n",
        "\n",
        "train_generator = datagen.flow_from_directory(\n",
        "    train,\n",
        "    target_size=(img_width, img_height),\n",
        "    batch_size=batch_size,\n",
        "    class_mode='binary')\n",
        "\n",
        "val_generator = datagen.flow_from_directory(\n",
        "    val,\n",
        "    target_size=(img_width, img_height),\n",
        "    batch_size=batch_size,\n",
        "    class_mode='binary')\n",
        "\n",
        "test_generator = datagen.flow_from_directory(\n",
        "    test,\n",
        "    target_size=(img_width, img_height),\n",
        "    batch_size=batch_size,\n",
        "    class_mode='binary')"
      ],
      "metadata": {
        "id": "v1K3y9ZzC8jm",
        "colab": {
          "base_uri": "https://localhost:8080/"
        },
        "outputId": "1d21c0c6-2421-44be-a6cf-34fa913461dc"
      },
      "execution_count": null,
      "outputs": [
        {
          "output_type": "stream",
          "name": "stdout",
          "text": [
            "Found 20000 images belonging to 2 classes.\n",
            "Found 2490 images belonging to 2 classes.\n",
            "Found 2500 images belonging to 2 classes.\n"
          ]
        }
      ]
    },
    {
      "cell_type": "markdown",
      "source": [
        "Set the network architecture by sequentially adding layers to it:\n",
        "1. A convolutional layer with 16 neurons, filter size 3x3. Activation function - 'relu'\n",
        "2. MaxPooling layer with filter size 2x2.\n",
        "3. A convolutional layer with 32 neurons, filter size 3x3. Activation function - 'relu'\n",
        "4. MaxPooling layer with filter size 2x2.\n",
        "5. A convolutional layer with 64 neurons, filter size 3x3. Activation function - 'relu'\n",
        "6. MaxPooling layer with filter size 2x2.\n",
        "7. Operation model.add (Flatten ()), which makes a one-dimensional vector of the resulting feature maps.\n",
        "8. A fully connected layer with 64 neurons. Activation function - 'relu'\n",
        "9. Use model.add (Dropout (0.5)) which excludes the edge from the current layer in the computational graph with a 50% probability to avoid overfitting.\n",
        "10. A fully connected layer with 1 neuron. Activation function - 'sigmoid', because binary classification model.\n",
        "\n",
        "Add to the model all the missing layers, by analogy with the already specified.\n",
        "Keras documentation: https://keras.io/layers/about-keras-layers/"
      ],
      "metadata": {
        "id": "FkgRn5uoLQC4"
      }
    },
    {
      "cell_type": "code",
      "source": [
        "model = Sequential()\n",
        "\n",
        "# 1: +Convolutional\n",
        "# For example:\n",
        "model.add(Conv2D(16, (3, 3), input_shape=(150, 150, 3)))\n",
        "model.add(Activation('relu'))\n",
        "# 2: +Pooling\n",
        "model.add(MaxPooling2D(pool_size=(2, 2)))\n",
        "# 3:\n",
        "model.add(Conv2D(32, (3, 3)))\n",
        "#     +Relu\n",
        "model.add(Activation('relu'))\n",
        "# 4:  +Pooling\n",
        "model.add(MaxPooling2D(pool_size=(2, 2)))\n",
        "# 5:  +Convolutional\n",
        "model.add(Conv2D(64, (3, 3)))\n",
        "#     +Relu\n",
        "model.add(Activation('relu'))\n",
        "# 6:  +Pooling\n",
        "model.add(MaxPooling2D(pool_size=(2, 2)))\n",
        "# 7:  +Flattening\n",
        "model.add(Flatten())\n",
        "# 8:  +Dense\n",
        "model.add(Dense(64))\n",
        "#     +ReLu\n",
        "model.add(Activation('relu'))\n",
        "# 9:  +Dropout\n",
        "model.add(Dropout(0.5))\n",
        "# 10: +Dense\n",
        "model.add(Dense(1))\n",
        "#     +Sigmoid\n",
        "model.add(Activation('sigmoid'))"
      ],
      "metadata": {
        "id": "XTpfQDD8C8oF"
      },
      "execution_count": null,
      "outputs": []
    },
    {
      "cell_type": "code",
      "source": [
        "model.compile(loss='binary_crossentropy',\n",
        "              optimizer='adam',\n",
        "              metrics=['accuracy'])"
      ],
      "metadata": {
        "id": "9zkZsPIOC8qh"
      },
      "execution_count": null,
      "outputs": []
    },
    {
      "cell_type": "markdown",
      "source": [
        "### Number of epochs: 10"
      ],
      "metadata": {
        "id": "bEv2kYy6zc-Y"
      }
    },
    {
      "cell_type": "code",
      "source": [
        "# use the generator to train the model (analogue of the fit method)\n",
        "# 1 epoch of training on a CPU will take 4-6 minutes. The GPU is an ~order of magnitude faster.\n",
        "# THE FIRST EPOCH USUALLY TAKES MUCH LARGER TIME AS KERAS SHOULD BUILD THE COMPUTATIONAL GRAPH\n",
        "\n",
        "Model_3Conv_10 = model.fit_generator(\n",
        "    train_generator,\n",
        "    steps_per_epoch=nb_train_samples // batch_size,\n",
        "    epochs=10, # try different number of epochs: 10, 15, 20; check the loss and accuracy;\n",
        "    validation_data=val_generator,\n",
        "    validation_steps=nb_validation_samples // batch_size)"
      ],
      "metadata": {
        "id": "v0QS8kJtC8s1",
        "colab": {
          "base_uri": "https://localhost:8080/"
        },
        "outputId": "31b1a7c8-3f40-40e2-c12f-78e7284b31ee"
      },
      "execution_count": null,
      "outputs": [
        {
          "output_type": "stream",
          "name": "stdout",
          "text": [
            "Epoch 1/10\n",
            "312/312 [==============================] - 36s 103ms/step - loss: 0.6093 - accuracy: 0.6619 - val_loss: 0.5173 - val_accuracy: 0.7451\n",
            "Epoch 2/10\n",
            "312/312 [==============================] - 22s 69ms/step - loss: 0.5010 - accuracy: 0.7587 - val_loss: 0.4539 - val_accuracy: 0.7862\n",
            "Epoch 3/10\n",
            "312/312 [==============================] - 22s 70ms/step - loss: 0.4340 - accuracy: 0.8002 - val_loss: 0.4344 - val_accuracy: 0.8010\n",
            "Epoch 4/10\n",
            "312/312 [==============================] - 21s 69ms/step - loss: 0.3792 - accuracy: 0.8306 - val_loss: 0.4363 - val_accuracy: 0.8088\n",
            "Epoch 5/10\n",
            "312/312 [==============================] - 22s 70ms/step - loss: 0.3347 - accuracy: 0.8528 - val_loss: 0.4190 - val_accuracy: 0.8203\n",
            "Epoch 6/10\n",
            "312/312 [==============================] - 22s 70ms/step - loss: 0.2986 - accuracy: 0.8732 - val_loss: 0.3790 - val_accuracy: 0.8347\n",
            "Epoch 7/10\n",
            "312/312 [==============================] - 22s 70ms/step - loss: 0.2470 - accuracy: 0.8964 - val_loss: 0.4160 - val_accuracy: 0.8347\n",
            "Epoch 8/10\n",
            "312/312 [==============================] - 28s 90ms/step - loss: 0.2038 - accuracy: 0.9157 - val_loss: 0.4792 - val_accuracy: 0.8331\n",
            "Epoch 9/10\n",
            "312/312 [==============================] - 28s 87ms/step - loss: 0.1681 - accuracy: 0.9292 - val_loss: 0.4702 - val_accuracy: 0.8335\n",
            "Epoch 10/10\n",
            "312/312 [==============================] - 24s 76ms/step - loss: 0.1415 - accuracy: 0.9442 - val_loss: 0.4723 - val_accuracy: 0.8269\n"
          ]
        }
      ]
    },
    {
      "cell_type": "markdown",
      "source": [
        "### Evaluate accuracy on test data (epochs: 10)"
      ],
      "metadata": {
        "id": "1_bjFVMMzSHD"
      }
    },
    {
      "cell_type": "code",
      "source": [
        "# NOTE: if the accuracy on test data after 15 epochs is less than 80% smth goes wrong\n",
        "\n",
        "scores_3Conv_10 = model.evaluate_generator(test_generator, nb_test_samples // batch_size)\n",
        "print(\"Accuracy on test data: %.2f%%\" % (scores_3Conv_10[1]*100))"
      ],
      "metadata": {
        "id": "xPSxIlahC8vK",
        "colab": {
          "base_uri": "https://localhost:8080/"
        },
        "outputId": "a904678c-91d9-4292-800d-7da4a9b77341"
      },
      "execution_count": null,
      "outputs": [
        {
          "output_type": "stream",
          "name": "stdout",
          "text": [
            "Accuracy on test data: 83.81%\n"
          ]
        }
      ]
    },
    {
      "cell_type": "markdown",
      "source": [
        "### Number of epochs: 15"
      ],
      "metadata": {
        "id": "yvBeTRTK11q4"
      }
    },
    {
      "cell_type": "code",
      "source": [
        "Model_3Conv_15 = model.fit_generator(\n",
        "    train_generator,\n",
        "    steps_per_epoch=nb_train_samples // batch_size,\n",
        "    epochs=15, # try different number of epochs: 10, 15, 20; check the loss and accuracy;\n",
        "    validation_data=val_generator,\n",
        "    validation_steps=nb_validation_samples // batch_size)"
      ],
      "metadata": {
        "id": "C5LlLERPibol",
        "colab": {
          "base_uri": "https://localhost:8080/"
        },
        "outputId": "fc32f020-02e3-4197-c28e-c67ecf8eb502"
      },
      "execution_count": null,
      "outputs": [
        {
          "output_type": "stream",
          "name": "stdout",
          "text": [
            "Epoch 1/15\n",
            "312/312 [==============================] - 22s 71ms/step - loss: 0.1182 - accuracy: 0.9535 - val_loss: 0.5754 - val_accuracy: 0.8331\n",
            "Epoch 2/15\n",
            "312/312 [==============================] - 22s 70ms/step - loss: 0.1057 - accuracy: 0.9586 - val_loss: 0.6067 - val_accuracy: 0.8273\n",
            "Epoch 3/15\n",
            "312/312 [==============================] - 22s 70ms/step - loss: 0.0892 - accuracy: 0.9644 - val_loss: 0.6205 - val_accuracy: 0.8376\n",
            "Epoch 4/15\n",
            "312/312 [==============================] - 22s 71ms/step - loss: 0.0734 - accuracy: 0.9729 - val_loss: 0.7969 - val_accuracy: 0.8318\n",
            "Epoch 5/15\n",
            "312/312 [==============================] - 22s 72ms/step - loss: 0.0709 - accuracy: 0.9738 - val_loss: 0.8236 - val_accuracy: 0.8174\n",
            "Epoch 6/15\n",
            "312/312 [==============================] - 22s 72ms/step - loss: 0.0724 - accuracy: 0.9731 - val_loss: 0.7410 - val_accuracy: 0.8339\n",
            "Epoch 7/15\n",
            "312/312 [==============================] - 23s 73ms/step - loss: 0.0592 - accuracy: 0.9773 - val_loss: 0.8251 - val_accuracy: 0.8203\n",
            "Epoch 8/15\n",
            "312/312 [==============================] - 23s 72ms/step - loss: 0.0632 - accuracy: 0.9771 - val_loss: 0.8662 - val_accuracy: 0.8372\n",
            "Epoch 9/15\n",
            "312/312 [==============================] - 22s 71ms/step - loss: 0.0594 - accuracy: 0.9769 - val_loss: 0.8521 - val_accuracy: 0.8392\n",
            "Epoch 10/15\n",
            "312/312 [==============================] - 22s 70ms/step - loss: 0.0521 - accuracy: 0.9810 - val_loss: 0.8389 - val_accuracy: 0.8433\n",
            "Epoch 11/15\n",
            "312/312 [==============================] - 22s 71ms/step - loss: 0.0472 - accuracy: 0.9815 - val_loss: 0.8643 - val_accuracy: 0.8413\n",
            "Epoch 12/15\n",
            "312/312 [==============================] - 22s 70ms/step - loss: 0.0543 - accuracy: 0.9800 - val_loss: 0.8122 - val_accuracy: 0.8417\n",
            "Epoch 13/15\n",
            "312/312 [==============================] - 22s 71ms/step - loss: 0.0434 - accuracy: 0.9831 - val_loss: 0.8411 - val_accuracy: 0.8294\n",
            "Epoch 14/15\n",
            "312/312 [==============================] - 22s 71ms/step - loss: 0.0443 - accuracy: 0.9841 - val_loss: 1.0468 - val_accuracy: 0.8326\n",
            "Epoch 15/15\n",
            "312/312 [==============================] - 22s 71ms/step - loss: 0.0416 - accuracy: 0.9850 - val_loss: 0.9333 - val_accuracy: 0.8384\n"
          ]
        }
      ]
    },
    {
      "cell_type": "markdown",
      "source": [
        "### Evaluate accuracy on test data (epochs: 15)"
      ],
      "metadata": {
        "id": "rVicHJlb167n"
      }
    },
    {
      "cell_type": "code",
      "source": [
        "scores_3Conv_15 = model.evaluate_generator(test_generator, nb_test_samples // batch_size)\n",
        "print(\"Accuracy on test data: %.2f%%\" % (scores_3Conv_15[1]*100))"
      ],
      "metadata": {
        "id": "CAtgV8HaibQ6",
        "colab": {
          "base_uri": "https://localhost:8080/"
        },
        "outputId": "83840baa-faa8-4674-add6-be4e5aaebfb4"
      },
      "execution_count": null,
      "outputs": [
        {
          "output_type": "stream",
          "name": "stdout",
          "text": [
            "Accuracy on test data: 84.42%\n"
          ]
        }
      ]
    },
    {
      "cell_type": "markdown",
      "source": [
        "### Number of epochs: 20"
      ],
      "metadata": {
        "id": "LCQre1uh1-m7"
      }
    },
    {
      "cell_type": "code",
      "source": [
        "Model_3Conv_20 = model.fit_generator(\n",
        "    train_generator,\n",
        "    steps_per_epoch=nb_train_samples // batch_size,\n",
        "    epochs=20, # try different number of epochs: 10, 15, 20; check the loss and accuracy;\n",
        "    validation_data=val_generator,\n",
        "    validation_steps=nb_validation_samples // batch_size)"
      ],
      "metadata": {
        "id": "0N-Abkjliclf",
        "colab": {
          "base_uri": "https://localhost:8080/"
        },
        "outputId": "4b077b5d-f1fd-4a4e-b73a-4149908f58ad"
      },
      "execution_count": null,
      "outputs": [
        {
          "output_type": "stream",
          "name": "stdout",
          "text": [
            "Epoch 1/20\n",
            "312/312 [==============================] - 21s 69ms/step - loss: 0.0431 - accuracy: 0.9828 - val_loss: 0.9544 - val_accuracy: 0.8331\n",
            "Epoch 2/20\n",
            "312/312 [==============================] - 22s 71ms/step - loss: 0.0456 - accuracy: 0.9810 - val_loss: 0.9276 - val_accuracy: 0.8466\n",
            "Epoch 3/20\n",
            "312/312 [==============================] - 22s 71ms/step - loss: 0.0457 - accuracy: 0.9830 - val_loss: 1.0248 - val_accuracy: 0.8376\n",
            "Epoch 4/20\n",
            "312/312 [==============================] - 22s 71ms/step - loss: 0.0420 - accuracy: 0.9852 - val_loss: 1.0726 - val_accuracy: 0.8376\n",
            "Epoch 5/20\n",
            "312/312 [==============================] - 22s 69ms/step - loss: 0.0416 - accuracy: 0.9856 - val_loss: 0.9415 - val_accuracy: 0.8417\n",
            "Epoch 6/20\n",
            "312/312 [==============================] - 22s 69ms/step - loss: 0.0358 - accuracy: 0.9863 - val_loss: 1.0518 - val_accuracy: 0.8363\n",
            "Epoch 7/20\n",
            "312/312 [==============================] - 21s 68ms/step - loss: 0.0385 - accuracy: 0.9848 - val_loss: 1.1106 - val_accuracy: 0.8413\n",
            "Epoch 8/20\n",
            "312/312 [==============================] - 22s 70ms/step - loss: 0.0408 - accuracy: 0.9850 - val_loss: 1.1125 - val_accuracy: 0.8302\n",
            "Epoch 9/20\n",
            "312/312 [==============================] - 22s 71ms/step - loss: 0.0378 - accuracy: 0.9855 - val_loss: 0.9793 - val_accuracy: 0.8339\n",
            "Epoch 10/20\n",
            "312/312 [==============================] - 22s 69ms/step - loss: 0.0304 - accuracy: 0.9879 - val_loss: 1.0449 - val_accuracy: 0.8339\n",
            "Epoch 11/20\n",
            "312/312 [==============================] - 22s 71ms/step - loss: 0.0364 - accuracy: 0.9861 - val_loss: 1.0730 - val_accuracy: 0.8384\n",
            "Epoch 12/20\n",
            "312/312 [==============================] - 22s 70ms/step - loss: 0.0398 - accuracy: 0.9864 - val_loss: 0.8643 - val_accuracy: 0.8388\n",
            "Epoch 13/20\n",
            "312/312 [==============================] - 22s 71ms/step - loss: 0.0305 - accuracy: 0.9880 - val_loss: 1.0964 - val_accuracy: 0.8380\n",
            "Epoch 14/20\n",
            "312/312 [==============================] - 22s 69ms/step - loss: 0.0318 - accuracy: 0.9886 - val_loss: 1.0718 - val_accuracy: 0.8376\n",
            "Epoch 15/20\n",
            "312/312 [==============================] - 22s 70ms/step - loss: 0.0408 - accuracy: 0.9853 - val_loss: 0.9908 - val_accuracy: 0.8384\n",
            "Epoch 16/20\n",
            "312/312 [==============================] - 22s 69ms/step - loss: 0.0262 - accuracy: 0.9897 - val_loss: 1.1181 - val_accuracy: 0.8433\n",
            "Epoch 17/20\n",
            "312/312 [==============================] - 22s 69ms/step - loss: 0.0317 - accuracy: 0.9886 - val_loss: 1.0342 - val_accuracy: 0.8442\n",
            "Epoch 18/20\n",
            "312/312 [==============================] - 25s 80ms/step - loss: 0.0403 - accuracy: 0.9864 - val_loss: 1.1587 - val_accuracy: 0.8421\n",
            "Epoch 19/20\n",
            "312/312 [==============================] - 24s 76ms/step - loss: 0.0311 - accuracy: 0.9889 - val_loss: 1.0220 - val_accuracy: 0.8351\n",
            "Epoch 20/20\n",
            "312/312 [==============================] - 23s 73ms/step - loss: 0.0277 - accuracy: 0.9891 - val_loss: 1.2252 - val_accuracy: 0.8343\n"
          ]
        }
      ]
    },
    {
      "cell_type": "markdown",
      "source": [
        "### Evaluate accuracy on test data (epochs: 20)"
      ],
      "metadata": {
        "id": "AofwcbfF179Z"
      }
    },
    {
      "cell_type": "code",
      "source": [
        "scores_3Conv_20 = model.evaluate_generator(test_generator, nb_test_samples // batch_size)\n",
        "print(\"Accuracy on test data: %.2f%%\" % (scores_3Conv_20[1]*100))"
      ],
      "metadata": {
        "id": "RjTC1R_nicig",
        "colab": {
          "base_uri": "https://localhost:8080/"
        },
        "outputId": "414b7381-f61a-4fcd-88c9-1766cf23f028"
      },
      "execution_count": null,
      "outputs": [
        {
          "output_type": "stream",
          "name": "stdout",
          "text": [
            "Accuracy on test data: 84.78%\n"
          ]
        }
      ]
    },
    {
      "cell_type": "markdown",
      "source": [
        "### Plot the graphs:\n",
        "\n",
        "- Loss(Number of epochs)\n",
        "\n",
        "- Accuracy(Number of epochs)"
      ],
      "metadata": {
        "id": "wIhgGX8dLfQm"
      }
    },
    {
      "cell_type": "code",
      "source": [
        "#epochs=10\n",
        "iterations = range(1, len(Model_3Conv_10.history['accuracy']) + 1)\n",
        "accuracy = Model_3Conv_10.history['accuracy']\n",
        "loss = Model_3Conv_10.history['loss']\n",
        "\n",
        "plt.figure(figsize=(10, 5))\n",
        "plt.plot(iterations, accuracy, 'b', label='Accuracy', linewidth=2, marker='o')\n",
        "plt.plot(iterations, loss, 'r', label='Loss', linewidth=2, marker='s')\n",
        "plt.title('Model Accuracy and Loss')\n",
        "plt.xlabel('Iteration')\n",
        "plt.ylabel('Value')\n",
        "plt.legend()\n",
        "plt.grid(True)\n",
        "plt.tight_layout()\n",
        "plt.show()"
      ],
      "metadata": {
        "id": "DPKhGVHTiA_i",
        "colab": {
          "base_uri": "https://localhost:8080/",
          "height": 507
        },
        "outputId": "f02bf54a-0cb8-45c5-f04e-f9ad05b39db1"
      },
      "execution_count": null,
      "outputs": [
        {
          "output_type": "display_data",
          "data": {
            "text/plain": [
              "<Figure size 1000x500 with 1 Axes>"
            ],
            "image/png": "[encoded data removed]"
          },
          "metadata": {}
        }
      ]
    },
    {
      "cell_type": "code",
      "source": [
        "#epochs=15\n",
        "iterations = range(1, len(Model_3Conv_15.history['accuracy']) + 1)\n",
        "accuracy = Model_3Conv_15.history['accuracy']\n",
        "loss = Model_3Conv_15.history['loss']\n",
        "\n",
        "plt.figure(figsize=(10, 5))\n",
        "plt.plot(iterations, accuracy, 'b', label='Accuracy', linewidth=2, marker='o')\n",
        "plt.plot(iterations, loss, 'r', label='Loss', linewidth=2, marker='s')\n",
        "plt.title('Model Accuracy and Loss')\n",
        "plt.xlabel('Iteration')\n",
        "plt.ylabel('Value')\n",
        "plt.legend()\n",
        "plt.grid(True)\n",
        "plt.tight_layout()\n",
        "plt.show()"
      ],
      "metadata": {
        "id": "n4ZaEEByjE7a",
        "colab": {
          "base_uri": "https://localhost:8080/",
          "height": 507
        },
        "outputId": "25f77563-3bda-4cdb-9f8e-133c0f9de5ff"
      },
      "execution_count": null,
      "outputs": [
        {
          "output_type": "display_data",
          "data": {
            "text/plain": [
              "<Figure size 1000x500 with 1 Axes>"
            ],
            "image/png": "[encoded data removed]"
          },
          "metadata": {}
        }
      ]
    },
    {
      "cell_type": "code",
      "source": [
        "#epochs=20\n",
        "iterations = range(1, len(Model_3Conv_20.history['accuracy']) + 1)\n",
        "accuracy = Model_3Conv_20.history['accuracy']\n",
        "loss = Model_3Conv_20.history['loss']\n",
        "\n",
        "plt.figure(figsize=(10, 5))\n",
        "plt.plot(iterations, accuracy, 'b', label='Accuracy', linewidth=2, marker='o')\n",
        "plt.plot(iterations, loss, 'r', label='Loss', linewidth=2, marker='s')\n",
        "plt.title('Model Accuracy and Loss')\n",
        "plt.xlabel('Iteration')\n",
        "plt.ylabel('Value')\n",
        "plt.legend()\n",
        "plt.grid(True)\n",
        "plt.tight_layout()\n",
        "plt.show()"
      ],
      "metadata": {
        "id": "pe9as06ejE2r",
        "colab": {
          "base_uri": "https://localhost:8080/",
          "height": 507
        },
        "outputId": "83ba4da4-63d3-4456-afc8-26d680fc61a6"
      },
      "execution_count": null,
      "outputs": [
        {
          "output_type": "display_data",
          "data": {
            "text/plain": [
              "<Figure size 1000x500 with 1 Axes>"
            ],
            "image/png": "[encoded data removed]"
          },
          "metadata": {}
        }
      ]
    },
    {
      "cell_type": "markdown",
      "source": [
        "# Part 2\n",
        "\n",
        "1. Build and fit Transfer Learning model using pre-trained VGG16-model weights from keras application.\n",
        "2. Do the same with **another avaliable pre-trained deep learning model** from keras application https://keras.io/api/applications/.\n",
        "2. Evaluate accuracy on test data for p.1 and p.2\n",
        "3. Plot the graphs for Loss(number_of_epochs) and Accuracy(number_of_epochs)\n",
        "4. Check the performance of your model with the custom image of cat or dog (so the model will tell which class this image belongs to). Develop the function for the inference of the best algorithm."
      ],
      "metadata": {
        "id": "eqjKcAM9Ln2X"
      }
    },
    {
      "cell_type": "markdown",
      "source": [
        "## 1) Build and fit Transfer Learning model using pre-trained VGG16-model weights from keras application."
      ],
      "metadata": {
        "id": "ZuZooya1I-fX"
      }
    },
    {
      "cell_type": "code",
      "source": [
        "# First, download the weights of the VGG16 network trained on the ImageNet dataset:\n",
        "\n",
        "vgg16_net = VGG16(weights='imagenet',\n",
        "                  include_top=False,      # we take only the \"convolution\" part, the last layers we add ourselves\n",
        "                  input_shape=(150, 150, 3))\n",
        "vgg16_net.trainable = False               # clearly prescribe that we do NOT overload the network.\n",
        "                                          # Weights VGG16 in the process of learning will remain unchanged!\n",
        "\n",
        "vgg16_net.summary()                       # pay attention to the number of trained and untrained parameters"
      ],
      "metadata": {
        "id": "g7EauCBJC8z3",
        "colab": {
          "base_uri": "https://localhost:8080/"
        },
        "outputId": "5c36ee6e-c000-4c00-ab5b-2ecfb3b93649"
      },
      "execution_count": null,
      "outputs": [
        {
          "output_type": "stream",
          "name": "stdout",
          "text": [
            "Model: \"vgg16\"\n",
            "_________________________________________________________________\n",
            " Layer (type)                Output Shape              Param #   \n",
            "=================================================================\n",
            " input_1 (InputLayer)        [(None, 150, 150, 3)]     0         \n",
            "                                                                 \n",
            " block1_conv1 (Conv2D)       (None, 150, 150, 64)      1792      \n",
            "                                                                 \n",
            " block1_conv2 (Conv2D)       (None, 150, 150, 64)      36928     \n",
            "                                                                 \n",
            " block1_pool (MaxPooling2D)  (None, 75, 75, 64)        0         \n",
            "                                                                 \n",
            " block2_conv1 (Conv2D)       (None, 75, 75, 128)       73856     \n",
            "                                                                 \n",
            " block2_conv2 (Conv2D)       (None, 75, 75, 128)       147584    \n",
            "                                                                 \n",
            " block2_pool (MaxPooling2D)  (None, 37, 37, 128)       0         \n",
            "                                                                 \n",
            " block3_conv1 (Conv2D)       (None, 37, 37, 256)       295168    \n",
            "                                                                 \n",
            " block3_conv2 (Conv2D)       (None, 37, 37, 256)       590080    \n",
            "                                                                 \n",
            " block3_conv3 (Conv2D)       (None, 37, 37, 256)       590080    \n",
            "                                                                 \n",
            " block3_pool (MaxPooling2D)  (None, 18, 18, 256)       0         \n",
            "                                                                 \n",
            " block4_conv1 (Conv2D)       (None, 18, 18, 512)       1180160   \n",
            "                                                                 \n",
            " block4_conv2 (Conv2D)       (None, 18, 18, 512)       2359808   \n",
            "                                                                 \n",
            " block4_conv3 (Conv2D)       (None, 18, 18, 512)       2359808   \n",
            "                                                                 \n",
            " block4_pool (MaxPooling2D)  (None, 9, 9, 512)         0         \n",
            "                                                                 \n",
            " block5_conv1 (Conv2D)       (None, 9, 9, 512)         2359808   \n",
            "                                                                 \n",
            " block5_conv2 (Conv2D)       (None, 9, 9, 512)         2359808   \n",
            "                                                                 \n",
            " block5_conv3 (Conv2D)       (None, 9, 9, 512)         2359808   \n",
            "                                                                 \n",
            " block5_pool (MaxPooling2D)  (None, 4, 4, 512)         0         \n",
            "                                                                 \n",
            "=================================================================\n",
            "Total params: 14714688 (56.13 MB)\n",
            "Trainable params: 0 (0.00 Byte)\n",
            "Non-trainable params: 14714688 (56.13 MB)\n",
            "_________________________________________________________________\n"
          ]
        }
      ]
    },
    {
      "cell_type": "markdown",
      "source": [
        "We construct our model of \"transfer learning\" by adding two fully connected layers to VGG16"
      ],
      "metadata": {
        "id": "U6iLD4OpLxKY"
      }
    },
    {
      "cell_type": "code",
      "source": [
        "# add layers to VGG16:\n",
        "\n",
        "model_vgg16 = Sequential()\n",
        "model_vgg16.add(vgg16_net)\n",
        "\n",
        "# + flattening\n",
        "model_vgg16.add(Flatten())\n",
        "# + Dense fullyconnected layer with 256 neurons\n",
        "model_vgg16.add(Dense(256))\n",
        "# + ReLu\n",
        "model_vgg16.add(Activation('relu'))\n",
        "# + Dropout\n",
        "model_vgg16.add(Dropout(0.5))\n",
        "# + Dense layer with 1 neuron\n",
        "model_vgg16.add(Dense(1))\n",
        "# + sigmoid\n",
        "model_vgg16.add(Activation('sigmoid'))\n",
        "\n",
        "model_vgg16.summary()"
      ],
      "metadata": {
        "id": "AReIauv2C82V",
        "colab": {
          "base_uri": "https://localhost:8080/"
        },
        "outputId": "04675d08-b39c-4e98-bb93-14c0f3a6191d"
      },
      "execution_count": null,
      "outputs": [
        {
          "output_type": "stream",
          "name": "stdout",
          "text": [
            "Model: \"sequential_1\"\n",
            "_________________________________________________________________\n",
            " Layer (type)                Output Shape              Param #   \n",
            "=================================================================\n",
            " vgg16 (Functional)          (None, 4, 4, 512)         14714688  \n",
            "                                                                 \n",
            " flatten_1 (Flatten)         (None, 8192)              0         \n",
            "                                                                 \n",
            " dense_2 (Dense)             (None, 256)               2097408   \n",
            "                                                                 \n",
            " activation_5 (Activation)   (None, 256)               0         \n",
            "                                                                 \n",
            " dropout_1 (Dropout)         (None, 256)               0         \n",
            "                                                                 \n",
            " dense_3 (Dense)             (None, 1)                 257       \n",
            "                                                                 \n",
            " activation_6 (Activation)   (None, 1)                 0         \n",
            "                                                                 \n",
            "=================================================================\n",
            "Total params: 16812353 (64.13 MB)\n",
            "Trainable params: 2097665 (8.00 MB)\n",
            "Non-trainable params: 14714688 (56.13 MB)\n",
            "_________________________________________________________________\n"
          ]
        }
      ]
    },
    {
      "cell_type": "code",
      "source": [
        "model_vgg16.compile(loss='binary_crossentropy',\n",
        "              optimizer=Adam(learning_rate=1e-5),\n",
        "              metrics=['accuracy'])"
      ],
      "metadata": {
        "id": "6pb5qDzUC849"
      },
      "execution_count": null,
      "outputs": []
    },
    {
      "cell_type": "code",
      "source": [
        "# We also use the generator to train the model (similar to the fit method)\n",
        "# Without using a GPU, learning 1 epoch of such a network will take about an hour. Plan your time =)\n",
        "# If you have access to a GPU, you can try 10-12 epochs - the quality should increase even more.\n",
        "\n",
        "Model_VVG = model_vgg16.fit_generator(\n",
        "    train_generator,\n",
        "    steps_per_epoch=nb_train_samples // batch_size,\n",
        "    epochs=12,\n",
        "    validation_data=val_generator,\n",
        "    validation_steps=nb_validation_samples // batch_size)"
      ],
      "metadata": {
        "id": "7qIlwqv8C87K",
        "colab": {
          "base_uri": "https://localhost:8080/"
        },
        "outputId": "06979816-ca5c-4130-bcc1-b5aaaf360c4d"
      },
      "execution_count": null,
      "outputs": [
        {
          "output_type": "stream",
          "name": "stdout",
          "text": [
            "Epoch 1/12\n",
            "312/312 [==============================] - 40s 97ms/step - loss: 0.5087 - accuracy: 0.7395 - val_loss: 0.3547 - val_accuracy: 0.8540\n",
            "Epoch 2/12\n",
            "312/312 [==============================] - 28s 89ms/step - loss: 0.3430 - accuracy: 0.8518 - val_loss: 0.2957 - val_accuracy: 0.8820\n",
            "Epoch 3/12\n",
            "312/312 [==============================] - 29s 92ms/step - loss: 0.2996 - accuracy: 0.8745 - val_loss: 0.2714 - val_accuracy: 0.8902\n",
            "Epoch 4/12\n",
            "312/312 [==============================] - 28s 88ms/step - loss: 0.2715 - accuracy: 0.8890 - val_loss: 0.2577 - val_accuracy: 0.8943\n",
            "Epoch 5/12\n",
            "312/312 [==============================] - 28s 88ms/step - loss: 0.2576 - accuracy: 0.8926 - val_loss: 0.2480 - val_accuracy: 0.9017\n",
            "Epoch 6/12\n",
            "312/312 [==============================] - 28s 89ms/step - loss: 0.2454 - accuracy: 0.8995 - val_loss: 0.2373 - val_accuracy: 0.9079\n",
            "Epoch 7/12\n",
            "312/312 [==============================] - 28s 89ms/step - loss: 0.2375 - accuracy: 0.9037 - val_loss: 0.2335 - val_accuracy: 0.9067\n",
            "Epoch 8/12\n",
            "312/312 [==============================] - 28s 89ms/step - loss: 0.2296 - accuracy: 0.9062 - val_loss: 0.2293 - val_accuracy: 0.9108\n",
            "Epoch 9/12\n",
            "312/312 [==============================] - 28s 89ms/step - loss: 0.2223 - accuracy: 0.9079 - val_loss: 0.2262 - val_accuracy: 0.9153\n",
            "Epoch 10/12\n",
            "312/312 [==============================] - 28s 89ms/step - loss: 0.2171 - accuracy: 0.9107 - val_loss: 0.2258 - val_accuracy: 0.9149\n",
            "Epoch 11/12\n",
            "312/312 [==============================] - 30s 97ms/step - loss: 0.2092 - accuracy: 0.9159 - val_loss: 0.2218 - val_accuracy: 0.9174\n",
            "Epoch 12/12\n",
            "312/312 [==============================] - 28s 91ms/step - loss: 0.2033 - accuracy: 0.9173 - val_loss: 0.2194 - val_accuracy: 0.9165\n"
          ]
        }
      ]
    },
    {
      "cell_type": "markdown",
      "source": [
        "### Evaluate accuracy on test data"
      ],
      "metadata": {
        "id": "YATV7BQ_JFH8"
      }
    },
    {
      "cell_type": "code",
      "source": [
        "scores = model_vgg16.evaluate_generator(test_generator, nb_test_samples // batch_size)\n",
        "print(\"Accuracy on test data: %.2f%%\" % (scores[1]*100))"
      ],
      "metadata": {
        "id": "mQA1lyDCC89c",
        "colab": {
          "base_uri": "https://localhost:8080/"
        },
        "outputId": "49c2abeb-4070-4db5-99bd-7ad79b5c088d"
      },
      "execution_count": null,
      "outputs": [
        {
          "output_type": "stream",
          "name": "stdout",
          "text": [
            "Accuracy on test data: 90.30%\n"
          ]
        }
      ]
    },
    {
      "cell_type": "markdown",
      "source": [
        "### Plot the graphs for Loss(number_of_epochs) and Accuracy(number_of_epochs)"
      ],
      "metadata": {
        "id": "w07LBPSEJRe-"
      }
    },
    {
      "cell_type": "code",
      "source": [
        "iterations = range(1, len(Model_VVG.history['accuracy']) + 1)\n",
        "accuracy = Model_VVG.history['accuracy']\n",
        "loss = Model_VVG.history['loss']\n",
        "\n",
        "plt.figure(figsize=(10, 5))\n",
        "plt.plot(iterations, accuracy, 'b', label='Accuracy', linewidth=2, marker='o')\n",
        "plt.plot(iterations, loss, 'r', label='Loss', linewidth=2, marker='s')\n",
        "plt.title('Model Accuracy and Loss')\n",
        "plt.xlabel('Iteration')\n",
        "plt.ylabel('Value')\n",
        "plt.legend()\n",
        "plt.grid(True)\n",
        "plt.tight_layout()\n",
        "plt.show()"
      ],
      "metadata": {
        "id": "mkWhEuyuC9AB",
        "colab": {
          "base_uri": "https://localhost:8080/",
          "height": 507
        },
        "outputId": "ecf2733e-0fda-4410-e4be-c0858998ca9a"
      },
      "execution_count": null,
      "outputs": [
        {
          "output_type": "display_data",
          "data": {
            "text/plain": [
              "<Figure size 1000x500 with 1 Axes>"
            ],
            "image/png": "[encoded data removed]"
          },
          "metadata": {}
        }
      ]
    },
    {
      "cell_type": "markdown",
      "source": [
        "## 2) Do the same with one more avaliable pre-trained deep learning model from keras application"
      ],
      "metadata": {
        "id": "k_zzHBp3I6r3"
      }
    },
    {
      "cell_type": "markdown",
      "source": [
        "*I decided to train two models ResNet50 and Xception for this part*"
      ],
      "metadata": {
        "id": "BFXjQcJGoVep"
      }
    },
    {
      "cell_type": "markdown",
      "source": [
        "## ResNet50"
      ],
      "metadata": {
        "id": "7QsyEcW4l7Pa"
      }
    },
    {
      "cell_type": "code",
      "source": [
        "from keras.applications import ResNet50\n",
        "from tensorflow.keras.layers import LeakyReLU"
      ],
      "metadata": {
        "id": "cSyEOKafC9CY"
      },
      "execution_count": null,
      "outputs": []
    },
    {
      "cell_type": "code",
      "source": [
        "resnet50_net = ResNet50(weights='imagenet',\n",
        "                        include_top=False,\n",
        "                        input_shape=(150, 150, 3))\n",
        "\n",
        "resnet50_net.trainable = False\n",
        "\n",
        "resnet50_net.summary()"
      ],
      "metadata": {
        "id": "GmqlS6vrC9En",
        "colab": {
          "base_uri": "https://localhost:8080/"
        },
        "outputId": "429383f0-999d-4d8b-f731-2ed2c5c71251"
      },
      "execution_count": null,
      "outputs": [
        {
          "output_type": "stream",
          "name": "stdout",
          "text": [
            "Model: \"resnet50\"\n",
            "__________________________________________________________________________________________________\n",
            " Layer (type)                Output Shape                 Param #   Connected to                  \n",
            "==================================================================================================\n",
            " input_2 (InputLayer)        [(None, 150, 150, 3)]        0         []                            \n",
            "                                                                                                  \n",
            " conv1_pad (ZeroPadding2D)   (None, 156, 156, 3)          0         ['input_2[0][0]']             \n",
            "                                                                                                  \n",
            " conv1_conv (Conv2D)         (None, 75, 75, 64)           9472      ['conv1_pad[0][0]']           \n",
            "                                                                                                  \n",
            " conv1_bn (BatchNormalizati  (None, 75, 75, 64)           256       ['conv1_conv[0][0]']          \n",
            " on)                                                                                              \n",
            "                                                                                                  \n",
            " conv1_relu (Activation)     (None, 75, 75, 64)           0         ['conv1_bn[0][0]']            \n",
            "                                                                                                  \n",
            " pool1_pad (ZeroPadding2D)   (None, 77, 77, 64)           0         ['conv1_relu[0][0]']          \n",
            "                                                                                                  \n",
            " pool1_pool (MaxPooling2D)   (None, 38, 38, 64)           0         ['pool1_pad[0][0]']           \n",
            "                                                                                                  \n",
            " conv2_block1_1_conv (Conv2  (None, 38, 38, 64)           4160      ['pool1_pool[0][0]']          \n",
            " D)                                                                                               \n",
            "                                                                                                  \n",
            " conv2_block1_1_bn (BatchNo  (None, 38, 38, 64)           256       ['conv2_block1_1_conv[0][0]'] \n",
            " rmalization)                                                                                     \n",
            "                                                                                                  \n",
            " conv2_block1_1_relu (Activ  (None, 38, 38, 64)           0         ['conv2_block1_1_bn[0][0]']   \n",
            " ation)                                                                                           \n",
            "                                                                                                  \n",
            " conv2_block1_2_conv (Conv2  (None, 38, 38, 64)           36928     ['conv2_block1_1_relu[0][0]'] \n",
            " D)                                                                                               \n",
            "                                                                                                  \n",
            " conv2_block1_2_bn (BatchNo  (None, 38, 38, 64)           256       ['conv2_block1_2_conv[0][0]'] \n",
            " rmalization)                                                                                     \n",
            "                                                                                                  \n",
            " conv2_block1_2_relu (Activ  (None, 38, 38, 64)           0         ['conv2_block1_2_bn[0][0]']   \n",
            " ation)                                                                                           \n",
            "                                                                                                  \n",
            " conv2_block1_0_conv (Conv2  (None, 38, 38, 256)          16640     ['pool1_pool[0][0]']          \n",
            " D)                                                                                               \n",
            "                                                                                                  \n",
            " conv2_block1_3_conv (Conv2  (None, 38, 38, 256)          16640     ['conv2_block1_2_relu[0][0]'] \n",
            " D)                                                                                               \n",
            "                                                                                                  \n",
            " conv2_block1_0_bn (BatchNo  (None, 38, 38, 256)          1024      ['conv2_block1_0_conv[0][0]'] \n",
            " rmalization)                                                                                     \n",
            "                                                                                                  \n",
            " conv2_block1_3_bn (BatchNo  (None, 38, 38, 256)          1024      ['conv2_block1_3_conv[0][0]'] \n",
            " rmalization)                                                                                     \n",
            "                                                                                                  \n",
            " conv2_block1_add (Add)      (None, 38, 38, 256)          0         ['conv2_block1_0_bn[0][0]',   \n",
            "                                                                     'conv2_block1_3_bn[0][0]']   \n",
            "                                                                                                  \n",
            " conv2_block1_out (Activati  (None, 38, 38, 256)          0         ['conv2_block1_add[0][0]']    \n",
            " on)                                                                                              \n",
            "                                                                                                  \n",
            " conv2_block2_1_conv (Conv2  (None, 38, 38, 64)           16448     ['conv2_block1_out[0][0]']    \n",
            " D)                                                                                               \n",
            "                                                                                                  \n",
            " conv2_block2_1_bn (BatchNo  (None, 38, 38, 64)           256       ['conv2_block2_1_conv[0][0]'] \n",
            " rmalization)                                                                                     \n",
            "                                                                                                  \n",
            " conv2_block2_1_relu (Activ  (None, 38, 38, 64)           0         ['conv2_block2_1_bn[0][0]']   \n",
            " ation)                                                                                           \n",
            "                                                                                                  \n",
            " conv2_block2_2_conv (Conv2  (None, 38, 38, 64)           36928     ['conv2_block2_1_relu[0][0]'] \n",
            " D)                                                                                               \n",
            "                                                                                                  \n",
            " conv2_block2_2_bn (BatchNo  (None, 38, 38, 64)           256       ['conv2_block2_2_conv[0][0]'] \n",
            " rmalization)                                                                                     \n",
            "                                                                                                  \n",
            " conv2_block2_2_relu (Activ  (None, 38, 38, 64)           0         ['conv2_block2_2_bn[0][0]']   \n",
            " ation)                                                                                           \n",
            "                                                                                                  \n",
            " conv2_block2_3_conv (Conv2  (None, 38, 38, 256)          16640     ['conv2_block2_2_relu[0][0]'] \n",
            " D)                                                                                               \n",
            "                                                                                                  \n",
            " conv2_block2_3_bn (BatchNo  (None, 38, 38, 256)          1024      ['conv2_block2_3_conv[0][0]'] \n",
            " rmalization)                                                                                     \n",
            "                                                                                                  \n",
            " conv2_block2_add (Add)      (None, 38, 38, 256)          0         ['conv2_block1_out[0][0]',    \n",
            "                                                                     'conv2_block2_3_bn[0][0]']   \n",
            "                                                                                                  \n",
            " conv2_block2_out (Activati  (None, 38, 38, 256)          0         ['conv2_block2_add[0][0]']    \n",
            " on)                                                                                              \n",
            "                                                                                                  \n",
            " conv2_block3_1_conv (Conv2  (None, 38, 38, 64)           16448     ['conv2_block2_out[0][0]']    \n",
            " D)                                                                                               \n",
            "                                                                                                  \n",
            " conv2_block3_1_bn (BatchNo  (None, 38, 38, 64)           256       ['conv2_block3_1_conv[0][0]'] \n",
            " rmalization)                                                                                     \n",
            "                                                                                                  \n",
            " conv2_block3_1_relu (Activ  (None, 38, 38, 64)           0         ['conv2_block3_1_bn[0][0]']   \n",
            " ation)                                                                                           \n",
            "                                                                                                  \n",
            " conv2_block3_2_conv (Conv2  (None, 38, 38, 64)           36928     ['conv2_block3_1_relu[0][0]'] \n",
            " D)                                                                                               \n",
            "                                                                                                  \n",
            " conv2_block3_2_bn (BatchNo  (None, 38, 38, 64)           256       ['conv2_block3_2_conv[0][0]'] \n",
            " rmalization)                                                                                     \n",
            "                                                                                                  \n",
            " conv2_block3_2_relu (Activ  (None, 38, 38, 64)           0         ['conv2_block3_2_bn[0][0]']   \n",
            " ation)                                                                                           \n",
            "                                                                                                  \n",
            " conv2_block3_3_conv (Conv2  (None, 38, 38, 256)          16640     ['conv2_block3_2_relu[0][0]'] \n",
            " D)                                                                                               \n",
            "                                                                                                  \n",
            " conv2_block3_3_bn (BatchNo  (None, 38, 38, 256)          1024      ['conv2_block3_3_conv[0][0]'] \n",
            " rmalization)                                                                                     \n",
            "                                                                                                  \n",
            " conv2_block3_add (Add)      (None, 38, 38, 256)          0         ['conv2_block2_out[0][0]',    \n",
            "                                                                     'conv2_block3_3_bn[0][0]']   \n",
            "                                                                                                  \n",
            " conv2_block3_out (Activati  (None, 38, 38, 256)          0         ['conv2_block3_add[0][0]']    \n",
            " on)                                                                                              \n",
            "                                                                                                  \n",
            " conv3_block1_1_conv (Conv2  (None, 19, 19, 128)          32896     ['conv2_block3_out[0][0]']    \n",
            " D)                                                                                               \n",
            "                                                                                                  \n",
            " conv3_block1_1_bn (BatchNo  (None, 19, 19, 128)          512       ['conv3_block1_1_conv[0][0]'] \n",
            " rmalization)                                                                                     \n",
            "                                                                                                  \n",
            " conv3_block1_1_relu (Activ  (None, 19, 19, 128)          0         ['conv3_block1_1_bn[0][0]']   \n",
            " ation)                                                                                           \n",
            "                                                                                                  \n",
            " conv3_block1_2_conv (Conv2  (None, 19, 19, 128)          147584    ['conv3_block1_1_relu[0][0]'] \n",
            " D)                                                                                               \n",
            "                                                                                                  \n",
            " conv3_block1_2_bn (BatchNo  (None, 19, 19, 128)          512       ['conv3_block1_2_conv[0][0]'] \n",
            " rmalization)                                                                                     \n",
            "                                                                                                  \n",
            " conv3_block1_2_relu (Activ  (None, 19, 19, 128)          0         ['conv3_block1_2_bn[0][0]']   \n",
            " ation)                                                                                           \n",
            "                                                                                                  \n",
            " conv3_block1_0_conv (Conv2  (None, 19, 19, 512)          131584    ['conv2_block3_out[0][0]']    \n",
            " D)                                                                                               \n",
            "                                                                                                  \n",
            " conv3_block1_3_conv (Conv2  (None, 19, 19, 512)          66048     ['conv3_block1_2_relu[0][0]'] \n",
            " D)                                                                                               \n",
            "                                                                                                  \n",
            " conv3_block1_0_bn (BatchNo  (None, 19, 19, 512)          2048      ['conv3_block1_0_conv[0][0]'] \n",
            " rmalization)                                                                                     \n",
            "                                                                                                  \n",
            " conv3_block1_3_bn (BatchNo  (None, 19, 19, 512)          2048      ['conv3_block1_3_conv[0][0]'] \n",
            " rmalization)                                                                                     \n",
            "                                                                                                  \n",
            " conv3_block1_add (Add)      (None, 19, 19, 512)          0         ['conv3_block1_0_bn[0][0]',   \n",
            "                                                                     'conv3_block1_3_bn[0][0]']   \n",
            "                                                                                                  \n",
            " conv3_block1_out (Activati  (None, 19, 19, 512)          0         ['conv3_block1_add[0][0]']    \n",
            " on)                                                                                              \n",
            "                                                                                                  \n",
            " conv3_block2_1_conv (Conv2  (None, 19, 19, 128)          65664     ['conv3_block1_out[0][0]']    \n",
            " D)                                                                                               \n",
            "                                                                                                  \n",
            " conv3_block2_1_bn (BatchNo  (None, 19, 19, 128)          512       ['conv3_block2_1_conv[0][0]'] \n",
            " rmalization)                                                                                     \n",
            "                                                                                                  \n",
            " conv3_block2_1_relu (Activ  (None, 19, 19, 128)          0         ['conv3_block2_1_bn[0][0]']   \n",
            " ation)                                                                                           \n",
            "                                                                                                  \n",
            " conv3_block2_2_conv (Conv2  (None, 19, 19, 128)          147584    ['conv3_block2_1_relu[0][0]'] \n",
            " D)                                                                                               \n",
            "                                                                                                  \n",
            " conv3_block2_2_bn (BatchNo  (None, 19, 19, 128)          512       ['conv3_block2_2_conv[0][0]'] \n",
            " rmalization)                                                                                     \n",
            "                                                                                                  \n",
            " conv3_block2_2_relu (Activ  (None, 19, 19, 128)          0         ['conv3_block2_2_bn[0][0]']   \n",
            " ation)                                                                                           \n",
            "                                                                                                  \n",
            " conv3_block2_3_conv (Conv2  (None, 19, 19, 512)          66048     ['conv3_block2_2_relu[0][0]'] \n",
            " D)                                                                                               \n",
            "                                                                                                  \n",
            " conv3_block2_3_bn (BatchNo  (None, 19, 19, 512)          2048      ['conv3_block2_3_conv[0][0]'] \n",
            " rmalization)                                                                                     \n",
            "                                                                                                  \n",
            " conv3_block2_add (Add)      (None, 19, 19, 512)          0         ['conv3_block1_out[0][0]',    \n",
            "                                                                     'conv3_block2_3_bn[0][0]']   \n",
            "                                                                                                  \n",
            " conv3_block2_out (Activati  (None, 19, 19, 512)          0         ['conv3_block2_add[0][0]']    \n",
            " on)                                                                                              \n",
            "                                                                                                  \n",
            " conv3_block3_1_conv (Conv2  (None, 19, 19, 128)          65664     ['conv3_block2_out[0][0]']    \n",
            " D)                                                                                               \n",
            "                                                                                                  \n",
            " conv3_block3_1_bn (BatchNo  (None, 19, 19, 128)          512       ['conv3_block3_1_conv[0][0]'] \n",
            " rmalization)                                                                                     \n",
            "                                                                                                  \n",
            " conv3_block3_1_relu (Activ  (None, 19, 19, 128)          0         ['conv3_block3_1_bn[0][0]']   \n",
            " ation)                                                                                           \n",
            "                                                                                                  \n",
            " conv3_block3_2_conv (Conv2  (None, 19, 19, 128)          147584    ['conv3_block3_1_relu[0][0]'] \n",
            " D)                                                                                               \n",
            "                                                                                                  \n",
            " conv3_block3_2_bn (BatchNo  (None, 19, 19, 128)          512       ['conv3_block3_2_conv[0][0]'] \n",
            " rmalization)                                                                                     \n",
            "                                                                                                  \n",
            " conv3_block3_2_relu (Activ  (None, 19, 19, 128)          0         ['conv3_block3_2_bn[0][0]']   \n",
            " ation)                                                                                           \n",
            "                                                                                                  \n",
            " conv3_block3_3_conv (Conv2  (None, 19, 19, 512)          66048     ['conv3_block3_2_relu[0][0]'] \n",
            " D)                                                                                               \n",
            "                                                                                                  \n",
            " conv3_block3_3_bn (BatchNo  (None, 19, 19, 512)          2048      ['conv3_block3_3_conv[0][0]'] \n",
            " rmalization)                                                                                     \n",
            "                                                                                                  \n",
            " conv3_block3_add (Add)      (None, 19, 19, 512)          0         ['conv3_block2_out[0][0]',    \n",
            "                                                                     'conv3_block3_3_bn[0][0]']   \n",
            "                                                                                                  \n",
            " conv3_block3_out (Activati  (None, 19, 19, 512)          0         ['conv3_block3_add[0][0]']    \n",
            " on)                                                                                              \n",
            "                                                                                                  \n",
            " conv3_block4_1_conv (Conv2  (None, 19, 19, 128)          65664     ['conv3_block3_out[0][0]']    \n",
            " D)                                                                                               \n",
            "                                                                                                  \n",
            " conv3_block4_1_bn (BatchNo  (None, 19, 19, 128)          512       ['conv3_block4_1_conv[0][0]'] \n",
            " rmalization)                                                                                     \n",
            "                                                                                                  \n",
            " conv3_block4_1_relu (Activ  (None, 19, 19, 128)          0         ['conv3_block4_1_bn[0][0]']   \n",
            " ation)                                                                                           \n",
            "                                                                                                  \n",
            " conv3_block4_2_conv (Conv2  (None, 19, 19, 128)          147584    ['conv3_block4_1_relu[0][0]'] \n",
            " D)                                                                                               \n",
            "                                                                                                  \n",
            " conv3_block4_2_bn (BatchNo  (None, 19, 19, 128)          512       ['conv3_block4_2_conv[0][0]'] \n",
            " rmalization)                                                                                     \n",
            "                                                                                                  \n",
            " conv3_block4_2_relu (Activ  (None, 19, 19, 128)          0         ['conv3_block4_2_bn[0][0]']   \n",
            " ation)                                                                                           \n",
            "                                                                                                  \n",
            " conv3_block4_3_conv (Conv2  (None, 19, 19, 512)          66048     ['conv3_block4_2_relu[0][0]'] \n",
            " D)                                                                                               \n",
            "                                                                                                  \n",
            " conv3_block4_3_bn (BatchNo  (None, 19, 19, 512)          2048      ['conv3_block4_3_conv[0][0]'] \n",
            " rmalization)                                                                                     \n",
            "                                                                                                  \n",
            " conv3_block4_add (Add)      (None, 19, 19, 512)          0         ['conv3_block3_out[0][0]',    \n",
            "                                                                     'conv3_block4_3_bn[0][0]']   \n",
            "                                                                                                  \n",
            " conv3_block4_out (Activati  (None, 19, 19, 512)          0         ['conv3_block4_add[0][0]']    \n",
            " on)                                                                                              \n",
            "                                                                                                  \n",
            " conv4_block1_1_conv (Conv2  (None, 10, 10, 256)          131328    ['conv3_block4_out[0][0]']    \n",
            " D)                                                                                               \n",
            "                                                                                                  \n",
            " conv4_block1_1_bn (BatchNo  (None, 10, 10, 256)          1024      ['conv4_block1_1_conv[0][0]'] \n",
            " rmalization)                                                                                     \n",
            "                                                                                                  \n",
            " conv4_block1_1_relu (Activ  (None, 10, 10, 256)          0         ['conv4_block1_1_bn[0][0]']   \n",
            " ation)                                                                                           \n",
            "                                                                                                  \n",
            " conv4_block1_2_conv (Conv2  (None, 10, 10, 256)          590080    ['conv4_block1_1_relu[0][0]'] \n",
            " D)                                                                                               \n",
            "                                                                                                  \n",
            " conv4_block1_2_bn (BatchNo  (None, 10, 10, 256)          1024      ['conv4_block1_2_conv[0][0]'] \n",
            " rmalization)                                                                                     \n",
            "                                                                                                  \n",
            " conv4_block1_2_relu (Activ  (None, 10, 10, 256)          0         ['conv4_block1_2_bn[0][0]']   \n",
            " ation)                                                                                           \n",
            "                                                                                                  \n",
            " conv4_block1_0_conv (Conv2  (None, 10, 10, 1024)         525312    ['conv3_block4_out[0][0]']    \n",
            " D)                                                                                               \n",
            "                                                                                                  \n",
            " conv4_block1_3_conv (Conv2  (None, 10, 10, 1024)         263168    ['conv4_block1_2_relu[0][0]'] \n",
            " D)                                                                                               \n",
            "                                                                                                  \n",
            " conv4_block1_0_bn (BatchNo  (None, 10, 10, 1024)         4096      ['conv4_block1_0_conv[0][0]'] \n",
            " rmalization)                                                                                     \n",
            "                                                                                                  \n",
            " conv4_block1_3_bn (BatchNo  (None, 10, 10, 1024)         4096      ['conv4_block1_3_conv[0][0]'] \n",
            " rmalization)                                                                                     \n",
            "                                                                                                  \n",
            " conv4_block1_add (Add)      (None, 10, 10, 1024)         0         ['conv4_block1_0_bn[0][0]',   \n",
            "                                                                     'conv4_block1_3_bn[0][0]']   \n",
            "                                                                                                  \n",
            " conv4_block1_out (Activati  (None, 10, 10, 1024)         0         ['conv4_block1_add[0][0]']    \n",
            " on)                                                                                              \n",
            "                                                                                                  \n",
            " conv4_block2_1_conv (Conv2  (None, 10, 10, 256)          262400    ['conv4_block1_out[0][0]']    \n",
            " D)                                                                                               \n",
            "                                                                                                  \n",
            " conv4_block2_1_bn (BatchNo  (None, 10, 10, 256)          1024      ['conv4_block2_1_conv[0][0]'] \n",
            " rmalization)                                                                                     \n",
            "                                                                                                  \n",
            " conv4_block2_1_relu (Activ  (None, 10, 10, 256)          0         ['conv4_block2_1_bn[0][0]']   \n",
            " ation)                                                                                           \n",
            "                                                                                                  \n",
            " conv4_block2_2_conv (Conv2  (None, 10, 10, 256)          590080    ['conv4_block2_1_relu[0][0]'] \n",
            " D)                                                                                               \n",
            "                                                                                                  \n",
            " conv4_block2_2_bn (BatchNo  (None, 10, 10, 256)          1024      ['conv4_block2_2_conv[0][0]'] \n",
            " rmalization)                                                                                     \n",
            "                                                                                                  \n",
            " conv4_block2_2_relu (Activ  (None, 10, 10, 256)          0         ['conv4_block2_2_bn[0][0]']   \n",
            " ation)                                                                                           \n",
            "                                                                                                  \n",
            " conv4_block2_3_conv (Conv2  (None, 10, 10, 1024)         263168    ['conv4_block2_2_relu[0][0]'] \n",
            " D)                                                                                               \n",
            "                                                                                                  \n",
            " conv4_block2_3_bn (BatchNo  (None, 10, 10, 1024)         4096      ['conv4_block2_3_conv[0][0]'] \n",
            " rmalization)                                                                                     \n",
            "                                                                                                  \n",
            " conv4_block2_add (Add)      (None, 10, 10, 1024)         0         ['conv4_block1_out[0][0]',    \n",
            "                                                                     'conv4_block2_3_bn[0][0]']   \n",
            "                                                                                                  \n",
            " conv4_block2_out (Activati  (None, 10, 10, 1024)         0         ['conv4_block2_add[0][0]']    \n",
            " on)                                                                                              \n",
            "                                                                                                  \n",
            " conv4_block3_1_conv (Conv2  (None, 10, 10, 256)          262400    ['conv4_block2_out[0][0]']    \n",
            " D)                                                                                               \n",
            "                                                                                                  \n",
            " conv4_block3_1_bn (BatchNo  (None, 10, 10, 256)          1024      ['conv4_block3_1_conv[0][0]'] \n",
            " rmalization)                                                                                     \n",
            "                                                                                                  \n",
            " conv4_block3_1_relu (Activ  (None, 10, 10, 256)          0         ['conv4_block3_1_bn[0][0]']   \n",
            " ation)                                                                                           \n",
            "                                                                                                  \n",
            " conv4_block3_2_conv (Conv2  (None, 10, 10, 256)          590080    ['conv4_block3_1_relu[0][0]'] \n",
            " D)                                                                                               \n",
            "                                                                                                  \n",
            " conv4_block3_2_bn (BatchNo  (None, 10, 10, 256)          1024      ['conv4_block3_2_conv[0][0]'] \n",
            " rmalization)                                                                                     \n",
            "                                                                                                  \n",
            " conv4_block3_2_relu (Activ  (None, 10, 10, 256)          0         ['conv4_block3_2_bn[0][0]']   \n",
            " ation)                                                                                           \n",
            "                                                                                                  \n",
            " conv4_block3_3_conv (Conv2  (None, 10, 10, 1024)         263168    ['conv4_block3_2_relu[0][0]'] \n",
            " D)                                                                                               \n",
            "                                                                                                  \n",
            " conv4_block3_3_bn (BatchNo  (None, 10, 10, 1024)         4096      ['conv4_block3_3_conv[0][0]'] \n",
            " rmalization)                                                                                     \n",
            "                                                                                                  \n",
            " conv4_block3_add (Add)      (None, 10, 10, 1024)         0         ['conv4_block2_out[0][0]',    \n",
            "                                                                     'conv4_block3_3_bn[0][0]']   \n",
            "                                                                                                  \n",
            " conv4_block3_out (Activati  (None, 10, 10, 1024)         0         ['conv4_block3_add[0][0]']    \n",
            " on)                                                                                              \n",
            "                                                                                                  \n",
            " conv4_block4_1_conv (Conv2  (None, 10, 10, 256)          262400    ['conv4_block3_out[0][0]']    \n",
            " D)                                                                                               \n",
            "                                                                                                  \n",
            " conv4_block4_1_bn (BatchNo  (None, 10, 10, 256)          1024      ['conv4_block4_1_conv[0][0]'] \n",
            " rmalization)                                                                                     \n",
            "                                                                                                  \n",
            " conv4_block4_1_relu (Activ  (None, 10, 10, 256)          0         ['conv4_block4_1_bn[0][0]']   \n",
            " ation)                                                                                           \n",
            "                                                                                                  \n",
            " conv4_block4_2_conv (Conv2  (None, 10, 10, 256)          590080    ['conv4_block4_1_relu[0][0]'] \n",
            " D)                                                                                               \n",
            "                                                                                                  \n",
            " conv4_block4_2_bn (BatchNo  (None, 10, 10, 256)          1024      ['conv4_block4_2_conv[0][0]'] \n",
            " rmalization)                                                                                     \n",
            "                                                                                                  \n",
            " conv4_block4_2_relu (Activ  (None, 10, 10, 256)          0         ['conv4_block4_2_bn[0][0]']   \n",
            " ation)                                                                                           \n",
            "                                                                                                  \n",
            " conv4_block4_3_conv (Conv2  (None, 10, 10, 1024)         263168    ['conv4_block4_2_relu[0][0]'] \n",
            " D)                                                                                               \n",
            "                                                                                                  \n",
            " conv4_block4_3_bn (BatchNo  (None, 10, 10, 1024)         4096      ['conv4_block4_3_conv[0][0]'] \n",
            " rmalization)                                                                                     \n",
            "                                                                                                  \n",
            " conv4_block4_add (Add)      (None, 10, 10, 1024)         0         ['conv4_block3_out[0][0]',    \n",
            "                                                                     'conv4_block4_3_bn[0][0]']   \n",
            "                                                                                                  \n",
            " conv4_block4_out (Activati  (None, 10, 10, 1024)         0         ['conv4_block4_add[0][0]']    \n",
            " on)                                                                                              \n",
            "                                                                                                  \n",
            " conv4_block5_1_conv (Conv2  (None, 10, 10, 256)          262400    ['conv4_block4_out[0][0]']    \n",
            " D)                                                                                               \n",
            "                                                                                                  \n",
            " conv4_block5_1_bn (BatchNo  (None, 10, 10, 256)          1024      ['conv4_block5_1_conv[0][0]'] \n",
            " rmalization)                                                                                     \n",
            "                                                                                                  \n",
            " conv4_block5_1_relu (Activ  (None, 10, 10, 256)          0         ['conv4_block5_1_bn[0][0]']   \n",
            " ation)                                                                                           \n",
            "                                                                                                  \n",
            " conv4_block5_2_conv (Conv2  (None, 10, 10, 256)          590080    ['conv4_block5_1_relu[0][0]'] \n",
            " D)                                                                                               \n",
            "                                                                                                  \n",
            " conv4_block5_2_bn (BatchNo  (None, 10, 10, 256)          1024      ['conv4_block5_2_conv[0][0]'] \n",
            " rmalization)                                                                                     \n",
            "                                                                                                  \n",
            " conv4_block5_2_relu (Activ  (None, 10, 10, 256)          0         ['conv4_block5_2_bn[0][0]']   \n",
            " ation)                                                                                           \n",
            "                                                                                                  \n",
            " conv4_block5_3_conv (Conv2  (None, 10, 10, 1024)         263168    ['conv4_block5_2_relu[0][0]'] \n",
            " D)                                                                                               \n",
            "                                                                                                  \n",
            " conv4_block5_3_bn (BatchNo  (None, 10, 10, 1024)         4096      ['conv4_block5_3_conv[0][0]'] \n",
            " rmalization)                                                                                     \n",
            "                                                                                                  \n",
            " conv4_block5_add (Add)      (None, 10, 10, 1024)         0         ['conv4_block4_out[0][0]',    \n",
            "                                                                     'conv4_block5_3_bn[0][0]']   \n",
            "                                                                                                  \n",
            " conv4_block5_out (Activati  (None, 10, 10, 1024)         0         ['conv4_block5_add[0][0]']    \n",
            " on)                                                                                              \n",
            "                                                                                                  \n",
            " conv4_block6_1_conv (Conv2  (None, 10, 10, 256)          262400    ['conv4_block5_out[0][0]']    \n",
            " D)                                                                                               \n",
            "                                                                                                  \n",
            " conv4_block6_1_bn (BatchNo  (None, 10, 10, 256)          1024      ['conv4_block6_1_conv[0][0]'] \n",
            " rmalization)                                                                                     \n",
            "                                                                                                  \n",
            " conv4_block6_1_relu (Activ  (None, 10, 10, 256)          0         ['conv4_block6_1_bn[0][0]']   \n",
            " ation)                                                                                           \n",
            "                                                                                                  \n",
            " conv4_block6_2_conv (Conv2  (None, 10, 10, 256)          590080    ['conv4_block6_1_relu[0][0]'] \n",
            " D)                                                                                               \n",
            "                                                                                                  \n",
            " conv4_block6_2_bn (BatchNo  (None, 10, 10, 256)          1024      ['conv4_block6_2_conv[0][0]'] \n",
            " rmalization)                                                                                     \n",
            "                                                                                                  \n",
            " conv4_block6_2_relu (Activ  (None, 10, 10, 256)          0         ['conv4_block6_2_bn[0][0]']   \n",
            " ation)                                                                                           \n",
            "                                                                                                  \n",
            " conv4_block6_3_conv (Conv2  (None, 10, 10, 1024)         263168    ['conv4_block6_2_relu[0][0]'] \n",
            " D)                                                                                               \n",
            "                                                                                                  \n",
            " conv4_block6_3_bn (BatchNo  (None, 10, 10, 1024)         4096      ['conv4_block6_3_conv[0][0]'] \n",
            " rmalization)                                                                                     \n",
            "                                                                                                  \n",
            " conv4_block6_add (Add)      (None, 10, 10, 1024)         0         ['conv4_block5_out[0][0]',    \n",
            "                                                                     'conv4_block6_3_bn[0][0]']   \n",
            "                                                                                                  \n",
            " conv4_block6_out (Activati  (None, 10, 10, 1024)         0         ['conv4_block6_add[0][0]']    \n",
            " on)                                                                                              \n",
            "                                                                                                  \n",
            " conv5_block1_1_conv (Conv2  (None, 5, 5, 512)            524800    ['conv4_block6_out[0][0]']    \n",
            " D)                                                                                               \n",
            "                                                                                                  \n",
            " conv5_block1_1_bn (BatchNo  (None, 5, 5, 512)            2048      ['conv5_block1_1_conv[0][0]'] \n",
            " rmalization)                                                                                     \n",
            "                                                                                                  \n",
            " conv5_block1_1_relu (Activ  (None, 5, 5, 512)            0         ['conv5_block1_1_bn[0][0]']   \n",
            " ation)                                                                                           \n",
            "                                                                                                  \n",
            " conv5_block1_2_conv (Conv2  (None, 5, 5, 512)            2359808   ['conv5_block1_1_relu[0][0]'] \n",
            " D)                                                                                               \n",
            "                                                                                                  \n",
            " conv5_block1_2_bn (BatchNo  (None, 5, 5, 512)            2048      ['conv5_block1_2_conv[0][0]'] \n",
            " rmalization)                                                                                     \n",
            "                                                                                                  \n",
            " conv5_block1_2_relu (Activ  (None, 5, 5, 512)            0         ['conv5_block1_2_bn[0][0]']   \n",
            " ation)                                                                                           \n",
            "                                                                                                  \n",
            " conv5_block1_0_conv (Conv2  (None, 5, 5, 2048)           2099200   ['conv4_block6_out[0][0]']    \n",
            " D)                                                                                               \n",
            "                                                                                                  \n",
            " conv5_block1_3_conv (Conv2  (None, 5, 5, 2048)           1050624   ['conv5_block1_2_relu[0][0]'] \n",
            " D)                                                                                               \n",
            "                                                                                                  \n",
            " conv5_block1_0_bn (BatchNo  (None, 5, 5, 2048)           8192      ['conv5_block1_0_conv[0][0]'] \n",
            " rmalization)                                                                                     \n",
            "                                                                                                  \n",
            " conv5_block1_3_bn (BatchNo  (None, 5, 5, 2048)           8192      ['conv5_block1_3_conv[0][0]'] \n",
            " rmalization)                                                                                     \n",
            "                                                                                                  \n",
            " conv5_block1_add (Add)      (None, 5, 5, 2048)           0         ['conv5_block1_0_bn[0][0]',   \n",
            "                                                                     'conv5_block1_3_bn[0][0]']   \n",
            "                                                                                                  \n",
            " conv5_block1_out (Activati  (None, 5, 5, 2048)           0         ['conv5_block1_add[0][0]']    \n",
            " on)                                                                                              \n",
            "                                                                                                  \n",
            " conv5_block2_1_conv (Conv2  (None, 5, 5, 512)            1049088   ['conv5_block1_out[0][0]']    \n",
            " D)                                                                                               \n",
            "                                                                                                  \n",
            " conv5_block2_1_bn (BatchNo  (None, 5, 5, 512)            2048      ['conv5_block2_1_conv[0][0]'] \n",
            " rmalization)                                                                                     \n",
            "                                                                                                  \n",
            " conv5_block2_1_relu (Activ  (None, 5, 5, 512)            0         ['conv5_block2_1_bn[0][0]']   \n",
            " ation)                                                                                           \n",
            "                                                                                                  \n",
            " conv5_block2_2_conv (Conv2  (None, 5, 5, 512)            2359808   ['conv5_block2_1_relu[0][0]'] \n",
            " D)                                                                                               \n",
            "                                                                                                  \n",
            " conv5_block2_2_bn (BatchNo  (None, 5, 5, 512)            2048      ['conv5_block2_2_conv[0][0]'] \n",
            " rmalization)                                                                                     \n",
            "                                                                                                  \n",
            " conv5_block2_2_relu (Activ  (None, 5, 5, 512)            0         ['conv5_block2_2_bn[0][0]']   \n",
            " ation)                                                                                           \n",
            "                                                                                                  \n",
            " conv5_block2_3_conv (Conv2  (None, 5, 5, 2048)           1050624   ['conv5_block2_2_relu[0][0]'] \n",
            " D)                                                                                               \n",
            "                                                                                                  \n",
            " conv5_block2_3_bn (BatchNo  (None, 5, 5, 2048)           8192      ['conv5_block2_3_conv[0][0]'] \n",
            " rmalization)                                                                                     \n",
            "                                                                                                  \n",
            " conv5_block2_add (Add)      (None, 5, 5, 2048)           0         ['conv5_block1_out[0][0]',    \n",
            "                                                                     'conv5_block2_3_bn[0][0]']   \n",
            "                                                                                                  \n",
            " conv5_block2_out (Activati  (None, 5, 5, 2048)           0         ['conv5_block2_add[0][0]']    \n",
            " on)                                                                                              \n",
            "                                                                                                  \n",
            " conv5_block3_1_conv (Conv2  (None, 5, 5, 512)            1049088   ['conv5_block2_out[0][0]']    \n",
            " D)                                                                                               \n",
            "                                                                                                  \n",
            " conv5_block3_1_bn (BatchNo  (None, 5, 5, 512)            2048      ['conv5_block3_1_conv[0][0]'] \n",
            " rmalization)                                                                                     \n",
            "                                                                                                  \n",
            " conv5_block3_1_relu (Activ  (None, 5, 5, 512)            0         ['conv5_block3_1_bn[0][0]']   \n",
            " ation)                                                                                           \n",
            "                                                                                                  \n",
            " conv5_block3_2_conv (Conv2  (None, 5, 5, 512)            2359808   ['conv5_block3_1_relu[0][0]'] \n",
            " D)                                                                                               \n",
            "                                                                                                  \n",
            " conv5_block3_2_bn (BatchNo  (None, 5, 5, 512)            2048      ['conv5_block3_2_conv[0][0]'] \n",
            " rmalization)                                                                                     \n",
            "                                                                                                  \n",
            " conv5_block3_2_relu (Activ  (None, 5, 5, 512)            0         ['conv5_block3_2_bn[0][0]']   \n",
            " ation)                                                                                           \n",
            "                                                                                                  \n",
            " conv5_block3_3_conv (Conv2  (None, 5, 5, 2048)           1050624   ['conv5_block3_2_relu[0][0]'] \n",
            " D)                                                                                               \n",
            "                                                                                                  \n",
            " conv5_block3_3_bn (BatchNo  (None, 5, 5, 2048)           8192      ['conv5_block3_3_conv[0][0]'] \n",
            " rmalization)                                                                                     \n",
            "                                                                                                  \n",
            " conv5_block3_add (Add)      (None, 5, 5, 2048)           0         ['conv5_block2_out[0][0]',    \n",
            "                                                                     'conv5_block3_3_bn[0][0]']   \n",
            "                                                                                                  \n",
            " conv5_block3_out (Activati  (None, 5, 5, 2048)           0         ['conv5_block3_add[0][0]']    \n",
            " on)                                                                                              \n",
            "                                                                                                  \n",
            "==================================================================================================\n",
            "Total params: 23587712 (89.98 MB)\n",
            "Trainable params: 0 (0.00 Byte)\n",
            "Non-trainable params: 23587712 (89.98 MB)\n",
            "__________________________________________________________________________________________________\n"
          ]
        }
      ]
    },
    {
      "cell_type": "code",
      "source": [
        "model_resnet50 = Sequential()\n",
        "model_resnet50.add(resnet50_net)\n",
        "\n",
        "model_resnet50.add(Flatten())\n",
        "model_resnet50.add(Dense(256))\n",
        "model_resnet50.add(Activation('relu'))\n",
        "model_resnet50.add(Dropout(0.5))\n",
        "model_resnet50.add(Dense(1))\n",
        "model_resnet50.add(Activation('sigmoid'))\n",
        "\n",
        "model_resnet50.summary()"
      ],
      "metadata": {
        "id": "saNlYhAmC9HD",
        "colab": {
          "base_uri": "https://localhost:8080/"
        },
        "outputId": "4a05db21-eb8e-45c7-caf5-c474fe63d8cf"
      },
      "execution_count": null,
      "outputs": [
        {
          "output_type": "stream",
          "name": "stdout",
          "text": [
            "Model: \"sequential_2\"\n",
            "_________________________________________________________________\n",
            " Layer (type)                Output Shape              Param #   \n",
            "=================================================================\n",
            " resnet50 (Functional)       (None, 5, 5, 2048)        23587712  \n",
            "                                                                 \n",
            " flatten_2 (Flatten)         (None, 51200)             0         \n",
            "                                                                 \n",
            " dense_4 (Dense)             (None, 256)               13107456  \n",
            "                                                                 \n",
            " activation_7 (Activation)   (None, 256)               0         \n",
            "                                                                 \n",
            " dropout_2 (Dropout)         (None, 256)               0         \n",
            "                                                                 \n",
            " dense_5 (Dense)             (None, 1)                 257       \n",
            "                                                                 \n",
            " activation_8 (Activation)   (None, 1)                 0         \n",
            "                                                                 \n",
            "=================================================================\n",
            "Total params: 36695425 (139.98 MB)\n",
            "Trainable params: 13107713 (50.00 MB)\n",
            "Non-trainable params: 23587712 (89.98 MB)\n",
            "_________________________________________________________________\n"
          ]
        }
      ]
    },
    {
      "cell_type": "code",
      "source": [
        "model_resnet50.compile(loss='binary_crossentropy',\n",
        "                      optimizer=Adam(learning_rate=1e-5),\n",
        "                      metrics=['accuracy'])"
      ],
      "metadata": {
        "id": "XV7EU-1FC9JY"
      },
      "execution_count": null,
      "outputs": []
    },
    {
      "cell_type": "code",
      "source": [
        "Model_ResNet50 = model_resnet50.fit_generator(\n",
        "    train_generator,\n",
        "    steps_per_epoch=nb_train_samples // batch_size,\n",
        "    epochs=20,\n",
        "    validation_data=val_generator,\n",
        "    validation_steps=nb_validation_samples // batch_size)"
      ],
      "metadata": {
        "id": "UcqTrHevC9Lt",
        "colab": {
          "base_uri": "https://localhost:8080/"
        },
        "outputId": "700d0874-73bf-4afd-c872-23dc92b0ab28"
      },
      "execution_count": null,
      "outputs": [
        {
          "output_type": "stream",
          "name": "stdout",
          "text": [
            "Epoch 1/20\n",
            "312/312 [==============================] - 32s 90ms/step - loss: 0.6850 - accuracy: 0.5675 - val_loss: 0.6609 - val_accuracy: 0.5983\n",
            "Epoch 2/20\n",
            "312/312 [==============================] - 31s 99ms/step - loss: 0.6515 - accuracy: 0.6183 - val_loss: 0.6361 - val_accuracy: 0.6509\n",
            "Epoch 3/20\n",
            "312/312 [==============================] - 26s 85ms/step - loss: 0.6368 - accuracy: 0.6418 - val_loss: 0.6256 - val_accuracy: 0.6624\n",
            "Epoch 4/20\n",
            "312/312 [==============================] - 27s 85ms/step - loss: 0.6279 - accuracy: 0.6477 - val_loss: 0.6189 - val_accuracy: 0.6669\n",
            "Epoch 5/20\n",
            "312/312 [==============================] - 27s 85ms/step - loss: 0.6179 - accuracy: 0.6638 - val_loss: 0.6079 - val_accuracy: 0.6793\n",
            "Epoch 6/20\n",
            "312/312 [==============================] - 27s 86ms/step - loss: 0.6117 - accuracy: 0.6671 - val_loss: 0.6042 - val_accuracy: 0.6842\n",
            "Epoch 7/20\n",
            "312/312 [==============================] - 27s 85ms/step - loss: 0.6057 - accuracy: 0.6760 - val_loss: 0.6021 - val_accuracy: 0.6743\n",
            "Epoch 8/20\n",
            "312/312 [==============================] - 27s 85ms/step - loss: 0.5996 - accuracy: 0.6819 - val_loss: 0.5933 - val_accuracy: 0.6887\n",
            "Epoch 9/20\n",
            "312/312 [==============================] - 27s 85ms/step - loss: 0.5953 - accuracy: 0.6836 - val_loss: 0.5886 - val_accuracy: 0.6904\n",
            "Epoch 10/20\n",
            "312/312 [==============================] - 29s 92ms/step - loss: 0.5912 - accuracy: 0.6879 - val_loss: 0.5823 - val_accuracy: 0.7011\n",
            "Epoch 11/20\n",
            "312/312 [==============================] - 27s 85ms/step - loss: 0.5881 - accuracy: 0.6902 - val_loss: 0.5900 - val_accuracy: 0.6924\n",
            "Epoch 12/20\n",
            "312/312 [==============================] - 27s 85ms/step - loss: 0.5852 - accuracy: 0.6916 - val_loss: 0.5784 - val_accuracy: 0.7056\n",
            "Epoch 13/20\n",
            "312/312 [==============================] - 27s 85ms/step - loss: 0.5797 - accuracy: 0.6988 - val_loss: 0.5771 - val_accuracy: 0.7072\n",
            "Epoch 14/20\n",
            "312/312 [==============================] - 28s 89ms/step - loss: 0.5789 - accuracy: 0.6987 - val_loss: 0.5745 - val_accuracy: 0.7039\n",
            "Epoch 15/20\n",
            "312/312 [==============================] - 27s 87ms/step - loss: 0.5756 - accuracy: 0.7015 - val_loss: 0.5728 - val_accuracy: 0.7068\n",
            "Epoch 16/20\n",
            "312/312 [==============================] - 27s 87ms/step - loss: 0.5718 - accuracy: 0.7049 - val_loss: 0.5696 - val_accuracy: 0.7081\n",
            "Epoch 17/20\n",
            "312/312 [==============================] - 27s 85ms/step - loss: 0.5714 - accuracy: 0.7025 - val_loss: 0.5676 - val_accuracy: 0.7138\n",
            "Epoch 18/20\n",
            "312/312 [==============================] - 27s 85ms/step - loss: 0.5683 - accuracy: 0.7086 - val_loss: 0.5645 - val_accuracy: 0.7163\n",
            "Epoch 19/20\n",
            "312/312 [==============================] - 27s 85ms/step - loss: 0.5643 - accuracy: 0.7106 - val_loss: 0.5643 - val_accuracy: 0.7138\n",
            "Epoch 20/20\n",
            "312/312 [==============================] - 27s 85ms/step - loss: 0.5632 - accuracy: 0.7135 - val_loss: 0.5600 - val_accuracy: 0.7200\n"
          ]
        }
      ]
    },
    {
      "cell_type": "markdown",
      "source": [
        "### Evaluate accuracy on test data"
      ],
      "metadata": {
        "id": "AuAvmhaaJKbX"
      }
    },
    {
      "cell_type": "code",
      "source": [
        "scores_resnet50 = model_resnet50.evaluate_generator(test_generator, nb_test_samples // batch_size)\n",
        "print(\"Accuracy on test data (ResNet50): %.2f%%\" % (scores_resnet50[1] * 100))"
      ],
      "metadata": {
        "id": "y-FNALfnC9OM",
        "colab": {
          "base_uri": "https://localhost:8080/"
        },
        "outputId": "b2a81032-9ace-4c5c-ab88-7d11c0ada91f"
      },
      "execution_count": null,
      "outputs": [
        {
          "output_type": "stream",
          "name": "stdout",
          "text": [
            "Accuracy on test data (ResNet50): 71.39%\n"
          ]
        }
      ]
    },
    {
      "cell_type": "markdown",
      "source": [
        "### Plot the graphs for Loss(number_of_epochs) and Accuracy(number_of_epochs)"
      ],
      "metadata": {
        "id": "CsinPyTFJUC5"
      }
    },
    {
      "cell_type": "code",
      "source": [
        "iterations = range(1, len(Model_ResNet50.history['accuracy']) + 1)\n",
        "accuracy = Model_ResNet50.history['accuracy']\n",
        "loss = Model_ResNet50.history['loss']\n",
        "\n",
        "plt.figure(figsize=(10, 5))\n",
        "plt.plot(iterations, accuracy, 'b', label='Accuracy', linewidth=2, marker='o')\n",
        "plt.plot(iterations, loss, 'r', label='Loss', linewidth=2, marker='s')\n",
        "plt.title('Model Accuracy and Loss')\n",
        "plt.xlabel('Iteration')\n",
        "plt.ylabel('Value')\n",
        "plt.legend()\n",
        "plt.grid(True)\n",
        "plt.tight_layout()\n",
        "plt.show()"
      ],
      "metadata": {
        "id": "1Md_olFZC9Qb",
        "colab": {
          "base_uri": "https://localhost:8080/",
          "height": 507
        },
        "outputId": "d9f7749c-baf7-47bc-ef36-dd3c50963cf7"
      },
      "execution_count": null,
      "outputs": [
        {
          "output_type": "display_data",
          "data": {
            "text/plain": [
              "<Figure size 1000x500 with 1 Axes>"
            ],
            "image/png": "[encoded data removed]"
          },
          "metadata": {}
        }
      ]
    },
    {
      "cell_type": "markdown",
      "source": [
        "## Xception"
      ],
      "metadata": {
        "id": "zm2dWIkXNsnF"
      }
    },
    {
      "cell_type": "code",
      "source": [
        "from keras.applications import Xception\n",
        "from tensorflow.keras.layers import LeakyReLU\n",
        "from keras.layers import Flatten, Dense, Dropout, BatchNormalization"
      ],
      "metadata": {
        "id": "lCLTj_yXPxfJ"
      },
      "execution_count": null,
      "outputs": []
    },
    {
      "cell_type": "code",
      "source": [
        "xception_net = Xception(weights='imagenet',\n",
        "                        include_top=False,\n",
        "                        input_shape=(150, 150, 3))\n",
        "xception_net.trainable = False\n",
        "xception_net.summary()"
      ],
      "metadata": {
        "id": "PAdMZ7maNyyN",
        "colab": {
          "base_uri": "https://localhost:8080/"
        },
        "outputId": "d5a13526-094c-41d8-f7a5-42d0a495f50d"
      },
      "execution_count": null,
      "outputs": [
        {
          "output_type": "stream",
          "name": "stdout",
          "text": [
            "Model: \"xception\"\n",
            "__________________________________________________________________________________________________\n",
            " Layer (type)                Output Shape                 Param #   Connected to                  \n",
            "==================================================================================================\n",
            " input_3 (InputLayer)        [(None, 150, 150, 3)]        0         []                            \n",
            "                                                                                                  \n",
            " block1_conv1 (Conv2D)       (None, 74, 74, 32)           864       ['input_3[0][0]']             \n",
            "                                                                                                  \n",
            " block1_conv1_bn (BatchNorm  (None, 74, 74, 32)           128       ['block1_conv1[0][0]']        \n",
            " alization)                                                                                       \n",
            "                                                                                                  \n",
            " block1_conv1_act (Activati  (None, 74, 74, 32)           0         ['block1_conv1_bn[0][0]']     \n",
            " on)                                                                                              \n",
            "                                                                                                  \n",
            " block1_conv2 (Conv2D)       (None, 72, 72, 64)           18432     ['block1_conv1_act[0][0]']    \n",
            "                                                                                                  \n",
            " block1_conv2_bn (BatchNorm  (None, 72, 72, 64)           256       ['block1_conv2[0][0]']        \n",
            " alization)                                                                                       \n",
            "                                                                                                  \n",
            " block1_conv2_act (Activati  (None, 72, 72, 64)           0         ['block1_conv2_bn[0][0]']     \n",
            " on)                                                                                              \n",
            "                                                                                                  \n",
            " block2_sepconv1 (Separable  (None, 72, 72, 128)          8768      ['block1_conv2_act[0][0]']    \n",
            " Conv2D)                                                                                          \n",
            "                                                                                                  \n",
            " block2_sepconv1_bn (BatchN  (None, 72, 72, 128)          512       ['block2_sepconv1[0][0]']     \n",
            " ormalization)                                                                                    \n",
            "                                                                                                  \n",
            " block2_sepconv2_act (Activ  (None, 72, 72, 128)          0         ['block2_sepconv1_bn[0][0]']  \n",
            " ation)                                                                                           \n",
            "                                                                                                  \n",
            " block2_sepconv2 (Separable  (None, 72, 72, 128)          17536     ['block2_sepconv2_act[0][0]'] \n",
            " Conv2D)                                                                                          \n",
            "                                                                                                  \n",
            " block2_sepconv2_bn (BatchN  (None, 72, 72, 128)          512       ['block2_sepconv2[0][0]']     \n",
            " ormalization)                                                                                    \n",
            "                                                                                                  \n",
            " conv2d_3 (Conv2D)           (None, 36, 36, 128)          8192      ['block1_conv2_act[0][0]']    \n",
            "                                                                                                  \n",
            " block2_pool (MaxPooling2D)  (None, 36, 36, 128)          0         ['block2_sepconv2_bn[0][0]']  \n",
            "                                                                                                  \n",
            " batch_normalization (Batch  (None, 36, 36, 128)          512       ['conv2d_3[0][0]']            \n",
            " Normalization)                                                                                   \n",
            "                                                                                                  \n",
            " add (Add)                   (None, 36, 36, 128)          0         ['block2_pool[0][0]',         \n",
            "                                                                     'batch_normalization[0][0]'] \n",
            "                                                                                                  \n",
            " block3_sepconv1_act (Activ  (None, 36, 36, 128)          0         ['add[0][0]']                 \n",
            " ation)                                                                                           \n",
            "                                                                                                  \n",
            " block3_sepconv1 (Separable  (None, 36, 36, 256)          33920     ['block3_sepconv1_act[0][0]'] \n",
            " Conv2D)                                                                                          \n",
            "                                                                                                  \n",
            " block3_sepconv1_bn (BatchN  (None, 36, 36, 256)          1024      ['block3_sepconv1[0][0]']     \n",
            " ormalization)                                                                                    \n",
            "                                                                                                  \n",
            " block3_sepconv2_act (Activ  (None, 36, 36, 256)          0         ['block3_sepconv1_bn[0][0]']  \n",
            " ation)                                                                                           \n",
            "                                                                                                  \n",
            " block3_sepconv2 (Separable  (None, 36, 36, 256)          67840     ['block3_sepconv2_act[0][0]'] \n",
            " Conv2D)                                                                                          \n",
            "                                                                                                  \n",
            " block3_sepconv2_bn (BatchN  (None, 36, 36, 256)          1024      ['block3_sepconv2[0][0]']     \n",
            " ormalization)                                                                                    \n",
            "                                                                                                  \n",
            " conv2d_4 (Conv2D)           (None, 18, 18, 256)          32768     ['add[0][0]']                 \n",
            "                                                                                                  \n",
            " block3_pool (MaxPooling2D)  (None, 18, 18, 256)          0         ['block3_sepconv2_bn[0][0]']  \n",
            "                                                                                                  \n",
            " batch_normalization_1 (Bat  (None, 18, 18, 256)          1024      ['conv2d_4[0][0]']            \n",
            " chNormalization)                                                                                 \n",
            "                                                                                                  \n",
            " add_1 (Add)                 (None, 18, 18, 256)          0         ['block3_pool[0][0]',         \n",
            "                                                                     'batch_normalization_1[0][0]'\n",
            "                                                                    ]                             \n",
            "                                                                                                  \n",
            " block4_sepconv1_act (Activ  (None, 18, 18, 256)          0         ['add_1[0][0]']               \n",
            " ation)                                                                                           \n",
            "                                                                                                  \n",
            " block4_sepconv1 (Separable  (None, 18, 18, 728)          188672    ['block4_sepconv1_act[0][0]'] \n",
            " Conv2D)                                                                                          \n",
            "                                                                                                  \n",
            " block4_sepconv1_bn (BatchN  (None, 18, 18, 728)          2912      ['block4_sepconv1[0][0]']     \n",
            " ormalization)                                                                                    \n",
            "                                                                                                  \n",
            " block4_sepconv2_act (Activ  (None, 18, 18, 728)          0         ['block4_sepconv1_bn[0][0]']  \n",
            " ation)                                                                                           \n",
            "                                                                                                  \n",
            " block4_sepconv2 (Separable  (None, 18, 18, 728)          536536    ['block4_sepconv2_act[0][0]'] \n",
            " Conv2D)                                                                                          \n",
            "                                                                                                  \n",
            " block4_sepconv2_bn (BatchN  (None, 18, 18, 728)          2912      ['block4_sepconv2[0][0]']     \n",
            " ormalization)                                                                                    \n",
            "                                                                                                  \n",
            " conv2d_5 (Conv2D)           (None, 9, 9, 728)            186368    ['add_1[0][0]']               \n",
            "                                                                                                  \n",
            " block4_pool (MaxPooling2D)  (None, 9, 9, 728)            0         ['block4_sepconv2_bn[0][0]']  \n",
            "                                                                                                  \n",
            " batch_normalization_2 (Bat  (None, 9, 9, 728)            2912      ['conv2d_5[0][0]']            \n",
            " chNormalization)                                                                                 \n",
            "                                                                                                  \n",
            " add_2 (Add)                 (None, 9, 9, 728)            0         ['block4_pool[0][0]',         \n",
            "                                                                     'batch_normalization_2[0][0]'\n",
            "                                                                    ]                             \n",
            "                                                                                                  \n",
            " block5_sepconv1_act (Activ  (None, 9, 9, 728)            0         ['add_2[0][0]']               \n",
            " ation)                                                                                           \n",
            "                                                                                                  \n",
            " block5_sepconv1 (Separable  (None, 9, 9, 728)            536536    ['block5_sepconv1_act[0][0]'] \n",
            " Conv2D)                                                                                          \n",
            "                                                                                                  \n",
            " block5_sepconv1_bn (BatchN  (None, 9, 9, 728)            2912      ['block5_sepconv1[0][0]']     \n",
            " ormalization)                                                                                    \n",
            "                                                                                                  \n",
            " block5_sepconv2_act (Activ  (None, 9, 9, 728)            0         ['block5_sepconv1_bn[0][0]']  \n",
            " ation)                                                                                           \n",
            "                                                                                                  \n",
            " block5_sepconv2 (Separable  (None, 9, 9, 728)            536536    ['block5_sepconv2_act[0][0]'] \n",
            " Conv2D)                                                                                          \n",
            "                                                                                                  \n",
            " block5_sepconv2_bn (BatchN  (None, 9, 9, 728)            2912      ['block5_sepconv2[0][0]']     \n",
            " ormalization)                                                                                    \n",
            "                                                                                                  \n",
            " block5_sepconv3_act (Activ  (None, 9, 9, 728)            0         ['block5_sepconv2_bn[0][0]']  \n",
            " ation)                                                                                           \n",
            "                                                                                                  \n",
            " block5_sepconv3 (Separable  (None, 9, 9, 728)            536536    ['block5_sepconv3_act[0][0]'] \n",
            " Conv2D)                                                                                          \n",
            "                                                                                                  \n",
            " block5_sepconv3_bn (BatchN  (None, 9, 9, 728)            2912      ['block5_sepconv3[0][0]']     \n",
            " ormalization)                                                                                    \n",
            "                                                                                                  \n",
            " add_3 (Add)                 (None, 9, 9, 728)            0         ['block5_sepconv3_bn[0][0]',  \n",
            "                                                                     'add_2[0][0]']               \n",
            "                                                                                                  \n",
            " block6_sepconv1_act (Activ  (None, 9, 9, 728)            0         ['add_3[0][0]']               \n",
            " ation)                                                                                           \n",
            "                                                                                                  \n",
            " block6_sepconv1 (Separable  (None, 9, 9, 728)            536536    ['block6_sepconv1_act[0][0]'] \n",
            " Conv2D)                                                                                          \n",
            "                                                                                                  \n",
            " block6_sepconv1_bn (BatchN  (None, 9, 9, 728)            2912      ['block6_sepconv1[0][0]']     \n",
            " ormalization)                                                                                    \n",
            "                                                                                                  \n",
            " block6_sepconv2_act (Activ  (None, 9, 9, 728)            0         ['block6_sepconv1_bn[0][0]']  \n",
            " ation)                                                                                           \n",
            "                                                                                                  \n",
            " block6_sepconv2 (Separable  (None, 9, 9, 728)            536536    ['block6_sepconv2_act[0][0]'] \n",
            " Conv2D)                                                                                          \n",
            "                                                                                                  \n",
            " block6_sepconv2_bn (BatchN  (None, 9, 9, 728)            2912      ['block6_sepconv2[0][0]']     \n",
            " ormalization)                                                                                    \n",
            "                                                                                                  \n",
            " block6_sepconv3_act (Activ  (None, 9, 9, 728)            0         ['block6_sepconv2_bn[0][0]']  \n",
            " ation)                                                                                           \n",
            "                                                                                                  \n",
            " block6_sepconv3 (Separable  (None, 9, 9, 728)            536536    ['block6_sepconv3_act[0][0]'] \n",
            " Conv2D)                                                                                          \n",
            "                                                                                                  \n",
            " block6_sepconv3_bn (BatchN  (None, 9, 9, 728)            2912      ['block6_sepconv3[0][0]']     \n",
            " ormalization)                                                                                    \n",
            "                                                                                                  \n",
            " add_4 (Add)                 (None, 9, 9, 728)            0         ['block6_sepconv3_bn[0][0]',  \n",
            "                                                                     'add_3[0][0]']               \n",
            "                                                                                                  \n",
            " block7_sepconv1_act (Activ  (None, 9, 9, 728)            0         ['add_4[0][0]']               \n",
            " ation)                                                                                           \n",
            "                                                                                                  \n",
            " block7_sepconv1 (Separable  (None, 9, 9, 728)            536536    ['block7_sepconv1_act[0][0]'] \n",
            " Conv2D)                                                                                          \n",
            "                                                                                                  \n",
            " block7_sepconv1_bn (BatchN  (None, 9, 9, 728)            2912      ['block7_sepconv1[0][0]']     \n",
            " ormalization)                                                                                    \n",
            "                                                                                                  \n",
            " block7_sepconv2_act (Activ  (None, 9, 9, 728)            0         ['block7_sepconv1_bn[0][0]']  \n",
            " ation)                                                                                           \n",
            "                                                                                                  \n",
            " block7_sepconv2 (Separable  (None, 9, 9, 728)            536536    ['block7_sepconv2_act[0][0]'] \n",
            " Conv2D)                                                                                          \n",
            "                                                                                                  \n",
            " block7_sepconv2_bn (BatchN  (None, 9, 9, 728)            2912      ['block7_sepconv2[0][0]']     \n",
            " ormalization)                                                                                    \n",
            "                                                                                                  \n",
            " block7_sepconv3_act (Activ  (None, 9, 9, 728)            0         ['block7_sepconv2_bn[0][0]']  \n",
            " ation)                                                                                           \n",
            "                                                                                                  \n",
            " block7_sepconv3 (Separable  (None, 9, 9, 728)            536536    ['block7_sepconv3_act[0][0]'] \n",
            " Conv2D)                                                                                          \n",
            "                                                                                                  \n",
            " block7_sepconv3_bn (BatchN  (None, 9, 9, 728)            2912      ['block7_sepconv3[0][0]']     \n",
            " ormalization)                                                                                    \n",
            "                                                                                                  \n",
            " add_5 (Add)                 (None, 9, 9, 728)            0         ['block7_sepconv3_bn[0][0]',  \n",
            "                                                                     'add_4[0][0]']               \n",
            "                                                                                                  \n",
            " block8_sepconv1_act (Activ  (None, 9, 9, 728)            0         ['add_5[0][0]']               \n",
            " ation)                                                                                           \n",
            "                                                                                                  \n",
            " block8_sepconv1 (Separable  (None, 9, 9, 728)            536536    ['block8_sepconv1_act[0][0]'] \n",
            " Conv2D)                                                                                          \n",
            "                                                                                                  \n",
            " block8_sepconv1_bn (BatchN  (None, 9, 9, 728)            2912      ['block8_sepconv1[0][0]']     \n",
            " ormalization)                                                                                    \n",
            "                                                                                                  \n",
            " block8_sepconv2_act (Activ  (None, 9, 9, 728)            0         ['block8_sepconv1_bn[0][0]']  \n",
            " ation)                                                                                           \n",
            "                                                                                                  \n",
            " block8_sepconv2 (Separable  (None, 9, 9, 728)            536536    ['block8_sepconv2_act[0][0]'] \n",
            " Conv2D)                                                                                          \n",
            "                                                                                                  \n",
            " block8_sepconv2_bn (BatchN  (None, 9, 9, 728)            2912      ['block8_sepconv2[0][0]']     \n",
            " ormalization)                                                                                    \n",
            "                                                                                                  \n",
            " block8_sepconv3_act (Activ  (None, 9, 9, 728)            0         ['block8_sepconv2_bn[0][0]']  \n",
            " ation)                                                                                           \n",
            "                                                                                                  \n",
            " block8_sepconv3 (Separable  (None, 9, 9, 728)            536536    ['block8_sepconv3_act[0][0]'] \n",
            " Conv2D)                                                                                          \n",
            "                                                                                                  \n",
            " block8_sepconv3_bn (BatchN  (None, 9, 9, 728)            2912      ['block8_sepconv3[0][0]']     \n",
            " ormalization)                                                                                    \n",
            "                                                                                                  \n",
            " add_6 (Add)                 (None, 9, 9, 728)            0         ['block8_sepconv3_bn[0][0]',  \n",
            "                                                                     'add_5[0][0]']               \n",
            "                                                                                                  \n",
            " block9_sepconv1_act (Activ  (None, 9, 9, 728)            0         ['add_6[0][0]']               \n",
            " ation)                                                                                           \n",
            "                                                                                                  \n",
            " block9_sepconv1 (Separable  (None, 9, 9, 728)            536536    ['block9_sepconv1_act[0][0]'] \n",
            " Conv2D)                                                                                          \n",
            "                                                                                                  \n",
            " block9_sepconv1_bn (BatchN  (None, 9, 9, 728)            2912      ['block9_sepconv1[0][0]']     \n",
            " ormalization)                                                                                    \n",
            "                                                                                                  \n",
            " block9_sepconv2_act (Activ  (None, 9, 9, 728)            0         ['block9_sepconv1_bn[0][0]']  \n",
            " ation)                                                                                           \n",
            "                                                                                                  \n",
            " block9_sepconv2 (Separable  (None, 9, 9, 728)            536536    ['block9_sepconv2_act[0][0]'] \n",
            " Conv2D)                                                                                          \n",
            "                                                                                                  \n",
            " block9_sepconv2_bn (BatchN  (None, 9, 9, 728)            2912      ['block9_sepconv2[0][0]']     \n",
            " ormalization)                                                                                    \n",
            "                                                                                                  \n",
            " block9_sepconv3_act (Activ  (None, 9, 9, 728)            0         ['block9_sepconv2_bn[0][0]']  \n",
            " ation)                                                                                           \n",
            "                                                                                                  \n",
            " block9_sepconv3 (Separable  (None, 9, 9, 728)            536536    ['block9_sepconv3_act[0][0]'] \n",
            " Conv2D)                                                                                          \n",
            "                                                                                                  \n",
            " block9_sepconv3_bn (BatchN  (None, 9, 9, 728)            2912      ['block9_sepconv3[0][0]']     \n",
            " ormalization)                                                                                    \n",
            "                                                                                                  \n",
            " add_7 (Add)                 (None, 9, 9, 728)            0         ['block9_sepconv3_bn[0][0]',  \n",
            "                                                                     'add_6[0][0]']               \n",
            "                                                                                                  \n",
            " block10_sepconv1_act (Acti  (None, 9, 9, 728)            0         ['add_7[0][0]']               \n",
            " vation)                                                                                          \n",
            "                                                                                                  \n",
            " block10_sepconv1 (Separabl  (None, 9, 9, 728)            536536    ['block10_sepconv1_act[0][0]']\n",
            " eConv2D)                                                                                         \n",
            "                                                                                                  \n",
            " block10_sepconv1_bn (Batch  (None, 9, 9, 728)            2912      ['block10_sepconv1[0][0]']    \n",
            " Normalization)                                                                                   \n",
            "                                                                                                  \n",
            " block10_sepconv2_act (Acti  (None, 9, 9, 728)            0         ['block10_sepconv1_bn[0][0]'] \n",
            " vation)                                                                                          \n",
            "                                                                                                  \n",
            " block10_sepconv2 (Separabl  (None, 9, 9, 728)            536536    ['block10_sepconv2_act[0][0]']\n",
            " eConv2D)                                                                                         \n",
            "                                                                                                  \n",
            " block10_sepconv2_bn (Batch  (None, 9, 9, 728)            2912      ['block10_sepconv2[0][0]']    \n",
            " Normalization)                                                                                   \n",
            "                                                                                                  \n",
            " block10_sepconv3_act (Acti  (None, 9, 9, 728)            0         ['block10_sepconv2_bn[0][0]'] \n",
            " vation)                                                                                          \n",
            "                                                                                                  \n",
            " block10_sepconv3 (Separabl  (None, 9, 9, 728)            536536    ['block10_sepconv3_act[0][0]']\n",
            " eConv2D)                                                                                         \n",
            "                                                                                                  \n",
            " block10_sepconv3_bn (Batch  (None, 9, 9, 728)            2912      ['block10_sepconv3[0][0]']    \n",
            " Normalization)                                                                                   \n",
            "                                                                                                  \n",
            " add_8 (Add)                 (None, 9, 9, 728)            0         ['block10_sepconv3_bn[0][0]', \n",
            "                                                                     'add_7[0][0]']               \n",
            "                                                                                                  \n",
            " block11_sepconv1_act (Acti  (None, 9, 9, 728)            0         ['add_8[0][0]']               \n",
            " vation)                                                                                          \n",
            "                                                                                                  \n",
            " block11_sepconv1 (Separabl  (None, 9, 9, 728)            536536    ['block11_sepconv1_act[0][0]']\n",
            " eConv2D)                                                                                         \n",
            "                                                                                                  \n",
            " block11_sepconv1_bn (Batch  (None, 9, 9, 728)            2912      ['block11_sepconv1[0][0]']    \n",
            " Normalization)                                                                                   \n",
            "                                                                                                  \n",
            " block11_sepconv2_act (Acti  (None, 9, 9, 728)            0         ['block11_sepconv1_bn[0][0]'] \n",
            " vation)                                                                                          \n",
            "                                                                                                  \n",
            " block11_sepconv2 (Separabl  (None, 9, 9, 728)            536536    ['block11_sepconv2_act[0][0]']\n",
            " eConv2D)                                                                                         \n",
            "                                                                                                  \n",
            " block11_sepconv2_bn (Batch  (None, 9, 9, 728)            2912      ['block11_sepconv2[0][0]']    \n",
            " Normalization)                                                                                   \n",
            "                                                                                                  \n",
            " block11_sepconv3_act (Acti  (None, 9, 9, 728)            0         ['block11_sepconv2_bn[0][0]'] \n",
            " vation)                                                                                          \n",
            "                                                                                                  \n",
            " block11_sepconv3 (Separabl  (None, 9, 9, 728)            536536    ['block11_sepconv3_act[0][0]']\n",
            " eConv2D)                                                                                         \n",
            "                                                                                                  \n",
            " block11_sepconv3_bn (Batch  (None, 9, 9, 728)            2912      ['block11_sepconv3[0][0]']    \n",
            " Normalization)                                                                                   \n",
            "                                                                                                  \n",
            " add_9 (Add)                 (None, 9, 9, 728)            0         ['block11_sepconv3_bn[0][0]', \n",
            "                                                                     'add_8[0][0]']               \n",
            "                                                                                                  \n",
            " block12_sepconv1_act (Acti  (None, 9, 9, 728)            0         ['add_9[0][0]']               \n",
            " vation)                                                                                          \n",
            "                                                                                                  \n",
            " block12_sepconv1 (Separabl  (None, 9, 9, 728)            536536    ['block12_sepconv1_act[0][0]']\n",
            " eConv2D)                                                                                         \n",
            "                                                                                                  \n",
            " block12_sepconv1_bn (Batch  (None, 9, 9, 728)            2912      ['block12_sepconv1[0][0]']    \n",
            " Normalization)                                                                                   \n",
            "                                                                                                  \n",
            " block12_sepconv2_act (Acti  (None, 9, 9, 728)            0         ['block12_sepconv1_bn[0][0]'] \n",
            " vation)                                                                                          \n",
            "                                                                                                  \n",
            " block12_sepconv2 (Separabl  (None, 9, 9, 728)            536536    ['block12_sepconv2_act[0][0]']\n",
            " eConv2D)                                                                                         \n",
            "                                                                                                  \n",
            " block12_sepconv2_bn (Batch  (None, 9, 9, 728)            2912      ['block12_sepconv2[0][0]']    \n",
            " Normalization)                                                                                   \n",
            "                                                                                                  \n",
            " block12_sepconv3_act (Acti  (None, 9, 9, 728)            0         ['block12_sepconv2_bn[0][0]'] \n",
            " vation)                                                                                          \n",
            "                                                                                                  \n",
            " block12_sepconv3 (Separabl  (None, 9, 9, 728)            536536    ['block12_sepconv3_act[0][0]']\n",
            " eConv2D)                                                                                         \n",
            "                                                                                                  \n",
            " block12_sepconv3_bn (Batch  (None, 9, 9, 728)            2912      ['block12_sepconv3[0][0]']    \n",
            " Normalization)                                                                                   \n",
            "                                                                                                  \n",
            " add_10 (Add)                (None, 9, 9, 728)            0         ['block12_sepconv3_bn[0][0]', \n",
            "                                                                     'add_9[0][0]']               \n",
            "                                                                                                  \n",
            " block13_sepconv1_act (Acti  (None, 9, 9, 728)            0         ['add_10[0][0]']              \n",
            " vation)                                                                                          \n",
            "                                                                                                  \n",
            " block13_sepconv1 (Separabl  (None, 9, 9, 728)            536536    ['block13_sepconv1_act[0][0]']\n",
            " eConv2D)                                                                                         \n",
            "                                                                                                  \n",
            " block13_sepconv1_bn (Batch  (None, 9, 9, 728)            2912      ['block13_sepconv1[0][0]']    \n",
            " Normalization)                                                                                   \n",
            "                                                                                                  \n",
            " block13_sepconv2_act (Acti  (None, 9, 9, 728)            0         ['block13_sepconv1_bn[0][0]'] \n",
            " vation)                                                                                          \n",
            "                                                                                                  \n",
            " block13_sepconv2 (Separabl  (None, 9, 9, 1024)           752024    ['block13_sepconv2_act[0][0]']\n",
            " eConv2D)                                                                                         \n",
            "                                                                                                  \n",
            " block13_sepconv2_bn (Batch  (None, 9, 9, 1024)           4096      ['block13_sepconv2[0][0]']    \n",
            " Normalization)                                                                                   \n",
            "                                                                                                  \n",
            " conv2d_6 (Conv2D)           (None, 5, 5, 1024)           745472    ['add_10[0][0]']              \n",
            "                                                                                                  \n",
            " block13_pool (MaxPooling2D  (None, 5, 5, 1024)           0         ['block13_sepconv2_bn[0][0]'] \n",
            " )                                                                                                \n",
            "                                                                                                  \n",
            " batch_normalization_3 (Bat  (None, 5, 5, 1024)           4096      ['conv2d_6[0][0]']            \n",
            " chNormalization)                                                                                 \n",
            "                                                                                                  \n",
            " add_11 (Add)                (None, 5, 5, 1024)           0         ['block13_pool[0][0]',        \n",
            "                                                                     'batch_normalization_3[0][0]'\n",
            "                                                                    ]                             \n",
            "                                                                                                  \n",
            " block14_sepconv1 (Separabl  (None, 5, 5, 1536)           1582080   ['add_11[0][0]']              \n",
            " eConv2D)                                                                                         \n",
            "                                                                                                  \n",
            " block14_sepconv1_bn (Batch  (None, 5, 5, 1536)           6144      ['block14_sepconv1[0][0]']    \n",
            " Normalization)                                                                                   \n",
            "                                                                                                  \n",
            " block14_sepconv1_act (Acti  (None, 5, 5, 1536)           0         ['block14_sepconv1_bn[0][0]'] \n",
            " vation)                                                                                          \n",
            "                                                                                                  \n",
            " block14_sepconv2 (Separabl  (None, 5, 5, 2048)           3159552   ['block14_sepconv1_act[0][0]']\n",
            " eConv2D)                                                                                         \n",
            "                                                                                                  \n",
            " block14_sepconv2_bn (Batch  (None, 5, 5, 2048)           8192      ['block14_sepconv2[0][0]']    \n",
            " Normalization)                                                                                   \n",
            "                                                                                                  \n",
            " block14_sepconv2_act (Acti  (None, 5, 5, 2048)           0         ['block14_sepconv2_bn[0][0]'] \n",
            " vation)                                                                                          \n",
            "                                                                                                  \n",
            "==================================================================================================\n",
            "Total params: 20861480 (79.58 MB)\n",
            "Trainable params: 0 (0.00 Byte)\n",
            "Non-trainable params: 20861480 (79.58 MB)\n",
            "__________________________________________________________________________________________________\n"
          ]
        }
      ]
    },
    {
      "cell_type": "code",
      "source": [
        "model_xception = Sequential()\n",
        "model_xception.add(xception_net)\n",
        "\n",
        "model_xception.add(Flatten())\n",
        "model_xception.add(Dense(1024))\n",
        "model_xception.add(BatchNormalization())\n",
        "model_xception.add(LeakyReLU(alpha=0.1))\n",
        "model_xception.add(Dropout(0.5))\n",
        "\n",
        "model_xception.add(Dense(512))\n",
        "model_xception.add(BatchNormalization())\n",
        "model_xception.add(LeakyReLU(alpha=0.1))\n",
        "model_xception.add(Dropout(0.5))\n",
        "\n",
        "model_xception.add(Dense(256))\n",
        "model_xception.add(BatchNormalization())\n",
        "model_xception.add(LeakyReLU(alpha=0.1))\n",
        "model_xception.add(Dropout(0.5))\n",
        "\n",
        "model_xception.add(Dense(1, activation='sigmoid'))\n",
        "\n",
        "model_xception.summary()"
      ],
      "metadata": {
        "id": "8iEW8Ys5Nyva",
        "colab": {
          "base_uri": "https://localhost:8080/"
        },
        "outputId": "633aa4bf-0b13-4145-970d-9dfe970f139d"
      },
      "execution_count": null,
      "outputs": [
        {
          "output_type": "stream",
          "name": "stdout",
          "text": [
            "Model: \"sequential_3\"\n",
            "_________________________________________________________________\n",
            " Layer (type)                Output Shape              Param #   \n",
            "=================================================================\n",
            " xception (Functional)       (None, 5, 5, 2048)        20861480  \n",
            "                                                                 \n",
            " flatten_3 (Flatten)         (None, 51200)             0         \n",
            "                                                                 \n",
            " dense_6 (Dense)             (None, 1024)              52429824  \n",
            "                                                                 \n",
            " batch_normalization_4 (Bat  (None, 1024)              4096      \n",
            " chNormalization)                                                \n",
            "                                                                 \n",
            " leaky_re_lu (LeakyReLU)     (None, 1024)              0         \n",
            "                                                                 \n",
            " dropout_3 (Dropout)         (None, 1024)              0         \n",
            "                                                                 \n",
            " dense_7 (Dense)             (None, 512)               524800    \n",
            "                                                                 \n",
            " batch_normalization_5 (Bat  (None, 512)               2048      \n",
            " chNormalization)                                                \n",
            "                                                                 \n",
            " leaky_re_lu_1 (LeakyReLU)   (None, 512)               0         \n",
            "                                                                 \n",
            " dropout_4 (Dropout)         (None, 512)               0         \n",
            "                                                                 \n",
            " dense_8 (Dense)             (None, 256)               131328    \n",
            "                                                                 \n",
            " batch_normalization_6 (Bat  (None, 256)               1024      \n",
            " chNormalization)                                                \n",
            "                                                                 \n",
            " leaky_re_lu_2 (LeakyReLU)   (None, 256)               0         \n",
            "                                                                 \n",
            " dropout_5 (Dropout)         (None, 256)               0         \n",
            "                                                                 \n",
            " dense_9 (Dense)             (None, 1)                 257       \n",
            "                                                                 \n",
            "=================================================================\n",
            "Total params: 73954857 (282.12 MB)\n",
            "Trainable params: 53089793 (202.52 MB)\n",
            "Non-trainable params: 20865064 (79.59 MB)\n",
            "_________________________________________________________________\n"
          ]
        }
      ]
    },
    {
      "cell_type": "code",
      "source": [
        "model_xception.compile(loss='binary_crossentropy',\n",
        "                       optimizer=Adam(learning_rate=1e-5),\n",
        "                       metrics=['accuracy'])"
      ],
      "metadata": {
        "id": "GOPuRaT0NytE"
      },
      "execution_count": null,
      "outputs": []
    },
    {
      "cell_type": "code",
      "source": [
        "Model_Xception = model_xception.fit_generator(\n",
        "    train_generator,\n",
        "    steps_per_epoch=nb_train_samples // batch_size,\n",
        "    epochs=15,\n",
        "    validation_data=val_generator,\n",
        "    validation_steps=nb_validation_samples // batch_size)"
      ],
      "metadata": {
        "id": "x7_8pEiDNyo6",
        "colab": {
          "base_uri": "https://localhost:8080/"
        },
        "outputId": "970ed7ca-d888-484e-d278-503ddb1b3c4c"
      },
      "execution_count": null,
      "outputs": [
        {
          "output_type": "stream",
          "name": "stdout",
          "text": [
            "Epoch 1/15\n",
            "312/312 [==============================] - 37s 100ms/step - loss: 0.1887 - accuracy: 0.9276 - val_loss: 0.0977 - val_accuracy: 0.9626\n",
            "Epoch 2/15\n",
            "312/312 [==============================] - 33s 106ms/step - loss: 0.1093 - accuracy: 0.9596 - val_loss: 0.0888 - val_accuracy: 0.9630\n",
            "Epoch 3/15\n",
            "312/312 [==============================] - 29s 93ms/step - loss: 0.0906 - accuracy: 0.9663 - val_loss: 0.0845 - val_accuracy: 0.9630\n",
            "Epoch 4/15\n",
            "312/312 [==============================] - 33s 104ms/step - loss: 0.0806 - accuracy: 0.9694 - val_loss: 0.0841 - val_accuracy: 0.9634\n",
            "Epoch 5/15\n",
            "312/312 [==============================] - 32s 104ms/step - loss: 0.0730 - accuracy: 0.9717 - val_loss: 0.0811 - val_accuracy: 0.9655\n",
            "Epoch 6/15\n",
            "312/312 [==============================] - 29s 93ms/step - loss: 0.0664 - accuracy: 0.9760 - val_loss: 0.0837 - val_accuracy: 0.9630\n",
            "Epoch 7/15\n",
            "312/312 [==============================] - 29s 93ms/step - loss: 0.0581 - accuracy: 0.9796 - val_loss: 0.0820 - val_accuracy: 0.9626\n",
            "Epoch 8/15\n",
            "312/312 [==============================] - 29s 94ms/step - loss: 0.0529 - accuracy: 0.9812 - val_loss: 0.0851 - val_accuracy: 0.9646\n",
            "Epoch 9/15\n",
            "312/312 [==============================] - 29s 93ms/step - loss: 0.0476 - accuracy: 0.9828 - val_loss: 0.0874 - val_accuracy: 0.9642\n",
            "Epoch 10/15\n",
            "312/312 [==============================] - 34s 109ms/step - loss: 0.0427 - accuracy: 0.9852 - val_loss: 0.0853 - val_accuracy: 0.9634\n",
            "Epoch 11/15\n",
            "312/312 [==============================] - 29s 93ms/step - loss: 0.0375 - accuracy: 0.9871 - val_loss: 0.0931 - val_accuracy: 0.9618\n",
            "Epoch 12/15\n",
            "312/312 [==============================] - 29s 94ms/step - loss: 0.0338 - accuracy: 0.9887 - val_loss: 0.0966 - val_accuracy: 0.9646\n",
            "Epoch 13/15\n",
            "312/312 [==============================] - 29s 94ms/step - loss: 0.0295 - accuracy: 0.9912 - val_loss: 0.0971 - val_accuracy: 0.9630\n",
            "Epoch 14/15\n",
            "312/312 [==============================] - 29s 94ms/step - loss: 0.0251 - accuracy: 0.9929 - val_loss: 0.1034 - val_accuracy: 0.9634\n",
            "Epoch 15/15\n",
            "312/312 [==============================] - 31s 98ms/step - loss: 0.0241 - accuracy: 0.9925 - val_loss: 0.0987 - val_accuracy: 0.9650\n"
          ]
        }
      ]
    },
    {
      "cell_type": "markdown",
      "source": [
        "### Evaluate accuracy on test data"
      ],
      "metadata": {
        "id": "aLb4cYP3rK3e"
      }
    },
    {
      "cell_type": "code",
      "source": [
        "scores_xception = model_xception.evaluate_generator(test_generator, nb_test_samples // batch_size)\n",
        "print(\"Accuracy on test data (xception): %.2f%%\" % (scores_xception[1] * 100))"
      ],
      "metadata": {
        "id": "lbkregFSNymu",
        "colab": {
          "base_uri": "https://localhost:8080/"
        },
        "outputId": "9bf5488f-7bea-47c0-e38d-ed5d86fd8bf5"
      },
      "execution_count": null,
      "outputs": [
        {
          "output_type": "stream",
          "name": "stdout",
          "text": [
            "Accuracy on test data (xception): 95.83%\n"
          ]
        }
      ]
    },
    {
      "cell_type": "markdown",
      "source": [
        "### Plot the graphs for Loss(number_of_epochs) and Accuracy(number_of_epochs)"
      ],
      "metadata": {
        "id": "h8I8HJHqrSVJ"
      }
    },
    {
      "cell_type": "code",
      "source": [
        "iterations = range(1, len(Model_Xception.history['accuracy']) + 1)\n",
        "accuracy = Model_Xception.history['accuracy']\n",
        "loss = Model_Xception.history['loss']\n",
        "\n",
        "plt.figure(figsize=(10, 5))\n",
        "plt.plot(iterations, accuracy, 'b', label='Accuracy', linewidth=2, marker='o')\n",
        "plt.plot(iterations, loss, 'r', label='Loss', linewidth=2, marker='s')\n",
        "plt.title('Model Accuracy and Loss')\n",
        "plt.xlabel('Iteration')\n",
        "plt.ylabel('Value')\n",
        "plt.legend()\n",
        "plt.grid(True)\n",
        "plt.tight_layout()\n",
        "plt.show()"
      ],
      "metadata": {
        "id": "R4dsyxUHNykZ",
        "colab": {
          "base_uri": "https://localhost:8080/",
          "height": 507
        },
        "outputId": "14d2e95e-f7bd-4a71-f267-6f7e2f0e1865"
      },
      "execution_count": null,
      "outputs": [
        {
          "output_type": "display_data",
          "data": {
            "text/plain": [
              "<Figure size 1000x500 with 1 Axes>"
            ],
            "image/png": "[encoded data removed]"
          },
          "metadata": {}
        }
      ]
    },
    {
      "cell_type": "markdown",
      "source": [
        "## 3) Check the performance of models with the custom image of cat or dog (so the model will tell which class this image belongs to). Develop the function for the inference of the best algorithm."
      ],
      "metadata": {
        "id": "rl3Ou8JKG57-"
      }
    },
    {
      "cell_type": "code",
      "source": [
        "from tensorflow.keras.preprocessing import image\n",
        "import numpy as np"
      ],
      "metadata": {
        "id": "uBWfE7x3G15F"
      },
      "execution_count": null,
      "outputs": []
    },
    {
      "cell_type": "code",
      "source": [
        "cat = image.load_img('/content/drive/image_1.jpg', target_size=(150, 150))\n",
        "plt.imshow(cat)"
      ],
      "metadata": {
        "id": "pe7YJVWpC9S9",
        "colab": {
          "base_uri": "https://localhost:8080/",
          "height": 452
        },
        "outputId": "27813a37-6154-4b0f-ec21-10221aab67f7"
      },
      "execution_count": null,
      "outputs": [
        {
          "output_type": "execute_result",
          "data": {
            "text/plain": [
              "<matplotlib.image.AxesImage at 0x7fe7e87b3e80>"
            ]
          },
          "metadata": {},
          "execution_count": 6
        },
        {
          "output_type": "display_data",
          "data": {
            "text/plain": [
              "<Figure size 640x480 with 1 Axes>"
            ],
            "image/png": "[encoded data removed]"
          },
          "metadata": {}
        }
      ]
    },
    {
      "cell_type": "code",
      "source": [
        "cats = image.img_to_array(cat)\n",
        "cats = np.expand_dims(cats, axis=0)\n",
        "cats_feature = np.vstack([cats])"
      ],
      "metadata": {
        "id": "Nh07EdpGC9Vy"
      },
      "execution_count": null,
      "outputs": []
    },
    {
      "cell_type": "code",
      "source": [
        "dog = image.load_img('/content/drive/image_2.jpg', target_size=(150, 150))\n",
        "plt.imshow(dog)"
      ],
      "metadata": {
        "id": "_SQIU0mJGLA9",
        "colab": {
          "base_uri": "https://localhost:8080/",
          "height": 452
        },
        "outputId": "6a33a81e-2aaf-438f-d2ca-c22c81081491"
      },
      "execution_count": null,
      "outputs": [
        {
          "output_type": "execute_result",
          "data": {
            "text/plain": [
              "<matplotlib.image.AxesImage at 0x7fe7f0a8cee0>"
            ]
          },
          "metadata": {},
          "execution_count": 8
        },
        {
          "output_type": "display_data",
          "data": {
            "text/plain": [
              "<Figure size 640x480 with 1 Axes>"
            ],
            "image/png": "[encoded data removed]"
          },
          "metadata": {}
        }
      ]
    },
    {
      "cell_type": "code",
      "source": [
        "dogs = image.img_to_array(dog)\n",
        "dogs = np.expand_dims(dogs, axis=0)\n",
        "dogs_feature = np.vstack([dogs])"
      ],
      "metadata": {
        "id": "My0xPRltGK-O"
      },
      "execution_count": null,
      "outputs": []
    },
    {
      "cell_type": "code",
      "source": [
        "def predict_and_print(model, features, modelname, pet_type):\n",
        "    pet_pred = model.predict(features, batch_size=batch_size)\n",
        "    pet_label = \"cats\" if pet_pred < 0.5 else \"dogs\"\n",
        "    print(f\"Model {modelname}, predicted {pet_type} as a {pet_label}\")"
      ],
      "metadata": {
        "id": "uT9o7U7-DXv9"
      },
      "execution_count": null,
      "outputs": []
    },
    {
      "cell_type": "code",
      "source": [
        "predict_and_print(model, cats_feature, \"Model with 3Conv layers\", \"cats\")"
      ],
      "metadata": {
        "id": "w5m4OjjYDXto",
        "colab": {
          "base_uri": "https://localhost:8080/"
        },
        "outputId": "c420489d-69b3-4db2-8824-384d7513113a"
      },
      "execution_count": null,
      "outputs": [
        {
          "output_type": "stream",
          "name": "stdout",
          "text": [
            "1/1 [==============================] - 0s 304ms/step\n",
            "Model Model with 3Conv layers, predicted cats as a cats\n"
          ]
        }
      ]
    },
    {
      "cell_type": "code",
      "source": [
        "predict_and_print(model_vgg16, cats_feature, \"Model vgg16\", \"cats\")"
      ],
      "metadata": {
        "id": "IIqKZEQz0QxW",
        "colab": {
          "base_uri": "https://localhost:8080/"
        },
        "outputId": "7ff813df-f7b3-4c6c-a0bb-9daa1c0495e4"
      },
      "execution_count": null,
      "outputs": [
        {
          "output_type": "stream",
          "name": "stdout",
          "text": [
            "1/1 [==============================] - 1s 531ms/step\n",
            "Model Model vgg16, predicted cats as a cats\n"
          ]
        }
      ]
    },
    {
      "cell_type": "code",
      "source": [
        "predict_and_print(model_resnet50, cats_feature, \"Model ResNet50\", \"cats\")"
      ],
      "metadata": {
        "id": "dMJkDTcm0Qt3",
        "colab": {
          "base_uri": "https://localhost:8080/"
        },
        "outputId": "2a4494bb-1d81-4303-dc6d-8d2e9e8dbd37"
      },
      "execution_count": null,
      "outputs": [
        {
          "output_type": "stream",
          "name": "stdout",
          "text": [
            "1/1 [==============================] - 1s 1s/step\n",
            "Model Model ResNet50, predicted cats as a dogs\n"
          ]
        }
      ]
    },
    {
      "cell_type": "code",
      "source": [
        "predict_and_print(model_xception, cats_feature, \"Model Xception\", \"cats\")"
      ],
      "metadata": {
        "id": "REMMq7rFeREu",
        "colab": {
          "base_uri": "https://localhost:8080/"
        },
        "outputId": "04b77b2a-d60c-4add-e5db-22b08629ba97"
      },
      "execution_count": null,
      "outputs": [
        {
          "output_type": "stream",
          "name": "stdout",
          "text": [
            "1/1 [==============================] - 1s 1s/step\n",
            "Model Model Xception, predicted cats as a dogs\n"
          ]
        }
      ]
    },
    {
      "cell_type": "code",
      "source": [
        "predict_and_print(model, dogs_feature, \"Model with 3Conv layers\", \"dogs\")"
      ],
      "metadata": {
        "id": "lmDje-tXDXpH",
        "colab": {
          "base_uri": "https://localhost:8080/"
        },
        "outputId": "f6320f04-e322-47ae-f14e-01dff018ea1b"
      },
      "execution_count": null,
      "outputs": [
        {
          "output_type": "stream",
          "name": "stdout",
          "text": [
            "1/1 [==============================] - 0s 28ms/step\n",
            "Model Model with 3Conv layers, predicted dogs as a dogs\n"
          ]
        }
      ]
    },
    {
      "cell_type": "code",
      "source": [
        "predict_and_print(model_vgg16, dogs_feature, \"Model vgg16\", \"dogs\")"
      ],
      "metadata": {
        "id": "aEnjozPH0VU6",
        "colab": {
          "base_uri": "https://localhost:8080/"
        },
        "outputId": "773aa6ad-ad35-4a00-d2f5-ca59dee18599"
      },
      "execution_count": null,
      "outputs": [
        {
          "output_type": "stream",
          "name": "stdout",
          "text": [
            "1/1 [==============================] - 0s 19ms/step\n",
            "Model Model vgg16, predicted dogs as a dogs\n"
          ]
        }
      ]
    },
    {
      "cell_type": "code",
      "source": [
        "predict_and_print(model_resnet50, dogs_feature, \"Model ResNet50\", \"dogs\")"
      ],
      "metadata": {
        "id": "7Rz63nI30VRd",
        "colab": {
          "base_uri": "https://localhost:8080/"
        },
        "outputId": "da693a54-1fc7-4613-c8b0-4496ff39b681"
      },
      "execution_count": null,
      "outputs": [
        {
          "output_type": "stream",
          "name": "stdout",
          "text": [
            "1/1 [==============================] - 0s 25ms/step\n",
            "Model Model ResNet50, predicted dogs as a dogs\n"
          ]
        }
      ]
    },
    {
      "cell_type": "code",
      "source": [
        "predict_and_print(model_xception, dogs_feature, \"Model Xception\", \"dogs\")"
      ],
      "metadata": {
        "id": "fziamsUVeMwY",
        "colab": {
          "base_uri": "https://localhost:8080/"
        },
        "outputId": "ad95801f-5908-44f0-f844-fdec5f8e2cc6"
      },
      "execution_count": null,
      "outputs": [
        {
          "output_type": "stream",
          "name": "stdout",
          "text": [
            "1/1 [==============================] - 0s 36ms/step\n",
            "Model Model Xception, predicted dogs as a dogs\n"
          ]
        }
      ]
    },
    {
      "cell_type": "markdown",
      "source": [
        "# Part 3"
      ],
      "metadata": {
        "id": "fIHGt17gCOwx"
      }
    },
    {
      "cell_type": "markdown",
      "source": [
        "## Train the DL model with the highest possible accuracy on test data. You may experiment with any architecture and / or ensemble of models on your own choice (not limited to keras.io/api/applications)."
      ],
      "metadata": {
        "id": "_mpN9RN-JbDm"
      }
    },
    {
      "cell_type": "markdown",
      "source": [
        "I decided to train the Xception model because in testing models on animal prediction, this model misclassified the cat. Also, this model showed the best accuracy on the test data, so I have a high chance of getting good accuracy.\n",
        "I decided to train the model \"traditionally\" first and then try adding early stopping, lr schedule and checkpoint.\n",
        "\n",
        "After my two attempts to improve the model I will write the results and conclusion."
      ],
      "metadata": {
        "id": "wE8RLrr1ViG1"
      }
    },
    {
      "cell_type": "markdown",
      "source": [
        "## Attempt №1"
      ],
      "metadata": {
        "id": "SEeJQ1rp6ywI"
      }
    },
    {
      "cell_type": "code",
      "source": [
        "xception_net_task3 = Xception(weights='imagenet',\n",
        "                        include_top=False,\n",
        "                        input_shape=(224, 224, 3)) # i changed the shape\n",
        "xception_net_task3.trainable = False\n",
        "xception_net_task3.summary()"
      ],
      "metadata": {
        "colab": {
          "base_uri": "https://localhost:8080/"
        },
        "id": "_74iOB4kKuLM",
        "outputId": "59ed2187-d80a-4b90-fc89-d627118bffa1"
      },
      "execution_count": null,
      "outputs": [
        {
          "output_type": "stream",
          "name": "stdout",
          "text": [
            "Model: \"xception\"\n",
            "__________________________________________________________________________________________________\n",
            " Layer (type)                Output Shape                 Param #   Connected to                  \n",
            "==================================================================================================\n",
            " input_1 (InputLayer)        [(None, 224, 224, 3)]        0         []                            \n",
            "                                                                                                  \n",
            " block1_conv1 (Conv2D)       (None, 111, 111, 32)         864       ['input_1[0][0]']             \n",
            "                                                                                                  \n",
            " block1_conv1_bn (BatchNorm  (None, 111, 111, 32)         128       ['block1_conv1[0][0]']        \n",
            " alization)                                                                                       \n",
            "                                                                                                  \n",
            " block1_conv1_act (Activati  (None, 111, 111, 32)         0         ['block1_conv1_bn[0][0]']     \n",
            " on)                                                                                              \n",
            "                                                                                                  \n",
            " block1_conv2 (Conv2D)       (None, 109, 109, 64)         18432     ['block1_conv1_act[0][0]']    \n",
            "                                                                                                  \n",
            " block1_conv2_bn (BatchNorm  (None, 109, 109, 64)         256       ['block1_conv2[0][0]']        \n",
            " alization)                                                                                       \n",
            "                                                                                                  \n",
            " block1_conv2_act (Activati  (None, 109, 109, 64)         0         ['block1_conv2_bn[0][0]']     \n",
            " on)                                                                                              \n",
            "                                                                                                  \n",
            " block2_sepconv1 (Separable  (None, 109, 109, 128)        8768      ['block1_conv2_act[0][0]']    \n",
            " Conv2D)                                                                                          \n",
            "                                                                                                  \n",
            " block2_sepconv1_bn (BatchN  (None, 109, 109, 128)        512       ['block2_sepconv1[0][0]']     \n",
            " ormalization)                                                                                    \n",
            "                                                                                                  \n",
            " block2_sepconv2_act (Activ  (None, 109, 109, 128)        0         ['block2_sepconv1_bn[0][0]']  \n",
            " ation)                                                                                           \n",
            "                                                                                                  \n",
            " block2_sepconv2 (Separable  (None, 109, 109, 128)        17536     ['block2_sepconv2_act[0][0]'] \n",
            " Conv2D)                                                                                          \n",
            "                                                                                                  \n",
            " block2_sepconv2_bn (BatchN  (None, 109, 109, 128)        512       ['block2_sepconv2[0][0]']     \n",
            " ormalization)                                                                                    \n",
            "                                                                                                  \n",
            " conv2d (Conv2D)             (None, 55, 55, 128)          8192      ['block1_conv2_act[0][0]']    \n",
            "                                                                                                  \n",
            " block2_pool (MaxPooling2D)  (None, 55, 55, 128)          0         ['block2_sepconv2_bn[0][0]']  \n",
            "                                                                                                  \n",
            " batch_normalization (Batch  (None, 55, 55, 128)          512       ['conv2d[0][0]']              \n",
            " Normalization)                                                                                   \n",
            "                                                                                                  \n",
            " add (Add)                   (None, 55, 55, 128)          0         ['block2_pool[0][0]',         \n",
            "                                                                     'batch_normalization[0][0]'] \n",
            "                                                                                                  \n",
            " block3_sepconv1_act (Activ  (None, 55, 55, 128)          0         ['add[0][0]']                 \n",
            " ation)                                                                                           \n",
            "                                                                                                  \n",
            " block3_sepconv1 (Separable  (None, 55, 55, 256)          33920     ['block3_sepconv1_act[0][0]'] \n",
            " Conv2D)                                                                                          \n",
            "                                                                                                  \n",
            " block3_sepconv1_bn (BatchN  (None, 55, 55, 256)          1024      ['block3_sepconv1[0][0]']     \n",
            " ormalization)                                                                                    \n",
            "                                                                                                  \n",
            " block3_sepconv2_act (Activ  (None, 55, 55, 256)          0         ['block3_sepconv1_bn[0][0]']  \n",
            " ation)                                                                                           \n",
            "                                                                                                  \n",
            " block3_sepconv2 (Separable  (None, 55, 55, 256)          67840     ['block3_sepconv2_act[0][0]'] \n",
            " Conv2D)                                                                                          \n",
            "                                                                                                  \n",
            " block3_sepconv2_bn (BatchN  (None, 55, 55, 256)          1024      ['block3_sepconv2[0][0]']     \n",
            " ormalization)                                                                                    \n",
            "                                                                                                  \n",
            " conv2d_1 (Conv2D)           (None, 28, 28, 256)          32768     ['add[0][0]']                 \n",
            "                                                                                                  \n",
            " block3_pool (MaxPooling2D)  (None, 28, 28, 256)          0         ['block3_sepconv2_bn[0][0]']  \n",
            "                                                                                                  \n",
            " batch_normalization_1 (Bat  (None, 28, 28, 256)          1024      ['conv2d_1[0][0]']            \n",
            " chNormalization)                                                                                 \n",
            "                                                                                                  \n",
            " add_1 (Add)                 (None, 28, 28, 256)          0         ['block3_pool[0][0]',         \n",
            "                                                                     'batch_normalization_1[0][0]'\n",
            "                                                                    ]                             \n",
            "                                                                                                  \n",
            " block4_sepconv1_act (Activ  (None, 28, 28, 256)          0         ['add_1[0][0]']               \n",
            " ation)                                                                                           \n",
            "                                                                                                  \n",
            " block4_sepconv1 (Separable  (None, 28, 28, 728)          188672    ['block4_sepconv1_act[0][0]'] \n",
            " Conv2D)                                                                                          \n",
            "                                                                                                  \n",
            " block4_sepconv1_bn (BatchN  (None, 28, 28, 728)          2912      ['block4_sepconv1[0][0]']     \n",
            " ormalization)                                                                                    \n",
            "                                                                                                  \n",
            " block4_sepconv2_act (Activ  (None, 28, 28, 728)          0         ['block4_sepconv1_bn[0][0]']  \n",
            " ation)                                                                                           \n",
            "                                                                                                  \n",
            " block4_sepconv2 (Separable  (None, 28, 28, 728)          536536    ['block4_sepconv2_act[0][0]'] \n",
            " Conv2D)                                                                                          \n",
            "                                                                                                  \n",
            " block4_sepconv2_bn (BatchN  (None, 28, 28, 728)          2912      ['block4_sepconv2[0][0]']     \n",
            " ormalization)                                                                                    \n",
            "                                                                                                  \n",
            " conv2d_2 (Conv2D)           (None, 14, 14, 728)          186368    ['add_1[0][0]']               \n",
            "                                                                                                  \n",
            " block4_pool (MaxPooling2D)  (None, 14, 14, 728)          0         ['block4_sepconv2_bn[0][0]']  \n",
            "                                                                                                  \n",
            " batch_normalization_2 (Bat  (None, 14, 14, 728)          2912      ['conv2d_2[0][0]']            \n",
            " chNormalization)                                                                                 \n",
            "                                                                                                  \n",
            " add_2 (Add)                 (None, 14, 14, 728)          0         ['block4_pool[0][0]',         \n",
            "                                                                     'batch_normalization_2[0][0]'\n",
            "                                                                    ]                             \n",
            "                                                                                                  \n",
            " block5_sepconv1_act (Activ  (None, 14, 14, 728)          0         ['add_2[0][0]']               \n",
            " ation)                                                                                           \n",
            "                                                                                                  \n",
            " block5_sepconv1 (Separable  (None, 14, 14, 728)          536536    ['block5_sepconv1_act[0][0]'] \n",
            " Conv2D)                                                                                          \n",
            "                                                                                                  \n",
            " block5_sepconv1_bn (BatchN  (None, 14, 14, 728)          2912      ['block5_sepconv1[0][0]']     \n",
            " ormalization)                                                                                    \n",
            "                                                                                                  \n",
            " block5_sepconv2_act (Activ  (None, 14, 14, 728)          0         ['block5_sepconv1_bn[0][0]']  \n",
            " ation)                                                                                           \n",
            "                                                                                                  \n",
            " block5_sepconv2 (Separable  (None, 14, 14, 728)          536536    ['block5_sepconv2_act[0][0]'] \n",
            " Conv2D)                                                                                          \n",
            "                                                                                                  \n",
            " block5_sepconv2_bn (BatchN  (None, 14, 14, 728)          2912      ['block5_sepconv2[0][0]']     \n",
            " ormalization)                                                                                    \n",
            "                                                                                                  \n",
            " block5_sepconv3_act (Activ  (None, 14, 14, 728)          0         ['block5_sepconv2_bn[0][0]']  \n",
            " ation)                                                                                           \n",
            "                                                                                                  \n",
            " block5_sepconv3 (Separable  (None, 14, 14, 728)          536536    ['block5_sepconv3_act[0][0]'] \n",
            " Conv2D)                                                                                          \n",
            "                                                                                                  \n",
            " block5_sepconv3_bn (BatchN  (None, 14, 14, 728)          2912      ['block5_sepconv3[0][0]']     \n",
            " ormalization)                                                                                    \n",
            "                                                                                                  \n",
            " add_3 (Add)                 (None, 14, 14, 728)          0         ['block5_sepconv3_bn[0][0]',  \n",
            "                                                                     'add_2[0][0]']               \n",
            "                                                                                                  \n",
            " block6_sepconv1_act (Activ  (None, 14, 14, 728)          0         ['add_3[0][0]']               \n",
            " ation)                                                                                           \n",
            "                                                                                                  \n",
            " block6_sepconv1 (Separable  (None, 14, 14, 728)          536536    ['block6_sepconv1_act[0][0]'] \n",
            " Conv2D)                                                                                          \n",
            "                                                                                                  \n",
            " block6_sepconv1_bn (BatchN  (None, 14, 14, 728)          2912      ['block6_sepconv1[0][0]']     \n",
            " ormalization)                                                                                    \n",
            "                                                                                                  \n",
            " block6_sepconv2_act (Activ  (None, 14, 14, 728)          0         ['block6_sepconv1_bn[0][0]']  \n",
            " ation)                                                                                           \n",
            "                                                                                                  \n",
            " block6_sepconv2 (Separable  (None, 14, 14, 728)          536536    ['block6_sepconv2_act[0][0]'] \n",
            " Conv2D)                                                                                          \n",
            "                                                                                                  \n",
            " block6_sepconv2_bn (BatchN  (None, 14, 14, 728)          2912      ['block6_sepconv2[0][0]']     \n",
            " ormalization)                                                                                    \n",
            "                                                                                                  \n",
            " block6_sepconv3_act (Activ  (None, 14, 14, 728)          0         ['block6_sepconv2_bn[0][0]']  \n",
            " ation)                                                                                           \n",
            "                                                                                                  \n",
            " block6_sepconv3 (Separable  (None, 14, 14, 728)          536536    ['block6_sepconv3_act[0][0]'] \n",
            " Conv2D)                                                                                          \n",
            "                                                                                                  \n",
            " block6_sepconv3_bn (BatchN  (None, 14, 14, 728)          2912      ['block6_sepconv3[0][0]']     \n",
            " ormalization)                                                                                    \n",
            "                                                                                                  \n",
            " add_4 (Add)                 (None, 14, 14, 728)          0         ['block6_sepconv3_bn[0][0]',  \n",
            "                                                                     'add_3[0][0]']               \n",
            "                                                                                                  \n",
            " block7_sepconv1_act (Activ  (None, 14, 14, 728)          0         ['add_4[0][0]']               \n",
            " ation)                                                                                           \n",
            "                                                                                                  \n",
            " block7_sepconv1 (Separable  (None, 14, 14, 728)          536536    ['block7_sepconv1_act[0][0]'] \n",
            " Conv2D)                                                                                          \n",
            "                                                                                                  \n",
            " block7_sepconv1_bn (BatchN  (None, 14, 14, 728)          2912      ['block7_sepconv1[0][0]']     \n",
            " ormalization)                                                                                    \n",
            "                                                                                                  \n",
            " block7_sepconv2_act (Activ  (None, 14, 14, 728)          0         ['block7_sepconv1_bn[0][0]']  \n",
            " ation)                                                                                           \n",
            "                                                                                                  \n",
            " block7_sepconv2 (Separable  (None, 14, 14, 728)          536536    ['block7_sepconv2_act[0][0]'] \n",
            " Conv2D)                                                                                          \n",
            "                                                                                                  \n",
            " block7_sepconv2_bn (BatchN  (None, 14, 14, 728)          2912      ['block7_sepconv2[0][0]']     \n",
            " ormalization)                                                                                    \n",
            "                                                                                                  \n",
            " block7_sepconv3_act (Activ  (None, 14, 14, 728)          0         ['block7_sepconv2_bn[0][0]']  \n",
            " ation)                                                                                           \n",
            "                                                                                                  \n",
            " block7_sepconv3 (Separable  (None, 14, 14, 728)          536536    ['block7_sepconv3_act[0][0]'] \n",
            " Conv2D)                                                                                          \n",
            "                                                                                                  \n",
            " block7_sepconv3_bn (BatchN  (None, 14, 14, 728)          2912      ['block7_sepconv3[0][0]']     \n",
            " ormalization)                                                                                    \n",
            "                                                                                                  \n",
            " add_5 (Add)                 (None, 14, 14, 728)          0         ['block7_sepconv3_bn[0][0]',  \n",
            "                                                                     'add_4[0][0]']               \n",
            "                                                                                                  \n",
            " block8_sepconv1_act (Activ  (None, 14, 14, 728)          0         ['add_5[0][0]']               \n",
            " ation)                                                                                           \n",
            "                                                                                                  \n",
            " block8_sepconv1 (Separable  (None, 14, 14, 728)          536536    ['block8_sepconv1_act[0][0]'] \n",
            " Conv2D)                                                                                          \n",
            "                                                                                                  \n",
            " block8_sepconv1_bn (BatchN  (None, 14, 14, 728)          2912      ['block8_sepconv1[0][0]']     \n",
            " ormalization)                                                                                    \n",
            "                                                                                                  \n",
            " block8_sepconv2_act (Activ  (None, 14, 14, 728)          0         ['block8_sepconv1_bn[0][0]']  \n",
            " ation)                                                                                           \n",
            "                                                                                                  \n",
            " block8_sepconv2 (Separable  (None, 14, 14, 728)          536536    ['block8_sepconv2_act[0][0]'] \n",
            " Conv2D)                                                                                          \n",
            "                                                                                                  \n",
            " block8_sepconv2_bn (BatchN  (None, 14, 14, 728)          2912      ['block8_sepconv2[0][0]']     \n",
            " ormalization)                                                                                    \n",
            "                                                                                                  \n",
            " block8_sepconv3_act (Activ  (None, 14, 14, 728)          0         ['block8_sepconv2_bn[0][0]']  \n",
            " ation)                                                                                           \n",
            "                                                                                                  \n",
            " block8_sepconv3 (Separable  (None, 14, 14, 728)          536536    ['block8_sepconv3_act[0][0]'] \n",
            " Conv2D)                                                                                          \n",
            "                                                                                                  \n",
            " block8_sepconv3_bn (BatchN  (None, 14, 14, 728)          2912      ['block8_sepconv3[0][0]']     \n",
            " ormalization)                                                                                    \n",
            "                                                                                                  \n",
            " add_6 (Add)                 (None, 14, 14, 728)          0         ['block8_sepconv3_bn[0][0]',  \n",
            "                                                                     'add_5[0][0]']               \n",
            "                                                                                                  \n",
            " block9_sepconv1_act (Activ  (None, 14, 14, 728)          0         ['add_6[0][0]']               \n",
            " ation)                                                                                           \n",
            "                                                                                                  \n",
            " block9_sepconv1 (Separable  (None, 14, 14, 728)          536536    ['block9_sepconv1_act[0][0]'] \n",
            " Conv2D)                                                                                          \n",
            "                                                                                                  \n",
            " block9_sepconv1_bn (BatchN  (None, 14, 14, 728)          2912      ['block9_sepconv1[0][0]']     \n",
            " ormalization)                                                                                    \n",
            "                                                                                                  \n",
            " block9_sepconv2_act (Activ  (None, 14, 14, 728)          0         ['block9_sepconv1_bn[0][0]']  \n",
            " ation)                                                                                           \n",
            "                                                                                                  \n",
            " block9_sepconv2 (Separable  (None, 14, 14, 728)          536536    ['block9_sepconv2_act[0][0]'] \n",
            " Conv2D)                                                                                          \n",
            "                                                                                                  \n",
            " block9_sepconv2_bn (BatchN  (None, 14, 14, 728)          2912      ['block9_sepconv2[0][0]']     \n",
            " ormalization)                                                                                    \n",
            "                                                                                                  \n",
            " block9_sepconv3_act (Activ  (None, 14, 14, 728)          0         ['block9_sepconv2_bn[0][0]']  \n",
            " ation)                                                                                           \n",
            "                                                                                                  \n",
            " block9_sepconv3 (Separable  (None, 14, 14, 728)          536536    ['block9_sepconv3_act[0][0]'] \n",
            " Conv2D)                                                                                          \n",
            "                                                                                                  \n",
            " block9_sepconv3_bn (BatchN  (None, 14, 14, 728)          2912      ['block9_sepconv3[0][0]']     \n",
            " ormalization)                                                                                    \n",
            "                                                                                                  \n",
            " add_7 (Add)                 (None, 14, 14, 728)          0         ['block9_sepconv3_bn[0][0]',  \n",
            "                                                                     'add_6[0][0]']               \n",
            "                                                                                                  \n",
            " block10_sepconv1_act (Acti  (None, 14, 14, 728)          0         ['add_7[0][0]']               \n",
            " vation)                                                                                          \n",
            "                                                                                                  \n",
            " block10_sepconv1 (Separabl  (None, 14, 14, 728)          536536    ['block10_sepconv1_act[0][0]']\n",
            " eConv2D)                                                                                         \n",
            "                                                                                                  \n",
            " block10_sepconv1_bn (Batch  (None, 14, 14, 728)          2912      ['block10_sepconv1[0][0]']    \n",
            " Normalization)                                                                                   \n",
            "                                                                                                  \n",
            " block10_sepconv2_act (Acti  (None, 14, 14, 728)          0         ['block10_sepconv1_bn[0][0]'] \n",
            " vation)                                                                                          \n",
            "                                                                                                  \n",
            " block10_sepconv2 (Separabl  (None, 14, 14, 728)          536536    ['block10_sepconv2_act[0][0]']\n",
            " eConv2D)                                                                                         \n",
            "                                                                                                  \n",
            " block10_sepconv2_bn (Batch  (None, 14, 14, 728)          2912      ['block10_sepconv2[0][0]']    \n",
            " Normalization)                                                                                   \n",
            "                                                                                                  \n",
            " block10_sepconv3_act (Acti  (None, 14, 14, 728)          0         ['block10_sepconv2_bn[0][0]'] \n",
            " vation)                                                                                          \n",
            "                                                                                                  \n",
            " block10_sepconv3 (Separabl  (None, 14, 14, 728)          536536    ['block10_sepconv3_act[0][0]']\n",
            " eConv2D)                                                                                         \n",
            "                                                                                                  \n",
            " block10_sepconv3_bn (Batch  (None, 14, 14, 728)          2912      ['block10_sepconv3[0][0]']    \n",
            " Normalization)                                                                                   \n",
            "                                                                                                  \n",
            " add_8 (Add)                 (None, 14, 14, 728)          0         ['block10_sepconv3_bn[0][0]', \n",
            "                                                                     'add_7[0][0]']               \n",
            "                                                                                                  \n",
            " block11_sepconv1_act (Acti  (None, 14, 14, 728)          0         ['add_8[0][0]']               \n",
            " vation)                                                                                          \n",
            "                                                                                                  \n",
            " block11_sepconv1 (Separabl  (None, 14, 14, 728)          536536    ['block11_sepconv1_act[0][0]']\n",
            " eConv2D)                                                                                         \n",
            "                                                                                                  \n",
            " block11_sepconv1_bn (Batch  (None, 14, 14, 728)          2912      ['block11_sepconv1[0][0]']    \n",
            " Normalization)                                                                                   \n",
            "                                                                                                  \n",
            " block11_sepconv2_act (Acti  (None, 14, 14, 728)          0         ['block11_sepconv1_bn[0][0]'] \n",
            " vation)                                                                                          \n",
            "                                                                                                  \n",
            " block11_sepconv2 (Separabl  (None, 14, 14, 728)          536536    ['block11_sepconv2_act[0][0]']\n",
            " eConv2D)                                                                                         \n",
            "                                                                                                  \n",
            " block11_sepconv2_bn (Batch  (None, 14, 14, 728)          2912      ['block11_sepconv2[0][0]']    \n",
            " Normalization)                                                                                   \n",
            "                                                                                                  \n",
            " block11_sepconv3_act (Acti  (None, 14, 14, 728)          0         ['block11_sepconv2_bn[0][0]'] \n",
            " vation)                                                                                          \n",
            "                                                                                                  \n",
            " block11_sepconv3 (Separabl  (None, 14, 14, 728)          536536    ['block11_sepconv3_act[0][0]']\n",
            " eConv2D)                                                                                         \n",
            "                                                                                                  \n",
            " block11_sepconv3_bn (Batch  (None, 14, 14, 728)          2912      ['block11_sepconv3[0][0]']    \n",
            " Normalization)                                                                                   \n",
            "                                                                                                  \n",
            " add_9 (Add)                 (None, 14, 14, 728)          0         ['block11_sepconv3_bn[0][0]', \n",
            "                                                                     'add_8[0][0]']               \n",
            "                                                                                                  \n",
            " block12_sepconv1_act (Acti  (None, 14, 14, 728)          0         ['add_9[0][0]']               \n",
            " vation)                                                                                          \n",
            "                                                                                                  \n",
            " block12_sepconv1 (Separabl  (None, 14, 14, 728)          536536    ['block12_sepconv1_act[0][0]']\n",
            " eConv2D)                                                                                         \n",
            "                                                                                                  \n",
            " block12_sepconv1_bn (Batch  (None, 14, 14, 728)          2912      ['block12_sepconv1[0][0]']    \n",
            " Normalization)                                                                                   \n",
            "                                                                                                  \n",
            " block12_sepconv2_act (Acti  (None, 14, 14, 728)          0         ['block12_sepconv1_bn[0][0]'] \n",
            " vation)                                                                                          \n",
            "                                                                                                  \n",
            " block12_sepconv2 (Separabl  (None, 14, 14, 728)          536536    ['block12_sepconv2_act[0][0]']\n",
            " eConv2D)                                                                                         \n",
            "                                                                                                  \n",
            " block12_sepconv2_bn (Batch  (None, 14, 14, 728)          2912      ['block12_sepconv2[0][0]']    \n",
            " Normalization)                                                                                   \n",
            "                                                                                                  \n",
            " block12_sepconv3_act (Acti  (None, 14, 14, 728)          0         ['block12_sepconv2_bn[0][0]'] \n",
            " vation)                                                                                          \n",
            "                                                                                                  \n",
            " block12_sepconv3 (Separabl  (None, 14, 14, 728)          536536    ['block12_sepconv3_act[0][0]']\n",
            " eConv2D)                                                                                         \n",
            "                                                                                                  \n",
            " block12_sepconv3_bn (Batch  (None, 14, 14, 728)          2912      ['block12_sepconv3[0][0]']    \n",
            " Normalization)                                                                                   \n",
            "                                                                                                  \n",
            " add_10 (Add)                (None, 14, 14, 728)          0         ['block12_sepconv3_bn[0][0]', \n",
            "                                                                     'add_9[0][0]']               \n",
            "                                                                                                  \n",
            " block13_sepconv1_act (Acti  (None, 14, 14, 728)          0         ['add_10[0][0]']              \n",
            " vation)                                                                                          \n",
            "                                                                                                  \n",
            " block13_sepconv1 (Separabl  (None, 14, 14, 728)          536536    ['block13_sepconv1_act[0][0]']\n",
            " eConv2D)                                                                                         \n",
            "                                                                                                  \n",
            " block13_sepconv1_bn (Batch  (None, 14, 14, 728)          2912      ['block13_sepconv1[0][0]']    \n",
            " Normalization)                                                                                   \n",
            "                                                                                                  \n",
            " block13_sepconv2_act (Acti  (None, 14, 14, 728)          0         ['block13_sepconv1_bn[0][0]'] \n",
            " vation)                                                                                          \n",
            "                                                                                                  \n",
            " block13_sepconv2 (Separabl  (None, 14, 14, 1024)         752024    ['block13_sepconv2_act[0][0]']\n",
            " eConv2D)                                                                                         \n",
            "                                                                                                  \n",
            " block13_sepconv2_bn (Batch  (None, 14, 14, 1024)         4096      ['block13_sepconv2[0][0]']    \n",
            " Normalization)                                                                                   \n",
            "                                                                                                  \n",
            " conv2d_3 (Conv2D)           (None, 7, 7, 1024)           745472    ['add_10[0][0]']              \n",
            "                                                                                                  \n",
            " block13_pool (MaxPooling2D  (None, 7, 7, 1024)           0         ['block13_sepconv2_bn[0][0]'] \n",
            " )                                                                                                \n",
            "                                                                                                  \n",
            " batch_normalization_3 (Bat  (None, 7, 7, 1024)           4096      ['conv2d_3[0][0]']            \n",
            " chNormalization)                                                                                 \n",
            "                                                                                                  \n",
            " add_11 (Add)                (None, 7, 7, 1024)           0         ['block13_pool[0][0]',        \n",
            "                                                                     'batch_normalization_3[0][0]'\n",
            "                                                                    ]                             \n",
            "                                                                                                  \n",
            " block14_sepconv1 (Separabl  (None, 7, 7, 1536)           1582080   ['add_11[0][0]']              \n",
            " eConv2D)                                                                                         \n",
            "                                                                                                  \n",
            " block14_sepconv1_bn (Batch  (None, 7, 7, 1536)           6144      ['block14_sepconv1[0][0]']    \n",
            " Normalization)                                                                                   \n",
            "                                                                                                  \n",
            " block14_sepconv1_act (Acti  (None, 7, 7, 1536)           0         ['block14_sepconv1_bn[0][0]'] \n",
            " vation)                                                                                          \n",
            "                                                                                                  \n",
            " block14_sepconv2 (Separabl  (None, 7, 7, 2048)           3159552   ['block14_sepconv1_act[0][0]']\n",
            " eConv2D)                                                                                         \n",
            "                                                                                                  \n",
            " block14_sepconv2_bn (Batch  (None, 7, 7, 2048)           8192      ['block14_sepconv2[0][0]']    \n",
            " Normalization)                                                                                   \n",
            "                                                                                                  \n",
            " block14_sepconv2_act (Acti  (None, 7, 7, 2048)           0         ['block14_sepconv2_bn[0][0]'] \n",
            " vation)                                                                                          \n",
            "                                                                                                  \n",
            "==================================================================================================\n",
            "Total params: 20861480 (79.58 MB)\n",
            "Trainable params: 0 (0.00 Byte)\n",
            "Non-trainable params: 20861480 (79.58 MB)\n",
            "__________________________________________________________________________________________________\n"
          ]
        }
      ]
    },
    {
      "cell_type": "code",
      "source": [
        "model_xception_task3 = Sequential()\n",
        "model_xception_task3.add(xception_net_task3)\n",
        "\n",
        "model_xception_task3.add(Flatten())\n",
        "model_xception_task3.add(Dense(2048))\n",
        "model_xception_task3.add(BatchNormalization())\n",
        "model_xception_task3.add(LeakyReLU(alpha=0.1))\n",
        "model_xception_task3.add(Dropout(0.5))\n",
        "\n",
        "model_xception_task3.add(Dense(1024))\n",
        "model_xception_task3.add(BatchNormalization())\n",
        "model_xception_task3.add(LeakyReLU(alpha=0.1))\n",
        "model_xception_task3.add(Dropout(0.5))\n",
        "\n",
        "model_xception_task3.add(Dense(512))\n",
        "model_xception_task3.add(BatchNormalization())\n",
        "model_xception_task3.add(LeakyReLU(alpha=0.1))\n",
        "model_xception_task3.add(Dropout(0.5))\n",
        "\n",
        "model_xception_task3.add(Dense(256))\n",
        "model_xception_task3.add(BatchNormalization())\n",
        "model_xception_task3.add(LeakyReLU(alpha=0.1))\n",
        "model_xception_task3.add(Dropout(0.5))\n",
        "\n",
        "model_xception_task3.add(Dense(128))\n",
        "model_xception_task3.add(BatchNormalization())\n",
        "model_xception_task3.add(LeakyReLU(alpha=0.1))\n",
        "model_xception_task3.add(Dropout(0.5))\n",
        "\n",
        "model_xception_task3.add(Dense(1, activation='sigmoid'))\n",
        "\n",
        "model_xception_task3.summary()"
      ],
      "metadata": {
        "colab": {
          "base_uri": "https://localhost:8080/"
        },
        "id": "qidiIdboKuIu",
        "outputId": "ef035609-5903-410a-ddc3-6cf42227caa2"
      },
      "execution_count": null,
      "outputs": [
        {
          "output_type": "stream",
          "name": "stdout",
          "text": [
            "Model: \"sequential\"\n",
            "_________________________________________________________________\n",
            " Layer (type)                Output Shape              Param #   \n",
            "=================================================================\n",
            " xception (Functional)       (None, 7, 7, 2048)        20861480  \n",
            "                                                                 \n",
            " flatten (Flatten)           (None, 100352)            0         \n",
            "                                                                 \n",
            " dense (Dense)               (None, 2048)              205522944 \n",
            "                                                                 \n",
            " batch_normalization_4 (Bat  (None, 2048)              8192      \n",
            " chNormalization)                                                \n",
            "                                                                 \n",
            " leaky_re_lu (LeakyReLU)     (None, 2048)              0         \n",
            "                                                                 \n",
            " dropout (Dropout)           (None, 2048)              0         \n",
            "                                                                 \n",
            " dense_1 (Dense)             (None, 1024)              2098176   \n",
            "                                                                 \n",
            " batch_normalization_5 (Bat  (None, 1024)              4096      \n",
            " chNormalization)                                                \n",
            "                                                                 \n",
            " leaky_re_lu_1 (LeakyReLU)   (None, 1024)              0         \n",
            "                                                                 \n",
            " dropout_1 (Dropout)         (None, 1024)              0         \n",
            "                                                                 \n",
            " dense_2 (Dense)             (None, 512)               524800    \n",
            "                                                                 \n",
            " batch_normalization_6 (Bat  (None, 512)               2048      \n",
            " chNormalization)                                                \n",
            "                                                                 \n",
            " leaky_re_lu_2 (LeakyReLU)   (None, 512)               0         \n",
            "                                                                 \n",
            " dropout_2 (Dropout)         (None, 512)               0         \n",
            "                                                                 \n",
            " dense_3 (Dense)             (None, 256)               131328    \n",
            "                                                                 \n",
            " batch_normalization_7 (Bat  (None, 256)               1024      \n",
            " chNormalization)                                                \n",
            "                                                                 \n",
            " leaky_re_lu_3 (LeakyReLU)   (None, 256)               0         \n",
            "                                                                 \n",
            " dropout_3 (Dropout)         (None, 256)               0         \n",
            "                                                                 \n",
            " dense_4 (Dense)             (None, 128)               32896     \n",
            "                                                                 \n",
            " batch_normalization_8 (Bat  (None, 128)               512       \n",
            " chNormalization)                                                \n",
            "                                                                 \n",
            " leaky_re_lu_4 (LeakyReLU)   (None, 128)               0         \n",
            "                                                                 \n",
            " dropout_4 (Dropout)         (None, 128)               0         \n",
            "                                                                 \n",
            " dense_5 (Dense)             (None, 1)                 129       \n",
            "                                                                 \n",
            "=================================================================\n",
            "Total params: 229187625 (874.28 MB)\n",
            "Trainable params: 208318209 (794.67 MB)\n",
            "Non-trainable params: 20869416 (79.61 MB)\n",
            "_________________________________________________________________\n"
          ]
        }
      ]
    },
    {
      "cell_type": "code",
      "source": [
        "model_xception_task3.compile(loss='binary_crossentropy',\n",
        "                       optimizer=Adam(learning_rate=1e-5),\n",
        "                       metrics=['accuracy'])"
      ],
      "metadata": {
        "id": "4ZRNGNQAKuGb"
      },
      "execution_count": null,
      "outputs": []
    },
    {
      "cell_type": "code",
      "source": [
        "Model_Xception_task3 = model_xception_task3.fit_generator(\n",
        "    train_generator,\n",
        "    steps_per_epoch=nb_train_samples // batch_size,\n",
        "    epochs=50,\n",
        "    validation_data=val_generator,\n",
        "    validation_steps=nb_validation_samples // batch_size)"
      ],
      "metadata": {
        "colab": {
          "base_uri": "https://localhost:8080/"
        },
        "id": "zefvWkALKuD_",
        "outputId": "0a759235-f559-464b-b31f-aa0f9df9efe8"
      },
      "execution_count": null,
      "outputs": [
        {
          "output_type": "stream",
          "name": "stdout",
          "text": [
            "Epoch 1/50\n",
            "312/312 [==============================] - 66s 212ms/step - loss: 0.0070 - accuracy: 0.9993 - val_loss: 0.0567 - val_accuracy: 0.9840\n",
            "Epoch 2/50\n",
            "312/312 [==============================] - 66s 212ms/step - loss: 0.0064 - accuracy: 0.9994 - val_loss: 0.0529 - val_accuracy: 0.9868\n",
            "Epoch 3/50\n",
            "312/312 [==============================] - 67s 214ms/step - loss: 0.0063 - accuracy: 0.9991 - val_loss: 0.0564 - val_accuracy: 0.9864\n",
            "Epoch 4/50\n",
            "312/312 [==============================] - 67s 214ms/step - loss: 0.0052 - accuracy: 0.9994 - val_loss: 0.0585 - val_accuracy: 0.9844\n",
            "Epoch 5/50\n",
            "312/312 [==============================] - 67s 215ms/step - loss: 0.0047 - accuracy: 0.9996 - val_loss: 0.0563 - val_accuracy: 0.9856\n",
            "Epoch 6/50\n",
            "312/312 [==============================] - 67s 214ms/step - loss: 0.0040 - accuracy: 0.9996 - val_loss: 0.0574 - val_accuracy: 0.9856\n",
            "Epoch 7/50\n",
            "312/312 [==============================] - 67s 214ms/step - loss: 0.0047 - accuracy: 0.9992 - val_loss: 0.0576 - val_accuracy: 0.9840\n",
            "Epoch 8/50\n",
            "312/312 [==============================] - 67s 214ms/step - loss: 0.0034 - accuracy: 0.9997 - val_loss: 0.0540 - val_accuracy: 0.9856\n",
            "Epoch 9/50\n",
            "312/312 [==============================] - 67s 215ms/step - loss: 0.0033 - accuracy: 0.9996 - val_loss: 0.0606 - val_accuracy: 0.9852\n",
            "Epoch 10/50\n",
            "312/312 [==============================] - 67s 214ms/step - loss: 0.0032 - accuracy: 0.9995 - val_loss: 0.0616 - val_accuracy: 0.9860\n",
            "Epoch 11/50\n",
            "312/312 [==============================] - 67s 214ms/step - loss: 0.0031 - accuracy: 0.9997 - val_loss: 0.0688 - val_accuracy: 0.9840\n",
            "Epoch 12/50\n",
            "312/312 [==============================] - 67s 215ms/step - loss: 0.0030 - accuracy: 0.9996 - val_loss: 0.0715 - val_accuracy: 0.9827\n",
            "Epoch 13/50\n",
            "312/312 [==============================] - 67s 215ms/step - loss: 0.0031 - accuracy: 0.9993 - val_loss: 0.0679 - val_accuracy: 0.9848\n",
            "Epoch 14/50\n",
            "312/312 [==============================] - 67s 216ms/step - loss: 0.0023 - accuracy: 0.9998 - val_loss: 0.0663 - val_accuracy: 0.9860\n",
            "Epoch 15/50\n",
            "312/312 [==============================] - 67s 215ms/step - loss: 0.0029 - accuracy: 0.9995 - val_loss: 0.0750 - val_accuracy: 0.9840\n",
            "Epoch 16/50\n",
            "312/312 [==============================] - 66s 213ms/step - loss: 0.0022 - accuracy: 0.9998 - val_loss: 0.0863 - val_accuracy: 0.9848\n",
            "Epoch 17/50\n",
            "312/312 [==============================] - 66s 213ms/step - loss: 0.0018 - accuracy: 0.9998 - val_loss: 0.0705 - val_accuracy: 0.9840\n",
            "Epoch 18/50\n",
            "312/312 [==============================] - 66s 213ms/step - loss: 0.0017 - accuracy: 0.9998 - val_loss: 0.0739 - val_accuracy: 0.9848\n",
            "Epoch 19/50\n",
            "312/312 [==============================] - 66s 213ms/step - loss: 0.0014 - accuracy: 0.9998 - val_loss: 0.0749 - val_accuracy: 0.9848\n",
            "Epoch 20/50\n",
            "312/312 [==============================] - 66s 213ms/step - loss: 0.0017 - accuracy: 0.9997 - val_loss: 0.0741 - val_accuracy: 0.9864\n",
            "Epoch 21/50\n",
            "312/312 [==============================] - 66s 212ms/step - loss: 0.0037 - accuracy: 0.9988 - val_loss: 0.0754 - val_accuracy: 0.9848\n",
            "Epoch 22/50\n",
            "312/312 [==============================] - 66s 212ms/step - loss: 0.0032 - accuracy: 0.9991 - val_loss: 0.0763 - val_accuracy: 0.9844\n",
            "Epoch 23/50\n",
            "312/312 [==============================] - 66s 212ms/step - loss: 0.0025 - accuracy: 0.9993 - val_loss: 0.0813 - val_accuracy: 0.9844\n",
            "Epoch 24/50\n",
            "312/312 [==============================] - 68s 219ms/step - loss: 0.0018 - accuracy: 0.9997 - val_loss: 0.0781 - val_accuracy: 0.9844\n",
            "Epoch 25/50\n",
            "312/312 [==============================] - 71s 228ms/step - loss: 0.0014 - accuracy: 0.9998 - val_loss: 0.0769 - val_accuracy: 0.9873\n",
            "Epoch 26/50\n",
            "312/312 [==============================] - 68s 216ms/step - loss: 0.0015 - accuracy: 0.9996 - val_loss: 0.0708 - val_accuracy: 0.9873\n",
            "Epoch 27/50\n",
            "312/312 [==============================] - 66s 213ms/step - loss: 0.0012 - accuracy: 0.9998 - val_loss: 0.0733 - val_accuracy: 0.9860\n",
            "Epoch 28/50\n",
            "312/312 [==============================] - 66s 212ms/step - loss: 0.0014 - accuracy: 0.9997 - val_loss: 0.0721 - val_accuracy: 0.9856\n",
            "Epoch 29/50\n",
            "312/312 [==============================] - 67s 213ms/step - loss: 0.0021 - accuracy: 0.9996 - val_loss: 0.0809 - val_accuracy: 0.9844\n",
            "Epoch 30/50\n",
            "312/312 [==============================] - 67s 213ms/step - loss: 0.0017 - accuracy: 0.9997 - val_loss: 0.0769 - val_accuracy: 0.9864\n",
            "Epoch 31/50\n",
            "312/312 [==============================] - 66s 213ms/step - loss: 0.0017 - accuracy: 0.9996 - val_loss: 0.0763 - val_accuracy: 0.9852\n",
            "Epoch 32/50\n",
            "312/312 [==============================] - 67s 213ms/step - loss: 0.0015 - accuracy: 0.9996 - val_loss: 0.0836 - val_accuracy: 0.9844\n",
            "Epoch 33/50\n",
            "312/312 [==============================] - 67s 213ms/step - loss: 0.0022 - accuracy: 0.9994 - val_loss: 0.0834 - val_accuracy: 0.9844\n",
            "Epoch 34/50\n",
            "312/312 [==============================] - 67s 213ms/step - loss: 0.0010 - accuracy: 0.9998 - val_loss: 0.0856 - val_accuracy: 0.9844\n",
            "Epoch 35/50\n",
            "312/312 [==============================] - 67s 213ms/step - loss: 0.0012 - accuracy: 0.9998 - val_loss: 0.0762 - val_accuracy: 0.9856\n",
            "Epoch 36/50\n",
            "312/312 [==============================] - 66s 213ms/step - loss: 0.0011 - accuracy: 0.9998 - val_loss: 0.0855 - val_accuracy: 0.9840\n",
            "Epoch 37/50\n",
            "312/312 [==============================] - 67s 213ms/step - loss: 0.0020 - accuracy: 0.9997 - val_loss: 0.0893 - val_accuracy: 0.9848\n",
            "Epoch 38/50\n",
            "312/312 [==============================] - 67s 214ms/step - loss: 0.0011 - accuracy: 0.9997 - val_loss: 0.0827 - val_accuracy: 0.9868\n",
            "Epoch 39/50\n",
            "312/312 [==============================] - 67s 213ms/step - loss: 0.0015 - accuracy: 0.9996 - val_loss: 0.0777 - val_accuracy: 0.9856\n",
            "Epoch 40/50\n",
            "312/312 [==============================] - 67s 214ms/step - loss: 0.0013 - accuracy: 0.9997 - val_loss: 0.0851 - val_accuracy: 0.9860\n",
            "Epoch 41/50\n",
            "312/312 [==============================] - 66s 212ms/step - loss: 0.0014 - accuracy: 0.9996 - val_loss: 0.0705 - val_accuracy: 0.9881\n",
            "Epoch 42/50\n",
            "312/312 [==============================] - 66s 212ms/step - loss: 9.8719e-04 - accuracy: 0.9998 - val_loss: 0.0877 - val_accuracy: 0.9864\n",
            "Epoch 43/50\n",
            "312/312 [==============================] - 66s 213ms/step - loss: 6.1306e-04 - accuracy: 0.9999 - val_loss: 0.0837 - val_accuracy: 0.9856\n",
            "Epoch 44/50\n",
            "312/312 [==============================] - 66s 213ms/step - loss: 0.0011 - accuracy: 0.9998 - val_loss: 0.0816 - val_accuracy: 0.9856\n",
            "Epoch 45/50\n",
            "312/312 [==============================] - 66s 213ms/step - loss: 8.8494e-04 - accuracy: 0.9998 - val_loss: 0.0846 - val_accuracy: 0.9864\n",
            "Epoch 46/50\n",
            "312/312 [==============================] - 67s 213ms/step - loss: 5.5264e-04 - accuracy: 0.9999 - val_loss: 0.0822 - val_accuracy: 0.9868\n",
            "Epoch 47/50\n",
            "312/312 [==============================] - 66s 213ms/step - loss: 6.3166e-04 - accuracy: 0.9999 - val_loss: 0.1031 - val_accuracy: 0.9827\n",
            "Epoch 48/50\n",
            "312/312 [==============================] - 67s 213ms/step - loss: 9.8316e-04 - accuracy: 0.9997 - val_loss: 0.0904 - val_accuracy: 0.9852\n",
            "Epoch 49/50\n",
            "312/312 [==============================] - 67s 213ms/step - loss: 0.0027 - accuracy: 0.9992 - val_loss: 0.0751 - val_accuracy: 0.9864\n",
            "Epoch 50/50\n",
            "312/312 [==============================] - 67s 213ms/step - loss: 0.0014 - accuracy: 0.9994 - val_loss: 0.0799 - val_accuracy: 0.9864\n"
          ]
        }
      ]
    },
    {
      "cell_type": "markdown",
      "source": [
        "### Accuracy on the test data (attempt 1)"
      ],
      "metadata": {
        "id": "pnG9f40H7T-I"
      }
    },
    {
      "cell_type": "code",
      "source": [
        "scores_xception_task3 = model_xception_task3.evaluate_generator(test_generator, nb_test_samples // batch_size)\n",
        "print(\"Accuracy on test data (xception): %.5f%%\" % (scores_xception_task3[1] * 100))"
      ],
      "metadata": {
        "colab": {
          "base_uri": "https://localhost:8080/"
        },
        "id": "RrgM0FE8KuBq",
        "outputId": "40a57268-5bac-4831-e363-7318bbcdac06"
      },
      "execution_count": null,
      "outputs": [
        {
          "output_type": "stream",
          "name": "stdout",
          "text": [
            "Accuracy on test data (xception): 98.75801%\n"
          ]
        }
      ]
    },
    {
      "cell_type": "markdown",
      "source": [
        "### Predictions (attempt 1)"
      ],
      "metadata": {
        "id": "iOFZJXwT7a67"
      }
    },
    {
      "cell_type": "code",
      "source": [
        "predict_and_print(model_xception_task3, cats_feature, \"Model Xception\", \"cats\")"
      ],
      "metadata": {
        "colab": {
          "base_uri": "https://localhost:8080/"
        },
        "id": "zqUqX0gU-arn",
        "outputId": "7773ce96-0866-4429-9792-a4c8f2a7c3b2"
      },
      "execution_count": null,
      "outputs": [
        {
          "output_type": "stream",
          "name": "stderr",
          "text": [
            "WARNING:tensorflow:5 out of the last 9 calls to <function Model.make_predict_function.<locals>.predict_function at 0x7fe8c44cf130> triggered tf.function retracing. Tracing is expensive and the excessive number of tracings could be due to (1) creating @tf.function repeatedly in a loop, (2) passing tensors with different shapes, (3) passing Python objects instead of tensors. For (1), please define your @tf.function outside of the loop. For (2), @tf.function has reduce_retracing=True option that can avoid unnecessary retracing. For (3), please refer to https://www.tensorflow.org/guide/function#controlling_retracing and https://www.tensorflow.org/api_docs/python/tf/function for  more details.\n"
          ]
        },
        {
          "output_type": "stream",
          "name": "stdout",
          "text": [
            "1/1 [==============================] - 1s 750ms/step\n",
            "Model Model Xception, predicted cats as a cats\n"
          ]
        }
      ]
    },
    {
      "cell_type": "code",
      "source": [
        "predict_and_print(model_xception_task3, dogs_feature, \"Model Xception\", \"dogs\")"
      ],
      "metadata": {
        "colab": {
          "base_uri": "https://localhost:8080/"
        },
        "id": "kr_4N2dc-apU",
        "outputId": "30339782-ebf1-4756-d44c-4a0cc52e1bbd"
      },
      "execution_count": null,
      "outputs": [
        {
          "output_type": "stream",
          "name": "stdout",
          "text": [
            "1/1 [==============================] - 0s 25ms/step\n",
            "Model Model Xception, predicted dogs as a dogs\n"
          ]
        }
      ]
    },
    {
      "cell_type": "markdown",
      "source": [
        "## Attempt №2"
      ],
      "metadata": {
        "id": "zPkseo5zTkKq"
      }
    },
    {
      "cell_type": "code",
      "source": [
        "from keras.callbacks import EarlyStopping, LearningRateScheduler, ModelCheckpoint"
      ],
      "metadata": {
        "id": "SCTveG3CTo2s"
      },
      "execution_count": null,
      "outputs": []
    },
    {
      "cell_type": "code",
      "source": [
        "xception_net_task3_1 = Xception(weights='imagenet',\n",
        "                        include_top=False,\n",
        "                        input_shape=(224, 224, 3)) # i changed the shape\n",
        "xception_net_task3_1.trainable = False\n",
        "xception_net_task3_1.summary()"
      ],
      "metadata": {
        "id": "OCPOddxvVCaS",
        "colab": {
          "base_uri": "https://localhost:8080/"
        },
        "outputId": "8932ae5c-0ead-413b-866f-92690b54d80b"
      },
      "execution_count": null,
      "outputs": [
        {
          "output_type": "stream",
          "name": "stdout",
          "text": [
            "Model: \"xception\"\n",
            "__________________________________________________________________________________________________\n",
            " Layer (type)                Output Shape                 Param #   Connected to                  \n",
            "==================================================================================================\n",
            " input_4 (InputLayer)        [(None, 224, 224, 3)]        0         []                            \n",
            "                                                                                                  \n",
            " block1_conv1 (Conv2D)       (None, 111, 111, 32)         864       ['input_4[0][0]']             \n",
            "                                                                                                  \n",
            " block1_conv1_bn (BatchNorm  (None, 111, 111, 32)         128       ['block1_conv1[0][0]']        \n",
            " alization)                                                                                       \n",
            "                                                                                                  \n",
            " block1_conv1_act (Activati  (None, 111, 111, 32)         0         ['block1_conv1_bn[0][0]']     \n",
            " on)                                                                                              \n",
            "                                                                                                  \n",
            " block1_conv2 (Conv2D)       (None, 109, 109, 64)         18432     ['block1_conv1_act[0][0]']    \n",
            "                                                                                                  \n",
            " block1_conv2_bn (BatchNorm  (None, 109, 109, 64)         256       ['block1_conv2[0][0]']        \n",
            " alization)                                                                                       \n",
            "                                                                                                  \n",
            " block1_conv2_act (Activati  (None, 109, 109, 64)         0         ['block1_conv2_bn[0][0]']     \n",
            " on)                                                                                              \n",
            "                                                                                                  \n",
            " block2_sepconv1 (Separable  (None, 109, 109, 128)        8768      ['block1_conv2_act[0][0]']    \n",
            " Conv2D)                                                                                          \n",
            "                                                                                                  \n",
            " block2_sepconv1_bn (BatchN  (None, 109, 109, 128)        512       ['block2_sepconv1[0][0]']     \n",
            " ormalization)                                                                                    \n",
            "                                                                                                  \n",
            " block2_sepconv2_act (Activ  (None, 109, 109, 128)        0         ['block2_sepconv1_bn[0][0]']  \n",
            " ation)                                                                                           \n",
            "                                                                                                  \n",
            " block2_sepconv2 (Separable  (None, 109, 109, 128)        17536     ['block2_sepconv2_act[0][0]'] \n",
            " Conv2D)                                                                                          \n",
            "                                                                                                  \n",
            " block2_sepconv2_bn (BatchN  (None, 109, 109, 128)        512       ['block2_sepconv2[0][0]']     \n",
            " ormalization)                                                                                    \n",
            "                                                                                                  \n",
            " conv2d_7 (Conv2D)           (None, 55, 55, 128)          8192      ['block1_conv2_act[0][0]']    \n",
            "                                                                                                  \n",
            " block2_pool (MaxPooling2D)  (None, 55, 55, 128)          0         ['block2_sepconv2_bn[0][0]']  \n",
            "                                                                                                  \n",
            " batch_normalization_7 (Bat  (None, 55, 55, 128)          512       ['conv2d_7[0][0]']            \n",
            " chNormalization)                                                                                 \n",
            "                                                                                                  \n",
            " add_12 (Add)                (None, 55, 55, 128)          0         ['block2_pool[0][0]',         \n",
            "                                                                     'batch_normalization_7[0][0]'\n",
            "                                                                    ]                             \n",
            "                                                                                                  \n",
            " block3_sepconv1_act (Activ  (None, 55, 55, 128)          0         ['add_12[0][0]']              \n",
            " ation)                                                                                           \n",
            "                                                                                                  \n",
            " block3_sepconv1 (Separable  (None, 55, 55, 256)          33920     ['block3_sepconv1_act[0][0]'] \n",
            " Conv2D)                                                                                          \n",
            "                                                                                                  \n",
            " block3_sepconv1_bn (BatchN  (None, 55, 55, 256)          1024      ['block3_sepconv1[0][0]']     \n",
            " ormalization)                                                                                    \n",
            "                                                                                                  \n",
            " block3_sepconv2_act (Activ  (None, 55, 55, 256)          0         ['block3_sepconv1_bn[0][0]']  \n",
            " ation)                                                                                           \n",
            "                                                                                                  \n",
            " block3_sepconv2 (Separable  (None, 55, 55, 256)          67840     ['block3_sepconv2_act[0][0]'] \n",
            " Conv2D)                                                                                          \n",
            "                                                                                                  \n",
            " block3_sepconv2_bn (BatchN  (None, 55, 55, 256)          1024      ['block3_sepconv2[0][0]']     \n",
            " ormalization)                                                                                    \n",
            "                                                                                                  \n",
            " conv2d_8 (Conv2D)           (None, 28, 28, 256)          32768     ['add_12[0][0]']              \n",
            "                                                                                                  \n",
            " block3_pool (MaxPooling2D)  (None, 28, 28, 256)          0         ['block3_sepconv2_bn[0][0]']  \n",
            "                                                                                                  \n",
            " batch_normalization_8 (Bat  (None, 28, 28, 256)          1024      ['conv2d_8[0][0]']            \n",
            " chNormalization)                                                                                 \n",
            "                                                                                                  \n",
            " add_13 (Add)                (None, 28, 28, 256)          0         ['block3_pool[0][0]',         \n",
            "                                                                     'batch_normalization_8[0][0]'\n",
            "                                                                    ]                             \n",
            "                                                                                                  \n",
            " block4_sepconv1_act (Activ  (None, 28, 28, 256)          0         ['add_13[0][0]']              \n",
            " ation)                                                                                           \n",
            "                                                                                                  \n",
            " block4_sepconv1 (Separable  (None, 28, 28, 728)          188672    ['block4_sepconv1_act[0][0]'] \n",
            " Conv2D)                                                                                          \n",
            "                                                                                                  \n",
            " block4_sepconv1_bn (BatchN  (None, 28, 28, 728)          2912      ['block4_sepconv1[0][0]']     \n",
            " ormalization)                                                                                    \n",
            "                                                                                                  \n",
            " block4_sepconv2_act (Activ  (None, 28, 28, 728)          0         ['block4_sepconv1_bn[0][0]']  \n",
            " ation)                                                                                           \n",
            "                                                                                                  \n",
            " block4_sepconv2 (Separable  (None, 28, 28, 728)          536536    ['block4_sepconv2_act[0][0]'] \n",
            " Conv2D)                                                                                          \n",
            "                                                                                                  \n",
            " block4_sepconv2_bn (BatchN  (None, 28, 28, 728)          2912      ['block4_sepconv2[0][0]']     \n",
            " ormalization)                                                                                    \n",
            "                                                                                                  \n",
            " conv2d_9 (Conv2D)           (None, 14, 14, 728)          186368    ['add_13[0][0]']              \n",
            "                                                                                                  \n",
            " block4_pool (MaxPooling2D)  (None, 14, 14, 728)          0         ['block4_sepconv2_bn[0][0]']  \n",
            "                                                                                                  \n",
            " batch_normalization_9 (Bat  (None, 14, 14, 728)          2912      ['conv2d_9[0][0]']            \n",
            " chNormalization)                                                                                 \n",
            "                                                                                                  \n",
            " add_14 (Add)                (None, 14, 14, 728)          0         ['block4_pool[0][0]',         \n",
            "                                                                     'batch_normalization_9[0][0]'\n",
            "                                                                    ]                             \n",
            "                                                                                                  \n",
            " block5_sepconv1_act (Activ  (None, 14, 14, 728)          0         ['add_14[0][0]']              \n",
            " ation)                                                                                           \n",
            "                                                                                                  \n",
            " block5_sepconv1 (Separable  (None, 14, 14, 728)          536536    ['block5_sepconv1_act[0][0]'] \n",
            " Conv2D)                                                                                          \n",
            "                                                                                                  \n",
            " block5_sepconv1_bn (BatchN  (None, 14, 14, 728)          2912      ['block5_sepconv1[0][0]']     \n",
            " ormalization)                                                                                    \n",
            "                                                                                                  \n",
            " block5_sepconv2_act (Activ  (None, 14, 14, 728)          0         ['block5_sepconv1_bn[0][0]']  \n",
            " ation)                                                                                           \n",
            "                                                                                                  \n",
            " block5_sepconv2 (Separable  (None, 14, 14, 728)          536536    ['block5_sepconv2_act[0][0]'] \n",
            " Conv2D)                                                                                          \n",
            "                                                                                                  \n",
            " block5_sepconv2_bn (BatchN  (None, 14, 14, 728)          2912      ['block5_sepconv2[0][0]']     \n",
            " ormalization)                                                                                    \n",
            "                                                                                                  \n",
            " block5_sepconv3_act (Activ  (None, 14, 14, 728)          0         ['block5_sepconv2_bn[0][0]']  \n",
            " ation)                                                                                           \n",
            "                                                                                                  \n",
            " block5_sepconv3 (Separable  (None, 14, 14, 728)          536536    ['block5_sepconv3_act[0][0]'] \n",
            " Conv2D)                                                                                          \n",
            "                                                                                                  \n",
            " block5_sepconv3_bn (BatchN  (None, 14, 14, 728)          2912      ['block5_sepconv3[0][0]']     \n",
            " ormalization)                                                                                    \n",
            "                                                                                                  \n",
            " add_15 (Add)                (None, 14, 14, 728)          0         ['block5_sepconv3_bn[0][0]',  \n",
            "                                                                     'add_14[0][0]']              \n",
            "                                                                                                  \n",
            " block6_sepconv1_act (Activ  (None, 14, 14, 728)          0         ['add_15[0][0]']              \n",
            " ation)                                                                                           \n",
            "                                                                                                  \n",
            " block6_sepconv1 (Separable  (None, 14, 14, 728)          536536    ['block6_sepconv1_act[0][0]'] \n",
            " Conv2D)                                                                                          \n",
            "                                                                                                  \n",
            " block6_sepconv1_bn (BatchN  (None, 14, 14, 728)          2912      ['block6_sepconv1[0][0]']     \n",
            " ormalization)                                                                                    \n",
            "                                                                                                  \n",
            " block6_sepconv2_act (Activ  (None, 14, 14, 728)          0         ['block6_sepconv1_bn[0][0]']  \n",
            " ation)                                                                                           \n",
            "                                                                                                  \n",
            " block6_sepconv2 (Separable  (None, 14, 14, 728)          536536    ['block6_sepconv2_act[0][0]'] \n",
            " Conv2D)                                                                                          \n",
            "                                                                                                  \n",
            " block6_sepconv2_bn (BatchN  (None, 14, 14, 728)          2912      ['block6_sepconv2[0][0]']     \n",
            " ormalization)                                                                                    \n",
            "                                                                                                  \n",
            " block6_sepconv3_act (Activ  (None, 14, 14, 728)          0         ['block6_sepconv2_bn[0][0]']  \n",
            " ation)                                                                                           \n",
            "                                                                                                  \n",
            " block6_sepconv3 (Separable  (None, 14, 14, 728)          536536    ['block6_sepconv3_act[0][0]'] \n",
            " Conv2D)                                                                                          \n",
            "                                                                                                  \n",
            " block6_sepconv3_bn (BatchN  (None, 14, 14, 728)          2912      ['block6_sepconv3[0][0]']     \n",
            " ormalization)                                                                                    \n",
            "                                                                                                  \n",
            " add_16 (Add)                (None, 14, 14, 728)          0         ['block6_sepconv3_bn[0][0]',  \n",
            "                                                                     'add_15[0][0]']              \n",
            "                                                                                                  \n",
            " block7_sepconv1_act (Activ  (None, 14, 14, 728)          0         ['add_16[0][0]']              \n",
            " ation)                                                                                           \n",
            "                                                                                                  \n",
            " block7_sepconv1 (Separable  (None, 14, 14, 728)          536536    ['block7_sepconv1_act[0][0]'] \n",
            " Conv2D)                                                                                          \n",
            "                                                                                                  \n",
            " block7_sepconv1_bn (BatchN  (None, 14, 14, 728)          2912      ['block7_sepconv1[0][0]']     \n",
            " ormalization)                                                                                    \n",
            "                                                                                                  \n",
            " block7_sepconv2_act (Activ  (None, 14, 14, 728)          0         ['block7_sepconv1_bn[0][0]']  \n",
            " ation)                                                                                           \n",
            "                                                                                                  \n",
            " block7_sepconv2 (Separable  (None, 14, 14, 728)          536536    ['block7_sepconv2_act[0][0]'] \n",
            " Conv2D)                                                                                          \n",
            "                                                                                                  \n",
            " block7_sepconv2_bn (BatchN  (None, 14, 14, 728)          2912      ['block7_sepconv2[0][0]']     \n",
            " ormalization)                                                                                    \n",
            "                                                                                                  \n",
            " block7_sepconv3_act (Activ  (None, 14, 14, 728)          0         ['block7_sepconv2_bn[0][0]']  \n",
            " ation)                                                                                           \n",
            "                                                                                                  \n",
            " block7_sepconv3 (Separable  (None, 14, 14, 728)          536536    ['block7_sepconv3_act[0][0]'] \n",
            " Conv2D)                                                                                          \n",
            "                                                                                                  \n",
            " block7_sepconv3_bn (BatchN  (None, 14, 14, 728)          2912      ['block7_sepconv3[0][0]']     \n",
            " ormalization)                                                                                    \n",
            "                                                                                                  \n",
            " add_17 (Add)                (None, 14, 14, 728)          0         ['block7_sepconv3_bn[0][0]',  \n",
            "                                                                     'add_16[0][0]']              \n",
            "                                                                                                  \n",
            " block8_sepconv1_act (Activ  (None, 14, 14, 728)          0         ['add_17[0][0]']              \n",
            " ation)                                                                                           \n",
            "                                                                                                  \n",
            " block8_sepconv1 (Separable  (None, 14, 14, 728)          536536    ['block8_sepconv1_act[0][0]'] \n",
            " Conv2D)                                                                                          \n",
            "                                                                                                  \n",
            " block8_sepconv1_bn (BatchN  (None, 14, 14, 728)          2912      ['block8_sepconv1[0][0]']     \n",
            " ormalization)                                                                                    \n",
            "                                                                                                  \n",
            " block8_sepconv2_act (Activ  (None, 14, 14, 728)          0         ['block8_sepconv1_bn[0][0]']  \n",
            " ation)                                                                                           \n",
            "                                                                                                  \n",
            " block8_sepconv2 (Separable  (None, 14, 14, 728)          536536    ['block8_sepconv2_act[0][0]'] \n",
            " Conv2D)                                                                                          \n",
            "                                                                                                  \n",
            " block8_sepconv2_bn (BatchN  (None, 14, 14, 728)          2912      ['block8_sepconv2[0][0]']     \n",
            " ormalization)                                                                                    \n",
            "                                                                                                  \n",
            " block8_sepconv3_act (Activ  (None, 14, 14, 728)          0         ['block8_sepconv2_bn[0][0]']  \n",
            " ation)                                                                                           \n",
            "                                                                                                  \n",
            " block8_sepconv3 (Separable  (None, 14, 14, 728)          536536    ['block8_sepconv3_act[0][0]'] \n",
            " Conv2D)                                                                                          \n",
            "                                                                                                  \n",
            " block8_sepconv3_bn (BatchN  (None, 14, 14, 728)          2912      ['block8_sepconv3[0][0]']     \n",
            " ormalization)                                                                                    \n",
            "                                                                                                  \n",
            " add_18 (Add)                (None, 14, 14, 728)          0         ['block8_sepconv3_bn[0][0]',  \n",
            "                                                                     'add_17[0][0]']              \n",
            "                                                                                                  \n",
            " block9_sepconv1_act (Activ  (None, 14, 14, 728)          0         ['add_18[0][0]']              \n",
            " ation)                                                                                           \n",
            "                                                                                                  \n",
            " block9_sepconv1 (Separable  (None, 14, 14, 728)          536536    ['block9_sepconv1_act[0][0]'] \n",
            " Conv2D)                                                                                          \n",
            "                                                                                                  \n",
            " block9_sepconv1_bn (BatchN  (None, 14, 14, 728)          2912      ['block9_sepconv1[0][0]']     \n",
            " ormalization)                                                                                    \n",
            "                                                                                                  \n",
            " block9_sepconv2_act (Activ  (None, 14, 14, 728)          0         ['block9_sepconv1_bn[0][0]']  \n",
            " ation)                                                                                           \n",
            "                                                                                                  \n",
            " block9_sepconv2 (Separable  (None, 14, 14, 728)          536536    ['block9_sepconv2_act[0][0]'] \n",
            " Conv2D)                                                                                          \n",
            "                                                                                                  \n",
            " block9_sepconv2_bn (BatchN  (None, 14, 14, 728)          2912      ['block9_sepconv2[0][0]']     \n",
            " ormalization)                                                                                    \n",
            "                                                                                                  \n",
            " block9_sepconv3_act (Activ  (None, 14, 14, 728)          0         ['block9_sepconv2_bn[0][0]']  \n",
            " ation)                                                                                           \n",
            "                                                                                                  \n",
            " block9_sepconv3 (Separable  (None, 14, 14, 728)          536536    ['block9_sepconv3_act[0][0]'] \n",
            " Conv2D)                                                                                          \n",
            "                                                                                                  \n",
            " block9_sepconv3_bn (BatchN  (None, 14, 14, 728)          2912      ['block9_sepconv3[0][0]']     \n",
            " ormalization)                                                                                    \n",
            "                                                                                                  \n",
            " add_19 (Add)                (None, 14, 14, 728)          0         ['block9_sepconv3_bn[0][0]',  \n",
            "                                                                     'add_18[0][0]']              \n",
            "                                                                                                  \n",
            " block10_sepconv1_act (Acti  (None, 14, 14, 728)          0         ['add_19[0][0]']              \n",
            " vation)                                                                                          \n",
            "                                                                                                  \n",
            " block10_sepconv1 (Separabl  (None, 14, 14, 728)          536536    ['block10_sepconv1_act[0][0]']\n",
            " eConv2D)                                                                                         \n",
            "                                                                                                  \n",
            " block10_sepconv1_bn (Batch  (None, 14, 14, 728)          2912      ['block10_sepconv1[0][0]']    \n",
            " Normalization)                                                                                   \n",
            "                                                                                                  \n",
            " block10_sepconv2_act (Acti  (None, 14, 14, 728)          0         ['block10_sepconv1_bn[0][0]'] \n",
            " vation)                                                                                          \n",
            "                                                                                                  \n",
            " block10_sepconv2 (Separabl  (None, 14, 14, 728)          536536    ['block10_sepconv2_act[0][0]']\n",
            " eConv2D)                                                                                         \n",
            "                                                                                                  \n",
            " block10_sepconv2_bn (Batch  (None, 14, 14, 728)          2912      ['block10_sepconv2[0][0]']    \n",
            " Normalization)                                                                                   \n",
            "                                                                                                  \n",
            " block10_sepconv3_act (Acti  (None, 14, 14, 728)          0         ['block10_sepconv2_bn[0][0]'] \n",
            " vation)                                                                                          \n",
            "                                                                                                  \n",
            " block10_sepconv3 (Separabl  (None, 14, 14, 728)          536536    ['block10_sepconv3_act[0][0]']\n",
            " eConv2D)                                                                                         \n",
            "                                                                                                  \n",
            " block10_sepconv3_bn (Batch  (None, 14, 14, 728)          2912      ['block10_sepconv3[0][0]']    \n",
            " Normalization)                                                                                   \n",
            "                                                                                                  \n",
            " add_20 (Add)                (None, 14, 14, 728)          0         ['block10_sepconv3_bn[0][0]', \n",
            "                                                                     'add_19[0][0]']              \n",
            "                                                                                                  \n",
            " block11_sepconv1_act (Acti  (None, 14, 14, 728)          0         ['add_20[0][0]']              \n",
            " vation)                                                                                          \n",
            "                                                                                                  \n",
            " block11_sepconv1 (Separabl  (None, 14, 14, 728)          536536    ['block11_sepconv1_act[0][0]']\n",
            " eConv2D)                                                                                         \n",
            "                                                                                                  \n",
            " block11_sepconv1_bn (Batch  (None, 14, 14, 728)          2912      ['block11_sepconv1[0][0]']    \n",
            " Normalization)                                                                                   \n",
            "                                                                                                  \n",
            " block11_sepconv2_act (Acti  (None, 14, 14, 728)          0         ['block11_sepconv1_bn[0][0]'] \n",
            " vation)                                                                                          \n",
            "                                                                                                  \n",
            " block11_sepconv2 (Separabl  (None, 14, 14, 728)          536536    ['block11_sepconv2_act[0][0]']\n",
            " eConv2D)                                                                                         \n",
            "                                                                                                  \n",
            " block11_sepconv2_bn (Batch  (None, 14, 14, 728)          2912      ['block11_sepconv2[0][0]']    \n",
            " Normalization)                                                                                   \n",
            "                                                                                                  \n",
            " block11_sepconv3_act (Acti  (None, 14, 14, 728)          0         ['block11_sepconv2_bn[0][0]'] \n",
            " vation)                                                                                          \n",
            "                                                                                                  \n",
            " block11_sepconv3 (Separabl  (None, 14, 14, 728)          536536    ['block11_sepconv3_act[0][0]']\n",
            " eConv2D)                                                                                         \n",
            "                                                                                                  \n",
            " block11_sepconv3_bn (Batch  (None, 14, 14, 728)          2912      ['block11_sepconv3[0][0]']    \n",
            " Normalization)                                                                                   \n",
            "                                                                                                  \n",
            " add_21 (Add)                (None, 14, 14, 728)          0         ['block11_sepconv3_bn[0][0]', \n",
            "                                                                     'add_20[0][0]']              \n",
            "                                                                                                  \n",
            " block12_sepconv1_act (Acti  (None, 14, 14, 728)          0         ['add_21[0][0]']              \n",
            " vation)                                                                                          \n",
            "                                                                                                  \n",
            " block12_sepconv1 (Separabl  (None, 14, 14, 728)          536536    ['block12_sepconv1_act[0][0]']\n",
            " eConv2D)                                                                                         \n",
            "                                                                                                  \n",
            " block12_sepconv1_bn (Batch  (None, 14, 14, 728)          2912      ['block12_sepconv1[0][0]']    \n",
            " Normalization)                                                                                   \n",
            "                                                                                                  \n",
            " block12_sepconv2_act (Acti  (None, 14, 14, 728)          0         ['block12_sepconv1_bn[0][0]'] \n",
            " vation)                                                                                          \n",
            "                                                                                                  \n",
            " block12_sepconv2 (Separabl  (None, 14, 14, 728)          536536    ['block12_sepconv2_act[0][0]']\n",
            " eConv2D)                                                                                         \n",
            "                                                                                                  \n",
            " block12_sepconv2_bn (Batch  (None, 14, 14, 728)          2912      ['block12_sepconv2[0][0]']    \n",
            " Normalization)                                                                                   \n",
            "                                                                                                  \n",
            " block12_sepconv3_act (Acti  (None, 14, 14, 728)          0         ['block12_sepconv2_bn[0][0]'] \n",
            " vation)                                                                                          \n",
            "                                                                                                  \n",
            " block12_sepconv3 (Separabl  (None, 14, 14, 728)          536536    ['block12_sepconv3_act[0][0]']\n",
            " eConv2D)                                                                                         \n",
            "                                                                                                  \n",
            " block12_sepconv3_bn (Batch  (None, 14, 14, 728)          2912      ['block12_sepconv3[0][0]']    \n",
            " Normalization)                                                                                   \n",
            "                                                                                                  \n",
            " add_22 (Add)                (None, 14, 14, 728)          0         ['block12_sepconv3_bn[0][0]', \n",
            "                                                                     'add_21[0][0]']              \n",
            "                                                                                                  \n",
            " block13_sepconv1_act (Acti  (None, 14, 14, 728)          0         ['add_22[0][0]']              \n",
            " vation)                                                                                          \n",
            "                                                                                                  \n",
            " block13_sepconv1 (Separabl  (None, 14, 14, 728)          536536    ['block13_sepconv1_act[0][0]']\n",
            " eConv2D)                                                                                         \n",
            "                                                                                                  \n",
            " block13_sepconv1_bn (Batch  (None, 14, 14, 728)          2912      ['block13_sepconv1[0][0]']    \n",
            " Normalization)                                                                                   \n",
            "                                                                                                  \n",
            " block13_sepconv2_act (Acti  (None, 14, 14, 728)          0         ['block13_sepconv1_bn[0][0]'] \n",
            " vation)                                                                                          \n",
            "                                                                                                  \n",
            " block13_sepconv2 (Separabl  (None, 14, 14, 1024)         752024    ['block13_sepconv2_act[0][0]']\n",
            " eConv2D)                                                                                         \n",
            "                                                                                                  \n",
            " block13_sepconv2_bn (Batch  (None, 14, 14, 1024)         4096      ['block13_sepconv2[0][0]']    \n",
            " Normalization)                                                                                   \n",
            "                                                                                                  \n",
            " conv2d_10 (Conv2D)          (None, 7, 7, 1024)           745472    ['add_22[0][0]']              \n",
            "                                                                                                  \n",
            " block13_pool (MaxPooling2D  (None, 7, 7, 1024)           0         ['block13_sepconv2_bn[0][0]'] \n",
            " )                                                                                                \n",
            "                                                                                                  \n",
            " batch_normalization_10 (Ba  (None, 7, 7, 1024)           4096      ['conv2d_10[0][0]']           \n",
            " tchNormalization)                                                                                \n",
            "                                                                                                  \n",
            " add_23 (Add)                (None, 7, 7, 1024)           0         ['block13_pool[0][0]',        \n",
            "                                                                     'batch_normalization_10[0][0]\n",
            "                                                                    ']                            \n",
            "                                                                                                  \n",
            " block14_sepconv1 (Separabl  (None, 7, 7, 1536)           1582080   ['add_23[0][0]']              \n",
            " eConv2D)                                                                                         \n",
            "                                                                                                  \n",
            " block14_sepconv1_bn (Batch  (None, 7, 7, 1536)           6144      ['block14_sepconv1[0][0]']    \n",
            " Normalization)                                                                                   \n",
            "                                                                                                  \n",
            " block14_sepconv1_act (Acti  (None, 7, 7, 1536)           0         ['block14_sepconv1_bn[0][0]'] \n",
            " vation)                                                                                          \n",
            "                                                                                                  \n",
            " block14_sepconv2 (Separabl  (None, 7, 7, 2048)           3159552   ['block14_sepconv1_act[0][0]']\n",
            " eConv2D)                                                                                         \n",
            "                                                                                                  \n",
            " block14_sepconv2_bn (Batch  (None, 7, 7, 2048)           8192      ['block14_sepconv2[0][0]']    \n",
            " Normalization)                                                                                   \n",
            "                                                                                                  \n",
            " block14_sepconv2_act (Acti  (None, 7, 7, 2048)           0         ['block14_sepconv2_bn[0][0]'] \n",
            " vation)                                                                                          \n",
            "                                                                                                  \n",
            "==================================================================================================\n",
            "Total params: 20861480 (79.58 MB)\n",
            "Trainable params: 0 (0.00 Byte)\n",
            "Non-trainable params: 20861480 (79.58 MB)\n",
            "__________________________________________________________________________________________________\n"
          ]
        }
      ]
    },
    {
      "cell_type": "code",
      "source": [
        "model_xception_task3_1 = Sequential()\n",
        "model_xception_task3_1.add(xception_net_task3_1)\n",
        "\n",
        "model_xception_task3_1.add(Flatten())\n",
        "model_xception_task3_1.add(Dense(2048))\n",
        "model_xception_task3_1.add(BatchNormalization())\n",
        "model_xception_task3_1.add(LeakyReLU(alpha=0.1))\n",
        "model_xception_task3_1.add(Dropout(0.5))\n",
        "\n",
        "model_xception_task3_1.add(Dense(1024))\n",
        "model_xception_task3_1.add(BatchNormalization())\n",
        "model_xception_task3_1.add(LeakyReLU(alpha=0.1))\n",
        "model_xception_task3_1.add(Dropout(0.5))\n",
        "\n",
        "model_xception_task3_1.add(Dense(512))\n",
        "model_xception_task3_1.add(BatchNormalization())\n",
        "model_xception_task3_1.add(LeakyReLU(alpha=0.1))\n",
        "model_xception_task3_1.add(Dropout(0.5))\n",
        "\n",
        "model_xception_task3_1.add(Dense(256))\n",
        "model_xception_task3_1.add(BatchNormalization())\n",
        "model_xception_task3_1.add(LeakyReLU(alpha=0.1))\n",
        "model_xception_task3_1.add(Dropout(0.5))\n",
        "\n",
        "model_xception_task3_1.add(Dense(128))\n",
        "model_xception_task3_1.add(BatchNormalization())\n",
        "model_xception_task3_1.add(LeakyReLU(alpha=0.1))\n",
        "model_xception_task3_1.add(Dropout(0.5))\n",
        "\n",
        "model_xception_task3_1.add(Dense(1, activation='sigmoid'))\n",
        "\n",
        "model_xception_task3_1.summary()"
      ],
      "metadata": {
        "id": "5-TT42LATox9",
        "colab": {
          "base_uri": "https://localhost:8080/"
        },
        "outputId": "bbcf2f8e-5212-4767-e8e8-6f25246c5ce8"
      },
      "execution_count": null,
      "outputs": [
        {
          "output_type": "stream",
          "name": "stdout",
          "text": [
            "Model: \"sequential_4\"\n",
            "_________________________________________________________________\n",
            " Layer (type)                Output Shape              Param #   \n",
            "=================================================================\n",
            " xception (Functional)       (None, 7, 7, 2048)        20861480  \n",
            "                                                                 \n",
            " flatten_4 (Flatten)         (None, 100352)            0         \n",
            "                                                                 \n",
            " dense_10 (Dense)            (None, 2048)              205522944 \n",
            "                                                                 \n",
            " batch_normalization_11 (Ba  (None, 2048)              8192      \n",
            " tchNormalization)                                               \n",
            "                                                                 \n",
            " leaky_re_lu_3 (LeakyReLU)   (None, 2048)              0         \n",
            "                                                                 \n",
            " dropout_6 (Dropout)         (None, 2048)              0         \n",
            "                                                                 \n",
            " dense_11 (Dense)            (None, 1024)              2098176   \n",
            "                                                                 \n",
            " batch_normalization_12 (Ba  (None, 1024)              4096      \n",
            " tchNormalization)                                               \n",
            "                                                                 \n",
            " leaky_re_lu_4 (LeakyReLU)   (None, 1024)              0         \n",
            "                                                                 \n",
            " dropout_7 (Dropout)         (None, 1024)              0         \n",
            "                                                                 \n",
            " dense_12 (Dense)            (None, 512)               524800    \n",
            "                                                                 \n",
            " batch_normalization_13 (Ba  (None, 512)               2048      \n",
            " tchNormalization)                                               \n",
            "                                                                 \n",
            " leaky_re_lu_5 (LeakyReLU)   (None, 512)               0         \n",
            "                                                                 \n",
            " dropout_8 (Dropout)         (None, 512)               0         \n",
            "                                                                 \n",
            " dense_13 (Dense)            (None, 256)               131328    \n",
            "                                                                 \n",
            " batch_normalization_14 (Ba  (None, 256)               1024      \n",
            " tchNormalization)                                               \n",
            "                                                                 \n",
            " leaky_re_lu_6 (LeakyReLU)   (None, 256)               0         \n",
            "                                                                 \n",
            " dropout_9 (Dropout)         (None, 256)               0         \n",
            "                                                                 \n",
            " dense_14 (Dense)            (None, 128)               32896     \n",
            "                                                                 \n",
            " batch_normalization_15 (Ba  (None, 128)               512       \n",
            " tchNormalization)                                               \n",
            "                                                                 \n",
            " leaky_re_lu_7 (LeakyReLU)   (None, 128)               0         \n",
            "                                                                 \n",
            " dropout_10 (Dropout)        (None, 128)               0         \n",
            "                                                                 \n",
            " dense_15 (Dense)            (None, 1)                 129       \n",
            "                                                                 \n",
            "=================================================================\n",
            "Total params: 229187625 (874.28 MB)\n",
            "Trainable params: 208318209 (794.67 MB)\n",
            "Non-trainable params: 20869416 (79.61 MB)\n",
            "_________________________________________________________________\n"
          ]
        }
      ]
    },
    {
      "cell_type": "code",
      "source": [
        "model_xception_task3_1.compile(loss='binary_crossentropy',\n",
        "                             optimizer=Adam(learning_rate=1e-5),\n",
        "                             metrics=['accuracy'])"
      ],
      "metadata": {
        "id": "iD4U7GGqTovR"
      },
      "execution_count": null,
      "outputs": []
    },
    {
      "cell_type": "code",
      "source": [
        "early_stopping = EarlyStopping(monitor='val_accuracy', patience=20, mode='max', verbose=1)"
      ],
      "metadata": {
        "id": "mqlYxWUqTos7"
      },
      "execution_count": null,
      "outputs": []
    },
    {
      "cell_type": "code",
      "source": [
        "def lr_schedule(epoch):\n",
        "    lr = 1e-5 * np.exp(-0.1 * epoch)\n",
        "    return lr\n",
        "\n",
        "lr_scheduler = LearningRateScheduler(lr_schedule)"
      ],
      "metadata": {
        "id": "VXJJsjPiToqj"
      },
      "execution_count": null,
      "outputs": []
    },
    {
      "cell_type": "code",
      "source": [
        "checkpoint = ModelCheckpoint('best_model.h5', monitor='accuracy', save_best_only=True, mode='max', verbose=1)"
      ],
      "metadata": {
        "id": "vkSYFPT0zzoI"
      },
      "execution_count": null,
      "outputs": []
    },
    {
      "cell_type": "code",
      "source": [
        "from keras import backend as K\n",
        "K.clear_session()"
      ],
      "metadata": {
        "id": "Ob3zDv-NCxKF"
      },
      "execution_count": null,
      "outputs": []
    },
    {
      "cell_type": "code",
      "source": [
        "Model_Xception_task3_1 = model_xception_task3_1.fit_generator(\n",
        "    train_generator,\n",
        "    steps_per_epoch=nb_train_samples // batch_size,\n",
        "    epochs=50,\n",
        "    validation_data=val_generator,\n",
        "    validation_steps=nb_validation_samples // batch_size,\n",
        "    callbacks=[checkpoint, early_stopping, lr_scheduler])"
      ],
      "metadata": {
        "id": "TO_w-L1ZTooN",
        "colab": {
          "base_uri": "https://localhost:8080/"
        },
        "outputId": "4cedee74-2fb4-4d3b-d23a-6b3cfedfe3e5"
      },
      "execution_count": null,
      "outputs": [
        {
          "output_type": "stream",
          "name": "stdout",
          "text": [
            "Epoch 1/50\n",
            "312/312 [==============================] - ETA: 0s - loss: 0.3570 - accuracy: 0.8522\n",
            "Epoch 1: accuracy improved from -inf to 0.85218, saving model to best_model.h5\n",
            "312/312 [==============================] - 182s 583ms/step - loss: 0.3570 - accuracy: 0.8522 - val_loss: 0.1298 - val_accuracy: 0.9848 - lr: 1.0000e-05\n",
            "Epoch 2/50\n",
            "312/312 [==============================] - ETA: 0s - loss: 0.1771 - accuracy: 0.9572\n",
            "Epoch 2: accuracy improved from 0.85218 to 0.95716, saving model to best_model.h5\n",
            "312/312 [==============================] - 80s 257ms/step - loss: 0.1771 - accuracy: 0.9572 - val_loss: 0.0880 - val_accuracy: 0.9856 - lr: 9.0484e-06\n",
            "Epoch 3/50\n",
            "312/312 [==============================] - ETA: 0s - loss: 0.1238 - accuracy: 0.9750\n",
            "Epoch 3: accuracy improved from 0.95716 to 0.97497, saving model to best_model.h5\n",
            "312/312 [==============================] - 77s 244ms/step - loss: 0.1238 - accuracy: 0.9750 - val_loss: 0.0696 - val_accuracy: 0.9877 - lr: 8.1873e-06\n",
            "Epoch 4/50\n",
            "312/312 [==============================] - ETA: 0s - loss: 0.0938 - accuracy: 0.9831\n",
            "Epoch 4: accuracy improved from 0.97497 to 0.98310, saving model to best_model.h5\n",
            "312/312 [==============================] - 100s 317ms/step - loss: 0.0938 - accuracy: 0.9831 - val_loss: 0.0564 - val_accuracy: 0.9877 - lr: 7.4082e-06\n",
            "Epoch 5/50\n",
            "312/312 [==============================] - ETA: 0s - loss: 0.0783 - accuracy: 0.9855\n",
            "Epoch 5: accuracy improved from 0.98310 to 0.98545, saving model to best_model.h5\n",
            "312/312 [==============================] - 76s 240ms/step - loss: 0.0783 - accuracy: 0.9855 - val_loss: 0.0502 - val_accuracy: 0.9873 - lr: 6.7032e-06\n",
            "Epoch 6/50\n",
            "312/312 [==============================] - ETA: 0s - loss: 0.0671 - accuracy: 0.9854\n",
            "Epoch 6: accuracy did not improve from 0.98545\n",
            "312/312 [==============================] - 68s 216ms/step - loss: 0.0671 - accuracy: 0.9854 - val_loss: 0.0450 - val_accuracy: 0.9873 - lr: 6.0653e-06\n",
            "Epoch 7/50\n",
            "312/312 [==============================] - ETA: 0s - loss: 0.0587 - accuracy: 0.9880\n",
            "Epoch 7: accuracy improved from 0.98545 to 0.98796, saving model to best_model.h5\n",
            "312/312 [==============================] - 73s 233ms/step - loss: 0.0587 - accuracy: 0.9880 - val_loss: 0.0427 - val_accuracy: 0.9868 - lr: 5.4881e-06\n",
            "Epoch 8/50\n",
            "312/312 [==============================] - ETA: 0s - loss: 0.0524 - accuracy: 0.9899\n",
            "Epoch 8: accuracy improved from 0.98796 to 0.98992, saving model to best_model.h5\n",
            "312/312 [==============================] - 77s 245ms/step - loss: 0.0524 - accuracy: 0.9899 - val_loss: 0.0411 - val_accuracy: 0.9873 - lr: 4.9659e-06\n",
            "Epoch 9/50\n",
            "312/312 [==============================] - ETA: 0s - loss: 0.0473 - accuracy: 0.9906\n",
            "Epoch 9: accuracy improved from 0.98992 to 0.99057, saving model to best_model.h5\n",
            "312/312 [==============================] - 78s 241ms/step - loss: 0.0473 - accuracy: 0.9906 - val_loss: 0.0399 - val_accuracy: 0.9864 - lr: 4.4933e-06\n",
            "Epoch 10/50\n",
            "312/312 [==============================] - ETA: 0s - loss: 0.0427 - accuracy: 0.9912\n",
            "Epoch 10: accuracy improved from 0.99057 to 0.99122, saving model to best_model.h5\n",
            "312/312 [==============================] - 76s 240ms/step - loss: 0.0427 - accuracy: 0.9912 - val_loss: 0.0398 - val_accuracy: 0.9868 - lr: 4.0657e-06\n",
            "Epoch 11/50\n",
            "312/312 [==============================] - ETA: 0s - loss: 0.0401 - accuracy: 0.9920\n",
            "Epoch 11: accuracy improved from 0.99122 to 0.99202, saving model to best_model.h5\n",
            "312/312 [==============================] - 73s 231ms/step - loss: 0.0401 - accuracy: 0.9920 - val_loss: 0.0388 - val_accuracy: 0.9864 - lr: 3.6788e-06\n",
            "Epoch 12/50\n",
            "312/312 [==============================] - ETA: 0s - loss: 0.0364 - accuracy: 0.9925\n",
            "Epoch 12: accuracy improved from 0.99202 to 0.99248, saving model to best_model.h5\n",
            "312/312 [==============================] - 82s 256ms/step - loss: 0.0364 - accuracy: 0.9925 - val_loss: 0.0385 - val_accuracy: 0.9864 - lr: 3.3287e-06\n",
            "Epoch 13/50\n",
            "312/312 [==============================] - ETA: 0s - loss: 0.0339 - accuracy: 0.9942\n",
            "Epoch 13: accuracy improved from 0.99248 to 0.99418, saving model to best_model.h5\n",
            "312/312 [==============================] - 73s 233ms/step - loss: 0.0339 - accuracy: 0.9942 - val_loss: 0.0380 - val_accuracy: 0.9873 - lr: 3.0119e-06\n",
            "Epoch 14/50\n",
            "312/312 [==============================] - ETA: 0s - loss: 0.0326 - accuracy: 0.9935\n",
            "Epoch 14: accuracy did not improve from 0.99418\n",
            "312/312 [==============================] - 68s 218ms/step - loss: 0.0326 - accuracy: 0.9935 - val_loss: 0.0374 - val_accuracy: 0.9864 - lr: 2.7253e-06\n",
            "Epoch 15/50\n",
            "312/312 [==============================] - ETA: 0s - loss: 0.0293 - accuracy: 0.9947\n",
            "Epoch 15: accuracy improved from 0.99418 to 0.99468, saving model to best_model.h5\n",
            "312/312 [==============================] - 88s 255ms/step - loss: 0.0293 - accuracy: 0.9947 - val_loss: 0.0399 - val_accuracy: 0.9873 - lr: 2.4660e-06\n",
            "Epoch 16/50\n",
            "312/312 [==============================] - ETA: 0s - loss: 0.0285 - accuracy: 0.9948\n",
            "Epoch 16: accuracy improved from 0.99468 to 0.99478, saving model to best_model.h5\n",
            "312/312 [==============================] - 80s 248ms/step - loss: 0.0285 - accuracy: 0.9948 - val_loss: 0.0387 - val_accuracy: 0.9868 - lr: 2.2313e-06\n",
            "Epoch 17/50\n",
            "312/312 [==============================] - ETA: 0s - loss: 0.0253 - accuracy: 0.9961\n",
            "Epoch 17: accuracy improved from 0.99478 to 0.99614, saving model to best_model.h5\n",
            "312/312 [==============================] - 123s 393ms/step - loss: 0.0253 - accuracy: 0.9961 - val_loss: 0.0369 - val_accuracy: 0.9873 - lr: 2.0190e-06\n",
            "Epoch 18/50\n",
            "312/312 [==============================] - ETA: 0s - loss: 0.0242 - accuracy: 0.9959\n",
            "Epoch 18: accuracy did not improve from 0.99614\n",
            "312/312 [==============================] - 71s 225ms/step - loss: 0.0242 - accuracy: 0.9959 - val_loss: 0.0401 - val_accuracy: 0.9873 - lr: 1.8268e-06\n",
            "Epoch 19/50\n",
            "312/312 [==============================] - ETA: 0s - loss: 0.0228 - accuracy: 0.9968\n",
            "Epoch 19: accuracy improved from 0.99614 to 0.99679, saving model to best_model.h5\n",
            "312/312 [==============================] - 79s 246ms/step - loss: 0.0228 - accuracy: 0.9968 - val_loss: 0.0401 - val_accuracy: 0.9868 - lr: 1.6530e-06\n",
            "Epoch 20/50\n",
            "312/312 [==============================] - ETA: 0s - loss: 0.0212 - accuracy: 0.9976\n",
            "Epoch 20: accuracy improved from 0.99679 to 0.99764, saving model to best_model.h5\n",
            "312/312 [==============================] - 83s 258ms/step - loss: 0.0212 - accuracy: 0.9976 - val_loss: 0.0401 - val_accuracy: 0.9868 - lr: 1.4957e-06\n",
            "Epoch 21/50\n",
            "312/312 [==============================] - ETA: 0s - loss: 0.0219 - accuracy: 0.9969\n",
            "Epoch 21: accuracy did not improve from 0.99764\n",
            "312/312 [==============================] - 73s 233ms/step - loss: 0.0219 - accuracy: 0.9969 - val_loss: 0.0420 - val_accuracy: 0.9864 - lr: 1.3534e-06\n",
            "Epoch 22/50\n",
            "312/312 [==============================] - ETA: 0s - loss: 0.0205 - accuracy: 0.9972\n",
            "Epoch 22: accuracy did not improve from 0.99764\n",
            "312/312 [==============================] - 72s 221ms/step - loss: 0.0205 - accuracy: 0.9972 - val_loss: 0.0410 - val_accuracy: 0.9864 - lr: 1.2246e-06\n",
            "Epoch 23/50\n",
            "312/312 [==============================] - ETA: 0s - loss: 0.0192 - accuracy: 0.9977\n",
            "Epoch 23: accuracy improved from 0.99764 to 0.99769, saving model to best_model.h5\n",
            "312/312 [==============================] - 77s 246ms/step - loss: 0.0192 - accuracy: 0.9977 - val_loss: 0.0407 - val_accuracy: 0.9864 - lr: 1.1080e-06\n",
            "Epoch 23: early stopping\n"
          ]
        }
      ]
    },
    {
      "cell_type": "markdown",
      "source": [
        "### Predictions (attempt 2)"
      ],
      "metadata": {
        "id": "Vmf_psos7lUV"
      }
    },
    {
      "cell_type": "code",
      "source": [
        "predict_and_print(model_xception_task3_1, cats_feature, \"Model Xception\", \"cats\")"
      ],
      "metadata": {
        "id": "H0enRV3HVbrw",
        "colab": {
          "base_uri": "https://localhost:8080/"
        },
        "outputId": "69e82972-ee3a-4239-d8b9-ad3d6fd14155"
      },
      "execution_count": null,
      "outputs": [
        {
          "output_type": "stream",
          "name": "stderr",
          "text": [
            "WARNING:tensorflow:5 out of the last 9 calls to <function Model.make_predict_function.<locals>.predict_function at 0x7f27ebd5d6c0> triggered tf.function retracing. Tracing is expensive and the excessive number of tracings could be due to (1) creating @tf.function repeatedly in a loop, (2) passing tensors with different shapes, (3) passing Python objects instead of tensors. For (1), please define your @tf.function outside of the loop. For (2), @tf.function has reduce_retracing=True option that can avoid unnecessary retracing. For (3), please refer to https://www.tensorflow.org/guide/function#controlling_retracing and https://www.tensorflow.org/api_docs/python/tf/function for  more details.\n"
          ]
        },
        {
          "output_type": "stream",
          "name": "stdout",
          "text": [
            "1/1 [==============================] - 13s 13s/step\n",
            "Model Model Xception, predicted cats as a cats\n"
          ]
        }
      ]
    },
    {
      "cell_type": "code",
      "source": [
        "predict_and_print(model_xception_task3_1, dogs_feature, \"Model Xception\", \"dogs\")"
      ],
      "metadata": {
        "colab": {
          "base_uri": "https://localhost:8080/"
        },
        "id": "R2Yj1AmOWu72",
        "outputId": "b5a2155d-54db-4317-fdb4-be197ed72f0b"
      },
      "execution_count": null,
      "outputs": [
        {
          "output_type": "stream",
          "name": "stdout",
          "text": [
            "1/1 [==============================] - 0s 101ms/step\n",
            "Model Model Xception, predicted dogs as a cats\n"
          ]
        }
      ]
    },
    {
      "cell_type": "markdown",
      "source": [
        "### Accuracy on the test data (attempt 2)"
      ],
      "metadata": {
        "id": "Ic21Wsj57mxn"
      }
    },
    {
      "cell_type": "code",
      "source": [
        "from keras.models import load_model\n",
        "import tensorflow as tf"
      ],
      "metadata": {
        "id": "dKHiXDsF32_4"
      },
      "execution_count": null,
      "outputs": []
    },
    {
      "cell_type": "code",
      "source": [
        "with tf.device('/device:gpu:0'):\n",
        "    best_model = load_model('best_model.h5')\n",
        "\n",
        "    scores_best_model = best_model.evaluate_generator(test_generator, nb_test_samples // batch_size)\n",
        "    print(\"Accuracy on test data (best_model): %.5f%%\" % (scores_best_model[1] * 100))"
      ],
      "metadata": {
        "colab": {
          "base_uri": "https://localhost:8080/"
        },
        "id": "ENL_P6na3KcD",
        "outputId": "b350c037-4ac5-4aea-ef45-d2530391e4de"
      },
      "execution_count": null,
      "outputs": [
        {
          "output_type": "stream",
          "name": "stdout",
          "text": [
            "Accuracy on test data (best_model): 98.55769%\n"
          ]
        }
      ]
    },
    {
      "cell_type": "markdown",
      "source": [
        "# Conclusion"
      ],
      "metadata": {
        "id": "hrVZchstJq_m"
      }
    },
    {
      "cell_type": "markdown",
      "source": [
        "In this task, we addressed the binary classification problem using various deep learning techniques.\n",
        "\n",
        "In **Part 1**, we constructed and trained a Convolutional Neural Network (CNN) with three convolutional layers, achieving a satisfactory level of accuracy on the test data. The evaluation of the model's performance was supplemented by the graphical representation of the loss and accuracy trends over the epochs.\n",
        "\n",
        "Moving to **Part 2**, we delved into Transfer Learning by leveraging pre-trained VGG16, ResNet50, and Xception models from the Keras applications. The accuracy evaluation on the test data for both VGG16 and Xception models demonstrated their effectiveness in handling the classification task. We also visualized the loss and accuracy trends, offering insights into the convergence and performance of the transfer learning models.\n",
        "\n",
        "|Model|Accuracy on test data|\n",
        "|:---:|:---:|\n",
        "|3Conv (10 epochs) | 83.81%|\n",
        "|3Conv (15 epochs) | 84.42%|\n",
        "|3Conv (20 epochs) | 84.78%|\n",
        "|VGG  | 90.30%|\n",
        "|RN50 | 71.39%|\n",
        "|Xception | 95.83%|\n",
        "\n",
        "To verify the practical applicability of the models, we tested their performance on a user image of a cat and a dog, successfully implementing the best algorithm inference function. It is worth noting that all models coped with dog predictions, but only two models - Model with 3Conv layers and VVG16 - coped with the correct prediction of the cat image.\n",
        "\n",
        "In **part 3** the Xception model was trained, I tried two attempts to train the model. In the end, the \"traditional\" way of training the model performed better than using such tricks as early stopping, lr scheduler and checkpoint, and also the trained model predicted the dog's photo incorrectly in the second attempt.\n",
        "\n",
        "|Model|Accuracy on test data|\n",
        "|:---:|:---:|\n",
        "|Xception (attempt 1) | 98.75801%|\n",
        "|Xception (attempt 2) | 98.55769%|\n",
        "\n",
        "\n",
        "**In part 3, the best accuracy result of the Xception model (attempt 1) is achieved on the test sample with a value of 98.75801%**"
      ],
      "metadata": {
        "id": "spd27M53uHkE"
      }
    },
    {
      "cell_type": "code",
      "source": [],
      "metadata": {
        "id": "n0zoM0BO84WF"
      },
      "execution_count": null,
      "outputs": []
    }
  ]
}